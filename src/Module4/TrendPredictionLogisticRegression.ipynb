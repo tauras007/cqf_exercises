{
 "cells": [
  {
   "metadata": {},
   "cell_type": "markdown",
   "source": [
    "## Logistic Regression\n",
    "Logistic Regression is one of the most widely used algorithms for classification that maps quantitative data onto categorial variables. Unlike Linear Regression, where y is an outcome variable, we use a function of y called the logit.\n",
    "\n",
    "Logit can be modelled as a linear function of the predictor\n",
    "\n",
    "$$Logit = log(odds) = w_{0}+w_{1}x_{1}+w_{2}x_{2}+w_{3}x_{3}+.....+w_{q}x_{q}$$\n",
    "\n",
    "and can be mapped back to a probability which in turn can be mapped to a class."
   ],
   "id": "5578f514c358de2a"
  },
  {
   "metadata": {},
   "cell_type": "markdown",
   "source": [
    "## The workflow\n",
    "We'll employ logistic regressor from scikit-learn for stock / equity index trend prediction.\n",
    "<p>\n",
    "<table>\n",
    "<thead>\n",
    "<tr>\n",
    "<th style=\"text-align:left\">Steps</th>\n",
    "<th style=\"text-align:left\">Workflow</th>\n",
    "<th style=\"text-align:left\">Remarks</th>\n",
    "</tr>\n",
    "</thead>\n",
    "<tbody>\n",
    "<tr>\n",
    "<td style=\"text-align:left\">Step 1</td>\n",
    "<td style=\"text-align:left\">Ideation</td>\n",
    "<td style=\"text-align:left\">Predict the trend of the underlying from the given dataset</td>\n",
    "</tr>\n",
    "<tr>\n",
    "<td style=\"text-align:left\">Step 2</td>\n",
    "<td style=\"text-align:left\">Data Collection</td>\n",
    "<td style=\"text-align:left\">Load the dataset from quantmod library page</td>\n",
    "</tr>\n",
    "<tr>\n",
    "<td style=\"text-align:left\">Step 3</td>\n",
    "<td style=\"text-align:left\">Exploratory Data Analysis</td>\n",
    "<td style=\"text-align:left\">Study summary statistics</td>\n",
    "</tr>\n",
    "<tr>\n",
    "<td style=\"text-align:left\">Step 4</td>\n",
    "<td style=\"text-align:left\">Cleaning Dataset</td>\n",
    "<td style=\"text-align:left\">Data already cleaned, no further imputation required</td>\n",
    "</tr>\n",
    "<tr>\n",
    "<td style=\"text-align:left\">Step 5</td>\n",
    "<td style=\"text-align:left\">Transformation</td>\n",
    "<td style=\"text-align:left\">Perform feature scaling based on EDA</td>\n",
    "</tr>\n",
    "<tr>\n",
    "<td style=\"text-align:left\">Step 6</td>\n",
    "<td style=\"text-align:left\">Modeling</td>\n",
    "<td style=\"text-align:left\">Building and training linear regressor</td>\n",
    "</tr>\n",
    "<tr>\n",
    "<td style=\"text-align:left\">Step 7</td>\n",
    "<td style=\"text-align:left\">Metrics</td>\n",
    "<td style=\"text-align:left\">Validating the model performance using score method</td>\n",
    "</tr>\n",
    "</tbody>\n",
    "</table>"
   ],
   "id": "4d0694b70b5cb4da"
  },
  {
   "metadata": {},
   "cell_type": "markdown",
   "source": [
    "## Problem Statement\n",
    "The objective is to predict market movement based on classification algorithm. In this lab, we'll use Logistic Regression to predict market direction and devise a trading strategies based on it."
   ],
   "id": "acd9e0a3b3c918bb"
  },
  {
   "metadata": {
    "ExecuteTime": {
     "end_time": "2024-09-25T11:46:02.439136Z",
     "start_time": "2024-09-25T11:46:00.114440Z"
    }
   },
   "cell_type": "code",
   "source": [
    "\n",
    "# install packages\n",
    "%pip install quantmod quantstats-lumi"
   ],
   "id": "5bba3476f17dc3c",
   "outputs": [
    {
     "name": "stdout",
     "output_type": "stream",
     "text": [
      "Requirement already satisfied: quantmod in /opt/anaconda3/lib/python3.11/site-packages (0.0.2)\r\n",
      "Requirement already satisfied: quantstats-lumi in /opt/anaconda3/lib/python3.11/site-packages (0.3.3)\r\n",
      "Requirement already satisfied: numpy>=2.0.2 in /opt/anaconda3/lib/python3.11/site-packages (from quantmod) (2.1.1)\r\n",
      "Requirement already satisfied: pandas>=2.2.2 in /opt/anaconda3/lib/python3.11/site-packages (from quantmod) (2.2.3)\r\n",
      "Requirement already satisfied: pydantic>=2.8.2 in /opt/anaconda3/lib/python3.11/site-packages (from quantmod) (2.8.2)\r\n",
      "Requirement already satisfied: scipy>=1.13.1 in /opt/anaconda3/lib/python3.11/site-packages (from quantmod) (1.14.1)\r\n",
      "Requirement already satisfied: tabulate>=0.9.0 in /opt/anaconda3/lib/python3.11/site-packages (from quantmod) (0.9.0)\r\n",
      "Requirement already satisfied: urllib3==1.26.15 in /opt/anaconda3/lib/python3.11/site-packages (from quantmod) (1.26.15)\r\n",
      "Requirement already satisfied: yfinance>=0.2.43 in /opt/anaconda3/lib/python3.11/site-packages (from quantmod) (0.2.43)\r\n",
      "Requirement already satisfied: seaborn>=0.13.2 in /opt/anaconda3/lib/python3.11/site-packages (from quantstats-lumi) (0.13.2)\r\n",
      "Requirement already satisfied: matplotlib>=3.0.0 in /opt/anaconda3/lib/python3.11/site-packages (from quantstats-lumi) (3.9.2)\r\n",
      "Requirement already satisfied: python-dateutil>=2.0 in /opt/anaconda3/lib/python3.11/site-packages (from quantstats-lumi) (2.8.2)\r\n",
      "Requirement already satisfied: ipython>=8.22.2 in /opt/anaconda3/lib/python3.11/site-packages (from quantstats-lumi) (8.27.0)\r\n",
      "Requirement already satisfied: decorator in /opt/anaconda3/lib/python3.11/site-packages (from ipython>=8.22.2->quantstats-lumi) (5.1.1)\r\n",
      "Requirement already satisfied: jedi>=0.16 in /opt/anaconda3/lib/python3.11/site-packages (from ipython>=8.22.2->quantstats-lumi) (0.18.1)\r\n",
      "Requirement already satisfied: matplotlib-inline in /opt/anaconda3/lib/python3.11/site-packages (from ipython>=8.22.2->quantstats-lumi) (0.1.6)\r\n",
      "Requirement already satisfied: prompt-toolkit<3.1.0,>=3.0.41 in /opt/anaconda3/lib/python3.11/site-packages (from ipython>=8.22.2->quantstats-lumi) (3.0.43)\r\n",
      "Requirement already satisfied: pygments>=2.4.0 in /opt/anaconda3/lib/python3.11/site-packages (from ipython>=8.22.2->quantstats-lumi) (2.15.1)\r\n",
      "Requirement already satisfied: stack-data in /opt/anaconda3/lib/python3.11/site-packages (from ipython>=8.22.2->quantstats-lumi) (0.2.0)\r\n",
      "Requirement already satisfied: traitlets>=5.13.0 in /opt/anaconda3/lib/python3.11/site-packages (from ipython>=8.22.2->quantstats-lumi) (5.14.3)\r\n",
      "Requirement already satisfied: typing-extensions>=4.6 in /opt/anaconda3/lib/python3.11/site-packages (from ipython>=8.22.2->quantstats-lumi) (4.9.0)\r\n",
      "Requirement already satisfied: pexpect>4.3 in /opt/anaconda3/lib/python3.11/site-packages (from ipython>=8.22.2->quantstats-lumi) (4.8.0)\r\n",
      "Requirement already satisfied: contourpy>=1.0.1 in /opt/anaconda3/lib/python3.11/site-packages (from matplotlib>=3.0.0->quantstats-lumi) (1.3.0)\r\n",
      "Requirement already satisfied: cycler>=0.10 in /opt/anaconda3/lib/python3.11/site-packages (from matplotlib>=3.0.0->quantstats-lumi) (0.11.0)\r\n",
      "Requirement already satisfied: fonttools>=4.22.0 in /opt/anaconda3/lib/python3.11/site-packages (from matplotlib>=3.0.0->quantstats-lumi) (4.25.0)\r\n",
      "Requirement already satisfied: kiwisolver>=1.3.1 in /opt/anaconda3/lib/python3.11/site-packages (from matplotlib>=3.0.0->quantstats-lumi) (1.4.4)\r\n",
      "Requirement already satisfied: packaging>=20.0 in /opt/anaconda3/lib/python3.11/site-packages (from matplotlib>=3.0.0->quantstats-lumi) (23.1)\r\n",
      "Requirement already satisfied: pillow>=8 in /opt/anaconda3/lib/python3.11/site-packages (from matplotlib>=3.0.0->quantstats-lumi) (10.2.0)\r\n",
      "Requirement already satisfied: pyparsing>=2.3.1 in /opt/anaconda3/lib/python3.11/site-packages (from matplotlib>=3.0.0->quantstats-lumi) (3.0.9)\r\n",
      "Requirement already satisfied: pytz>=2020.1 in /opt/anaconda3/lib/python3.11/site-packages (from pandas>=2.2.2->quantmod) (2023.3.post1)\r\n",
      "Requirement already satisfied: tzdata>=2022.7 in /opt/anaconda3/lib/python3.11/site-packages (from pandas>=2.2.2->quantmod) (2023.3)\r\n",
      "Requirement already satisfied: annotated-types>=0.4.0 in /opt/anaconda3/lib/python3.11/site-packages (from pydantic>=2.8.2->quantmod) (0.7.0)\r\n",
      "Requirement already satisfied: pydantic-core==2.20.1 in /opt/anaconda3/lib/python3.11/site-packages (from pydantic>=2.8.2->quantmod) (2.20.1)\r\n",
      "Requirement already satisfied: six>=1.5 in /opt/anaconda3/lib/python3.11/site-packages (from python-dateutil>=2.0->quantstats-lumi) (1.16.0)\r\n",
      "Requirement already satisfied: requests>=2.31 in /opt/anaconda3/lib/python3.11/site-packages (from yfinance>=0.2.43->quantmod) (2.31.0)\r\n",
      "Requirement already satisfied: multitasking>=0.0.7 in /opt/anaconda3/lib/python3.11/site-packages (from yfinance>=0.2.43->quantmod) (0.0.11)\r\n",
      "Requirement already satisfied: lxml>=4.9.1 in /opt/anaconda3/lib/python3.11/site-packages (from yfinance>=0.2.43->quantmod) (4.9.3)\r\n",
      "Requirement already satisfied: platformdirs>=2.0.0 in /opt/anaconda3/lib/python3.11/site-packages (from yfinance>=0.2.43->quantmod) (3.10.0)\r\n",
      "Requirement already satisfied: frozendict>=2.3.4 in /opt/anaconda3/lib/python3.11/site-packages (from yfinance>=0.2.43->quantmod) (2.4.4)\r\n",
      "Requirement already satisfied: peewee>=3.16.2 in /opt/anaconda3/lib/python3.11/site-packages (from yfinance>=0.2.43->quantmod) (3.17.5)\r\n",
      "Requirement already satisfied: beautifulsoup4>=4.11.1 in /opt/anaconda3/lib/python3.11/site-packages (from yfinance>=0.2.43->quantmod) (4.12.2)\r\n",
      "Requirement already satisfied: html5lib>=1.1 in /opt/anaconda3/lib/python3.11/site-packages (from yfinance>=0.2.43->quantmod) (1.1)\r\n",
      "Requirement already satisfied: soupsieve>1.2 in /opt/anaconda3/lib/python3.11/site-packages (from beautifulsoup4>=4.11.1->yfinance>=0.2.43->quantmod) (2.5)\r\n",
      "Requirement already satisfied: webencodings in /opt/anaconda3/lib/python3.11/site-packages (from html5lib>=1.1->yfinance>=0.2.43->quantmod) (0.5.1)\r\n",
      "Requirement already satisfied: parso<0.9.0,>=0.8.0 in /opt/anaconda3/lib/python3.11/site-packages (from jedi>=0.16->ipython>=8.22.2->quantstats-lumi) (0.8.3)\r\n",
      "Requirement already satisfied: ptyprocess>=0.5 in /opt/anaconda3/lib/python3.11/site-packages (from pexpect>4.3->ipython>=8.22.2->quantstats-lumi) (0.7.0)\r\n",
      "Requirement already satisfied: wcwidth in /opt/anaconda3/lib/python3.11/site-packages (from prompt-toolkit<3.1.0,>=3.0.41->ipython>=8.22.2->quantstats-lumi) (0.2.5)\r\n",
      "Requirement already satisfied: charset-normalizer<4,>=2 in /opt/anaconda3/lib/python3.11/site-packages (from requests>=2.31->yfinance>=0.2.43->quantmod) (2.0.4)\r\n",
      "Requirement already satisfied: idna<4,>=2.5 in /opt/anaconda3/lib/python3.11/site-packages (from requests>=2.31->yfinance>=0.2.43->quantmod) (3.4)\r\n",
      "Requirement already satisfied: certifi>=2017.4.17 in /opt/anaconda3/lib/python3.11/site-packages (from requests>=2.31->yfinance>=0.2.43->quantmod) (2024.2.2)\r\n",
      "Requirement already satisfied: executing in /opt/anaconda3/lib/python3.11/site-packages (from stack-data->ipython>=8.22.2->quantstats-lumi) (0.8.3)\r\n",
      "Requirement already satisfied: asttokens in /opt/anaconda3/lib/python3.11/site-packages (from stack-data->ipython>=8.22.2->quantstats-lumi) (2.0.5)\r\n",
      "Requirement already satisfied: pure-eval in /opt/anaconda3/lib/python3.11/site-packages (from stack-data->ipython>=8.22.2->quantstats-lumi) (0.2.2)\r\n",
      "Note: you may need to restart the kernel to use updated packages.\n"
     ]
    }
   ],
   "execution_count": 8
  },
  {
   "metadata": {},
   "cell_type": "markdown",
   "source": "### Import libraries",
   "id": "6e004bcad1749e21"
  },
  {
   "metadata": {
    "ExecuteTime": {
     "end_time": "2024-09-25T11:49:01.483001Z",
     "start_time": "2024-09-25T11:49:00.747227Z"
    }
   },
   "cell_type": "code",
   "source": [
    "# Base Libraries\n",
    "import pandas as pd\n",
    "import numpy as np\n",
    "\n",
    "# Quantmod\n",
    "from quantmod.datasets import fetch_historical_data\n",
    "from quantmod.timeseries import *\n",
    "from quantmod.indicators import BBands\n",
    "\n",
    "# Plotting\n",
    "import matplotlib.pyplot as plt\n",
    "\n",
    "# Classifier\n",
    "from sklearn.linear_model import LogisticRegression\n",
    "\n",
    "# Preprocessing\n",
    "from sklearn.preprocessing import MinMaxScaler, StandardScaler\n",
    "from sklearn.pipeline import Pipeline\n",
    "from sklearn.model_selection import (\n",
    "                                    train_test_split, \n",
    "                                    TimeSeriesSplit,\n",
    "                                    GridSearchCV\n",
    "                                    )\n",
    "\n",
    "# Metrics\n",
    "from sklearn.model_selection import train_test_split\n",
    "from sklearn.metrics import (\n",
    "                            accuracy_score,\n",
    "                            f1_score,\n",
    "                            log_loss,\n",
    "                            RocCurveDisplay,\n",
    "                            ConfusionMatrixDisplay,\n",
    "                            classification_report\n",
    "                            )\n",
    "\n",
    "# Analysis\n",
    "#import quantstats, lumi as qs"
   ],
   "id": "aa5b858766257467",
   "outputs": [
    {
     "ename": "AttributeError",
     "evalue": "module 'numpy' has no attribute 'bool'.\n`np.bool` was a deprecated alias for the builtin `bool`. To avoid this error in existing code, use `bool` by itself. Doing this will not modify any behavior and is safe. If you specifically wanted the numpy scalar type, use `np.bool_` here.\nThe aliases was originally deprecated in NumPy 1.20; for more details and guidance see the original release note at:\n    https://numpy.org/devdocs/release/1.20.0-notes.html#deprecations",
     "output_type": "error",
     "traceback": [
      "\u001B[0;31m---------------------------------------------------------------------------\u001B[0m",
      "\u001B[0;31mAttributeError\u001B[0m                            Traceback (most recent call last)",
      "Cell \u001B[0;32mIn[16], line 6\u001B[0m\n\u001B[1;32m      3\u001B[0m \u001B[38;5;28;01mimport\u001B[39;00m \u001B[38;5;21;01mnumpy\u001B[39;00m \u001B[38;5;28;01mas\u001B[39;00m \u001B[38;5;21;01mnp\u001B[39;00m\n\u001B[1;32m      5\u001B[0m \u001B[38;5;66;03m# Quantmod\u001B[39;00m\n\u001B[0;32m----> 6\u001B[0m \u001B[38;5;28;01mfrom\u001B[39;00m \u001B[38;5;21;01mquantmod\u001B[39;00m\u001B[38;5;21;01m.\u001B[39;00m\u001B[38;5;21;01mdatasets\u001B[39;00m \u001B[38;5;28;01mimport\u001B[39;00m fetch_historical_data\n\u001B[1;32m      7\u001B[0m \u001B[38;5;28;01mfrom\u001B[39;00m \u001B[38;5;21;01mquantmod\u001B[39;00m\u001B[38;5;21;01m.\u001B[39;00m\u001B[38;5;21;01mtimeseries\u001B[39;00m \u001B[38;5;28;01mimport\u001B[39;00m \u001B[38;5;241m*\u001B[39m\n\u001B[1;32m      8\u001B[0m \u001B[38;5;28;01mfrom\u001B[39;00m \u001B[38;5;21;01mquantmod\u001B[39;00m\u001B[38;5;21;01m.\u001B[39;00m\u001B[38;5;21;01mindicators\u001B[39;00m \u001B[38;5;28;01mimport\u001B[39;00m BBands\n",
      "File \u001B[0;32m/opt/anaconda3/lib/python3.11/site-packages/quantmod/__init__.py:26\u001B[0m\n\u001B[1;32m     23\u001B[0m \u001B[38;5;28;01mfrom\u001B[39;00m \u001B[38;5;21;01m.\u001B[39;00m \u001B[38;5;28;01mimport\u001B[39;00m version\n\u001B[1;32m     24\u001B[0m \u001B[38;5;28;01mfrom\u001B[39;00m \u001B[38;5;21;01m.\u001B[39;00m\u001B[38;5;21;01mmain\u001B[39;00m \u001B[38;5;28;01mimport\u001B[39;00m hello\n\u001B[0;32m---> 26\u001B[0m \u001B[38;5;28;01mfrom\u001B[39;00m \u001B[38;5;21;01mquantmod\u001B[39;00m \u001B[38;5;28;01mimport\u001B[39;00m (\n\u001B[1;32m     27\u001B[0m     derivatives, \n\u001B[1;32m     28\u001B[0m     indicators,\n\u001B[1;32m     29\u001B[0m     markets, \n\u001B[1;32m     30\u001B[0m     models,  \n\u001B[1;32m     31\u001B[0m     timeseries,\n\u001B[1;32m     32\u001B[0m     datasets\n\u001B[1;32m     33\u001B[0m )\n\u001B[1;32m     36\u001B[0m __all__ \u001B[38;5;241m=\u001B[39m [\n\u001B[1;32m     37\u001B[0m     \u001B[38;5;124m\"\u001B[39m\u001B[38;5;124mhello\u001B[39m\u001B[38;5;124m\"\u001B[39m,\n\u001B[1;32m     38\u001B[0m     \u001B[38;5;124m\"\u001B[39m\u001B[38;5;124mderivatives\u001B[39m\u001B[38;5;124m\"\u001B[39m,\n\u001B[0;32m   (...)\u001B[0m\n\u001B[1;32m     43\u001B[0m     \u001B[38;5;124m\"\u001B[39m\u001B[38;5;124mdatasets\u001B[39m\u001B[38;5;124m\"\u001B[39m\n\u001B[1;32m     44\u001B[0m ]\n\u001B[1;32m     46\u001B[0m __version__ \u001B[38;5;241m=\u001B[39m version\u001B[38;5;241m.\u001B[39mversion\n",
      "File \u001B[0;32m/opt/anaconda3/lib/python3.11/site-packages/quantmod/models/__init__.py:20\u001B[0m\n\u001B[1;32m      1\u001B[0m \u001B[38;5;66;03m# Quantmod Python Package\u001B[39;00m\n\u001B[1;32m      2\u001B[0m \u001B[38;5;66;03m# https://kannansingaravelu.com/\u001B[39;00m\n\u001B[1;32m      3\u001B[0m \n\u001B[0;32m   (...)\u001B[0m\n\u001B[1;32m     16\u001B[0m \u001B[38;5;66;03m# limitations under the License.\u001B[39;00m\n\u001B[1;32m     17\u001B[0m \u001B[38;5;66;03m#\u001B[39;00m\n\u001B[1;32m     19\u001B[0m \u001B[38;5;28;01mfrom\u001B[39;00m \u001B[38;5;21;01m.\u001B[39;00m\u001B[38;5;21;01moptioninputs\u001B[39;00m \u001B[38;5;28;01mimport\u001B[39;00m OptionInputs\n\u001B[0;32m---> 20\u001B[0m \u001B[38;5;28;01mfrom\u001B[39;00m \u001B[38;5;21;01m.\u001B[39;00m\u001B[38;5;21;01mblackscholes\u001B[39;00m \u001B[38;5;28;01mimport\u001B[39;00m BlackScholesOptionPricing\n\u001B[1;32m     21\u001B[0m \u001B[38;5;28;01mfrom\u001B[39;00m \u001B[38;5;21;01m.\u001B[39;00m\u001B[38;5;21;01mmontecarlo\u001B[39;00m \u001B[38;5;28;01mimport\u001B[39;00m MonteCarloOptionPricing\n\u001B[1;32m     24\u001B[0m __all__ \u001B[38;5;241m=\u001B[39m [\n\u001B[1;32m     25\u001B[0m     \u001B[38;5;124m\"\u001B[39m\u001B[38;5;124mOptionInputs\u001B[39m\u001B[38;5;124m\"\u001B[39m,\n\u001B[1;32m     26\u001B[0m     \u001B[38;5;124m\"\u001B[39m\u001B[38;5;124mBlackScholesOptionPricing\u001B[39m\u001B[38;5;124m\"\u001B[39m, \n\u001B[1;32m     27\u001B[0m     \u001B[38;5;124m\"\u001B[39m\u001B[38;5;124mMonteCarloOptionPricing\u001B[39m\u001B[38;5;124m\"\u001B[39m,\n\u001B[1;32m     28\u001B[0m ]\n",
      "File \u001B[0;32m/opt/anaconda3/lib/python3.11/site-packages/quantmod/models/blackscholes.py:3\u001B[0m\n\u001B[1;32m      1\u001B[0m \u001B[38;5;28;01mfrom\u001B[39;00m \u001B[38;5;21;01mpydantic\u001B[39;00m \u001B[38;5;28;01mimport\u001B[39;00m BaseModel, Field\n\u001B[1;32m      2\u001B[0m \u001B[38;5;28;01mimport\u001B[39;00m \u001B[38;5;21;01mnumpy\u001B[39;00m \u001B[38;5;28;01mas\u001B[39;00m \u001B[38;5;21;01mnp\u001B[39;00m\n\u001B[0;32m----> 3\u001B[0m \u001B[38;5;28;01mfrom\u001B[39;00m \u001B[38;5;21;01mscipy\u001B[39;00m\u001B[38;5;21;01m.\u001B[39;00m\u001B[38;5;21;01mstats\u001B[39;00m \u001B[38;5;28;01mimport\u001B[39;00m norm\n\u001B[1;32m      4\u001B[0m \u001B[38;5;28;01mfrom\u001B[39;00m \u001B[38;5;21;01mscipy\u001B[39;00m\u001B[38;5;21;01m.\u001B[39;00m\u001B[38;5;21;01moptimize\u001B[39;00m \u001B[38;5;28;01mimport\u001B[39;00m brentq\n\u001B[1;32m      5\u001B[0m \u001B[38;5;28;01mfrom\u001B[39;00m \u001B[38;5;21;01mtyping\u001B[39;00m \u001B[38;5;28;01mimport\u001B[39;00m Tuple\n",
      "File \u001B[0;32m/opt/anaconda3/lib/python3.11/site-packages/scipy/stats/__init__.py:610\u001B[0m\n\u001B[1;32m      1\u001B[0m \u001B[38;5;124;03m\"\"\"\u001B[39;00m\n\u001B[1;32m      2\u001B[0m \u001B[38;5;124;03m.. _statsrefmanual:\u001B[39;00m\n\u001B[1;32m      3\u001B[0m \n\u001B[0;32m   (...)\u001B[0m\n\u001B[1;32m    605\u001B[0m \n\u001B[1;32m    606\u001B[0m \u001B[38;5;124;03m\"\"\"\u001B[39;00m  \u001B[38;5;66;03m# noqa: E501\u001B[39;00m\n\u001B[1;32m    608\u001B[0m \u001B[38;5;28;01mfrom\u001B[39;00m \u001B[38;5;21;01m.\u001B[39;00m\u001B[38;5;21;01m_warnings_errors\u001B[39;00m \u001B[38;5;28;01mimport\u001B[39;00m (ConstantInputWarning, NearConstantInputWarning,\n\u001B[1;32m    609\u001B[0m                                DegenerateDataWarning, FitError)\n\u001B[0;32m--> 610\u001B[0m \u001B[38;5;28;01mfrom\u001B[39;00m \u001B[38;5;21;01m.\u001B[39;00m\u001B[38;5;21;01m_stats_py\u001B[39;00m \u001B[38;5;28;01mimport\u001B[39;00m \u001B[38;5;241m*\u001B[39m\n\u001B[1;32m    611\u001B[0m \u001B[38;5;28;01mfrom\u001B[39;00m \u001B[38;5;21;01m.\u001B[39;00m\u001B[38;5;21;01m_variation\u001B[39;00m \u001B[38;5;28;01mimport\u001B[39;00m variation\n\u001B[1;32m    612\u001B[0m \u001B[38;5;28;01mfrom\u001B[39;00m \u001B[38;5;21;01m.\u001B[39;00m\u001B[38;5;21;01mdistributions\u001B[39;00m \u001B[38;5;28;01mimport\u001B[39;00m \u001B[38;5;241m*\u001B[39m\n",
      "File \u001B[0;32m/opt/anaconda3/lib/python3.11/site-packages/scipy/stats/_stats_py.py:49\u001B[0m\n\u001B[1;32m     46\u001B[0m \u001B[38;5;66;03m# Import unused here but needs to stay until end of deprecation periode\u001B[39;00m\n\u001B[1;32m     47\u001B[0m \u001B[38;5;66;03m# See https://github.com/scipy/scipy/issues/15765#issuecomment-1875564522\u001B[39;00m\n\u001B[1;32m     48\u001B[0m \u001B[38;5;28;01mfrom\u001B[39;00m \u001B[38;5;21;01mscipy\u001B[39;00m \u001B[38;5;28;01mimport\u001B[39;00m linalg  \u001B[38;5;66;03m# noqa: F401\u001B[39;00m\n\u001B[0;32m---> 49\u001B[0m \u001B[38;5;28;01mfrom\u001B[39;00m \u001B[38;5;21;01m.\u001B[39;00m \u001B[38;5;28;01mimport\u001B[39;00m distributions\n\u001B[1;32m     50\u001B[0m \u001B[38;5;28;01mfrom\u001B[39;00m \u001B[38;5;21;01m.\u001B[39;00m \u001B[38;5;28;01mimport\u001B[39;00m _mstats_basic \u001B[38;5;28;01mas\u001B[39;00m mstats_basic\n\u001B[1;32m     52\u001B[0m \u001B[38;5;28;01mfrom\u001B[39;00m \u001B[38;5;21;01m.\u001B[39;00m\u001B[38;5;21;01m_stats_mstats_common\u001B[39;00m \u001B[38;5;28;01mimport\u001B[39;00m _find_repeats, theilslopes, siegelslopes\n",
      "File \u001B[0;32m/opt/anaconda3/lib/python3.11/site-packages/scipy/stats/distributions.py:10\u001B[0m\n\u001B[1;32m      1\u001B[0m \u001B[38;5;66;03m#\u001B[39;00m\n\u001B[1;32m      2\u001B[0m \u001B[38;5;66;03m# Author:  Travis Oliphant  2002-2011 with contributions from\u001B[39;00m\n\u001B[1;32m      3\u001B[0m \u001B[38;5;66;03m#          SciPy Developers 2004-2011\u001B[39;00m\n\u001B[0;32m   (...)\u001B[0m\n\u001B[1;32m      6\u001B[0m \u001B[38;5;66;03m#       instead of `git blame -Lxxx,+x`.\u001B[39;00m\n\u001B[1;32m      7\u001B[0m \u001B[38;5;66;03m#\u001B[39;00m\n\u001B[1;32m      8\u001B[0m \u001B[38;5;28;01mfrom\u001B[39;00m \u001B[38;5;21;01m.\u001B[39;00m\u001B[38;5;21;01m_distn_infrastructure\u001B[39;00m \u001B[38;5;28;01mimport\u001B[39;00m (rv_discrete, rv_continuous, rv_frozen)  \u001B[38;5;66;03m# noqa: F401\u001B[39;00m\n\u001B[0;32m---> 10\u001B[0m \u001B[38;5;28;01mfrom\u001B[39;00m \u001B[38;5;21;01m.\u001B[39;00m \u001B[38;5;28;01mimport\u001B[39;00m _continuous_distns\n\u001B[1;32m     11\u001B[0m \u001B[38;5;28;01mfrom\u001B[39;00m \u001B[38;5;21;01m.\u001B[39;00m \u001B[38;5;28;01mimport\u001B[39;00m _discrete_distns\n\u001B[1;32m     13\u001B[0m \u001B[38;5;28;01mfrom\u001B[39;00m \u001B[38;5;21;01m.\u001B[39;00m\u001B[38;5;21;01m_continuous_distns\u001B[39;00m \u001B[38;5;28;01mimport\u001B[39;00m \u001B[38;5;241m*\u001B[39m  \u001B[38;5;66;03m# noqa: F403\u001B[39;00m\n",
      "File \u001B[0;32m/opt/anaconda3/lib/python3.11/site-packages/scipy/stats/_continuous_distns.py:12\u001B[0m\n\u001B[1;32m     10\u001B[0m \u001B[38;5;28;01mimport\u001B[39;00m \u001B[38;5;21;01mnumpy\u001B[39;00m \u001B[38;5;28;01mas\u001B[39;00m \u001B[38;5;21;01mnp\u001B[39;00m\n\u001B[1;32m     11\u001B[0m \u001B[38;5;28;01mfrom\u001B[39;00m \u001B[38;5;21;01mnumpy\u001B[39;00m\u001B[38;5;21;01m.\u001B[39;00m\u001B[38;5;21;01mpolynomial\u001B[39;00m \u001B[38;5;28;01mimport\u001B[39;00m Polynomial\n\u001B[0;32m---> 12\u001B[0m \u001B[38;5;28;01mfrom\u001B[39;00m \u001B[38;5;21;01mscipy\u001B[39;00m\u001B[38;5;21;01m.\u001B[39;00m\u001B[38;5;21;01minterpolate\u001B[39;00m \u001B[38;5;28;01mimport\u001B[39;00m BSpline\n\u001B[1;32m     13\u001B[0m \u001B[38;5;28;01mfrom\u001B[39;00m \u001B[38;5;21;01mscipy\u001B[39;00m\u001B[38;5;21;01m.\u001B[39;00m\u001B[38;5;21;01m_lib\u001B[39;00m\u001B[38;5;21;01m.\u001B[39;00m\u001B[38;5;21;01mdoccer\u001B[39;00m \u001B[38;5;28;01mimport\u001B[39;00m (extend_notes_in_docstring,\n\u001B[1;32m     14\u001B[0m                                replace_notes_in_docstring,\n\u001B[1;32m     15\u001B[0m                                inherit_docstring_from)\n\u001B[1;32m     16\u001B[0m \u001B[38;5;28;01mfrom\u001B[39;00m \u001B[38;5;21;01mscipy\u001B[39;00m\u001B[38;5;21;01m.\u001B[39;00m\u001B[38;5;21;01m_lib\u001B[39;00m\u001B[38;5;21;01m.\u001B[39;00m\u001B[38;5;21;01m_ccallback\u001B[39;00m \u001B[38;5;28;01mimport\u001B[39;00m LowLevelCallable\n",
      "File \u001B[0;32m/opt/anaconda3/lib/python3.11/site-packages/scipy/interpolate/__init__.py:167\u001B[0m\n\u001B[1;32m      1\u001B[0m \u001B[38;5;124;03m\"\"\"\u001B[39;00m\n\u001B[1;32m      2\u001B[0m \u001B[38;5;124;03m========================================\u001B[39;00m\n\u001B[1;32m      3\u001B[0m \u001B[38;5;124;03mInterpolation (:mod:`scipy.interpolate`)\u001B[39;00m\n\u001B[0;32m   (...)\u001B[0m\n\u001B[1;32m    165\u001B[0m \u001B[38;5;124;03m(should not be used in new code).\u001B[39;00m\n\u001B[1;32m    166\u001B[0m \u001B[38;5;124;03m\"\"\"\u001B[39;00m\n\u001B[0;32m--> 167\u001B[0m \u001B[38;5;28;01mfrom\u001B[39;00m \u001B[38;5;21;01m.\u001B[39;00m\u001B[38;5;21;01m_interpolate\u001B[39;00m \u001B[38;5;28;01mimport\u001B[39;00m \u001B[38;5;241m*\u001B[39m\n\u001B[1;32m    168\u001B[0m \u001B[38;5;28;01mfrom\u001B[39;00m \u001B[38;5;21;01m.\u001B[39;00m\u001B[38;5;21;01m_fitpack_py\u001B[39;00m \u001B[38;5;28;01mimport\u001B[39;00m \u001B[38;5;241m*\u001B[39m\n\u001B[1;32m    170\u001B[0m \u001B[38;5;66;03m# New interface to fitpack library:\u001B[39;00m\n",
      "File \u001B[0;32m/opt/anaconda3/lib/python3.11/site-packages/scipy/interpolate/_interpolate.py:12\u001B[0m\n\u001B[1;32m      9\u001B[0m \u001B[38;5;28;01mfrom\u001B[39;00m \u001B[38;5;21;01mscipy\u001B[39;00m\u001B[38;5;21;01m.\u001B[39;00m\u001B[38;5;21;01m_lib\u001B[39;00m\u001B[38;5;21;01m.\u001B[39;00m\u001B[38;5;21;01m_util\u001B[39;00m \u001B[38;5;28;01mimport\u001B[39;00m copy_if_needed\n\u001B[1;32m     10\u001B[0m \u001B[38;5;28;01mfrom\u001B[39;00m \u001B[38;5;21;01mscipy\u001B[39;00m\u001B[38;5;21;01m.\u001B[39;00m\u001B[38;5;21;01mspecial\u001B[39;00m \u001B[38;5;28;01mimport\u001B[39;00m comb\n\u001B[0;32m---> 12\u001B[0m \u001B[38;5;28;01mfrom\u001B[39;00m \u001B[38;5;21;01m.\u001B[39;00m \u001B[38;5;28;01mimport\u001B[39;00m _fitpack_py\n\u001B[1;32m     13\u001B[0m \u001B[38;5;28;01mfrom\u001B[39;00m \u001B[38;5;21;01m.\u001B[39;00m\u001B[38;5;21;01m_polyint\u001B[39;00m \u001B[38;5;28;01mimport\u001B[39;00m _Interpolator1D\n\u001B[1;32m     14\u001B[0m \u001B[38;5;28;01mfrom\u001B[39;00m \u001B[38;5;21;01m.\u001B[39;00m \u001B[38;5;28;01mimport\u001B[39;00m _ppoly\n",
      "File \u001B[0;32m/opt/anaconda3/lib/python3.11/site-packages/scipy/interpolate/_fitpack_py.py:8\u001B[0m\n\u001B[1;32m      5\u001B[0m \u001B[38;5;28;01mimport\u001B[39;00m \u001B[38;5;21;01mnumpy\u001B[39;00m \u001B[38;5;28;01mas\u001B[39;00m \u001B[38;5;21;01mnp\u001B[39;00m\n\u001B[1;32m      7\u001B[0m \u001B[38;5;66;03m# These are in the API for fitpack even if not used in fitpack.py itself.\u001B[39;00m\n\u001B[0;32m----> 8\u001B[0m \u001B[38;5;28;01mfrom\u001B[39;00m \u001B[38;5;21;01m.\u001B[39;00m\u001B[38;5;21;01m_fitpack_impl\u001B[39;00m \u001B[38;5;28;01mimport\u001B[39;00m bisplrep, bisplev, dblint  \u001B[38;5;66;03m# noqa: F401\u001B[39;00m\n\u001B[1;32m      9\u001B[0m \u001B[38;5;28;01mfrom\u001B[39;00m \u001B[38;5;21;01m.\u001B[39;00m \u001B[38;5;28;01mimport\u001B[39;00m _fitpack_impl \u001B[38;5;28;01mas\u001B[39;00m _impl\n\u001B[1;32m     10\u001B[0m \u001B[38;5;28;01mfrom\u001B[39;00m \u001B[38;5;21;01m.\u001B[39;00m\u001B[38;5;21;01m_bsplines\u001B[39;00m \u001B[38;5;28;01mimport\u001B[39;00m BSpline\n",
      "File \u001B[0;32m/opt/anaconda3/lib/python3.11/site-packages/scipy/interpolate/_fitpack_impl.py:103\u001B[0m\n\u001B[1;32m     52\u001B[0m _iermess \u001B[38;5;241m=\u001B[39m {\n\u001B[1;32m     53\u001B[0m     \u001B[38;5;241m0\u001B[39m: [\u001B[38;5;124m\"\u001B[39m\u001B[38;5;124mThe spline has a residual sum of squares fp such that \u001B[39m\u001B[38;5;124m\"\u001B[39m\n\u001B[1;32m     54\u001B[0m         \u001B[38;5;124m\"\u001B[39m\u001B[38;5;124mabs(fp-s)/s<=0.001\u001B[39m\u001B[38;5;124m\"\u001B[39m, \u001B[38;5;28;01mNone\u001B[39;00m],\n\u001B[0;32m   (...)\u001B[0m\n\u001B[1;32m     68\u001B[0m     \u001B[38;5;124m'\u001B[39m\u001B[38;5;124munknown\u001B[39m\u001B[38;5;124m'\u001B[39m: [\u001B[38;5;124m\"\u001B[39m\u001B[38;5;124mAn error occurred\u001B[39m\u001B[38;5;124m\"\u001B[39m, \u001B[38;5;167;01mTypeError\u001B[39;00m]\n\u001B[1;32m     69\u001B[0m }\n\u001B[1;32m     71\u001B[0m _iermess2 \u001B[38;5;241m=\u001B[39m {\n\u001B[1;32m     72\u001B[0m     \u001B[38;5;241m0\u001B[39m: [\u001B[38;5;124m\"\u001B[39m\u001B[38;5;124mThe spline has a residual sum of squares fp such that \u001B[39m\u001B[38;5;124m\"\u001B[39m\n\u001B[1;32m     73\u001B[0m         \u001B[38;5;124m\"\u001B[39m\u001B[38;5;124mabs(fp-s)/s<=0.001\u001B[39m\u001B[38;5;124m\"\u001B[39m, \u001B[38;5;28;01mNone\u001B[39;00m],\n\u001B[0;32m   (...)\u001B[0m\n\u001B[1;32m     99\u001B[0m     \u001B[38;5;124m'\u001B[39m\u001B[38;5;124munknown\u001B[39m\u001B[38;5;124m'\u001B[39m: [\u001B[38;5;124m\"\u001B[39m\u001B[38;5;124mAn error occurred\u001B[39m\u001B[38;5;124m\"\u001B[39m, \u001B[38;5;167;01mTypeError\u001B[39;00m]\n\u001B[1;32m    100\u001B[0m }\n\u001B[1;32m    102\u001B[0m _parcur_cache \u001B[38;5;241m=\u001B[39m {\u001B[38;5;124m'\u001B[39m\u001B[38;5;124mt\u001B[39m\u001B[38;5;124m'\u001B[39m: array([], \u001B[38;5;28mfloat\u001B[39m), \u001B[38;5;124m'\u001B[39m\u001B[38;5;124mwrk\u001B[39m\u001B[38;5;124m'\u001B[39m: array([], \u001B[38;5;28mfloat\u001B[39m),\n\u001B[0;32m--> 103\u001B[0m                  \u001B[38;5;124m'\u001B[39m\u001B[38;5;124miwrk\u001B[39m\u001B[38;5;124m'\u001B[39m: array([], dfitpack_int), \u001B[38;5;124m'\u001B[39m\u001B[38;5;124mu\u001B[39m\u001B[38;5;124m'\u001B[39m: array([], \u001B[38;5;28mfloat\u001B[39m),\n\u001B[1;32m    104\u001B[0m                  \u001B[38;5;124m'\u001B[39m\u001B[38;5;124mub\u001B[39m\u001B[38;5;124m'\u001B[39m: \u001B[38;5;241m0\u001B[39m, \u001B[38;5;124m'\u001B[39m\u001B[38;5;124mue\u001B[39m\u001B[38;5;124m'\u001B[39m: \u001B[38;5;241m1\u001B[39m}\n\u001B[1;32m    107\u001B[0m \u001B[38;5;28;01mdef\u001B[39;00m \u001B[38;5;21msplprep\u001B[39m(x, w\u001B[38;5;241m=\u001B[39m\u001B[38;5;28;01mNone\u001B[39;00m, u\u001B[38;5;241m=\u001B[39m\u001B[38;5;28;01mNone\u001B[39;00m, ub\u001B[38;5;241m=\u001B[39m\u001B[38;5;28;01mNone\u001B[39;00m, ue\u001B[38;5;241m=\u001B[39m\u001B[38;5;28;01mNone\u001B[39;00m, k\u001B[38;5;241m=\u001B[39m\u001B[38;5;241m3\u001B[39m, task\u001B[38;5;241m=\u001B[39m\u001B[38;5;241m0\u001B[39m, s\u001B[38;5;241m=\u001B[39m\u001B[38;5;28;01mNone\u001B[39;00m, t\u001B[38;5;241m=\u001B[39m\u001B[38;5;28;01mNone\u001B[39;00m,\n\u001B[1;32m    108\u001B[0m             full_output\u001B[38;5;241m=\u001B[39m\u001B[38;5;241m0\u001B[39m, nest\u001B[38;5;241m=\u001B[39m\u001B[38;5;28;01mNone\u001B[39;00m, per\u001B[38;5;241m=\u001B[39m\u001B[38;5;241m0\u001B[39m, quiet\u001B[38;5;241m=\u001B[39m\u001B[38;5;241m1\u001B[39m):\n\u001B[1;32m    109\u001B[0m     \u001B[38;5;66;03m# see the docstring of `_fitpack_py/splprep`\u001B[39;00m\n\u001B[1;32m    110\u001B[0m     \u001B[38;5;28;01mif\u001B[39;00m task \u001B[38;5;241m<\u001B[39m\u001B[38;5;241m=\u001B[39m \u001B[38;5;241m0\u001B[39m:\n",
      "File \u001B[0;32m/opt/anaconda3/lib/python3.11/site-packages/numpy/_core/_dtype.py:46\u001B[0m, in \u001B[0;36m__repr__\u001B[0;34m(dtype)\u001B[0m\n\u001B[1;32m     45\u001B[0m \u001B[38;5;28;01mdef\u001B[39;00m \u001B[38;5;21m__repr__\u001B[39m(dtype):\n\u001B[0;32m---> 46\u001B[0m     arg_str \u001B[38;5;241m=\u001B[39m _construction_repr(dtype, include_align\u001B[38;5;241m=\u001B[39m\u001B[38;5;28;01mFalse\u001B[39;00m)\n\u001B[1;32m     47\u001B[0m     \u001B[38;5;28;01mif\u001B[39;00m dtype\u001B[38;5;241m.\u001B[39misalignedstruct:\n\u001B[1;32m     48\u001B[0m         arg_str \u001B[38;5;241m=\u001B[39m arg_str \u001B[38;5;241m+\u001B[39m \u001B[38;5;124m\"\u001B[39m\u001B[38;5;124m, align=True\u001B[39m\u001B[38;5;124m\"\u001B[39m\n",
      "File \u001B[0;32m/opt/anaconda3/lib/python3.11/site-packages/numpy/_core/_dtype.py:100\u001B[0m, in \u001B[0;36m_construction_repr\u001B[0;34m(dtype, include_align, short)\u001B[0m\n\u001B[1;32m     98\u001B[0m     \u001B[38;5;28;01mreturn\u001B[39;00m _subarray_str(dtype)\n\u001B[1;32m     99\u001B[0m \u001B[38;5;28;01melse\u001B[39;00m:\n\u001B[0;32m--> 100\u001B[0m     \u001B[38;5;28;01mreturn\u001B[39;00m _scalar_str(dtype, short\u001B[38;5;241m=\u001B[39mshort)\n",
      "File \u001B[0;32m/opt/anaconda3/lib/python3.11/site-packages/numpy/_core/_dtype.py:106\u001B[0m, in \u001B[0;36m_scalar_str\u001B[0;34m(dtype, short)\u001B[0m\n\u001B[1;32m    103\u001B[0m \u001B[38;5;28;01mdef\u001B[39;00m \u001B[38;5;21m_scalar_str\u001B[39m(dtype, short):\n\u001B[1;32m    104\u001B[0m     byteorder \u001B[38;5;241m=\u001B[39m _byte_order_str(dtype)\n\u001B[0;32m--> 106\u001B[0m     \u001B[38;5;28;01mif\u001B[39;00m dtype\u001B[38;5;241m.\u001B[39mtype \u001B[38;5;241m==\u001B[39m np\u001B[38;5;241m.\u001B[39mbool:\n\u001B[1;32m    107\u001B[0m         \u001B[38;5;28;01mif\u001B[39;00m short:\n\u001B[1;32m    108\u001B[0m             \u001B[38;5;28;01mreturn\u001B[39;00m \u001B[38;5;124m\"\u001B[39m\u001B[38;5;124m'\u001B[39m\u001B[38;5;124m?\u001B[39m\u001B[38;5;124m'\u001B[39m\u001B[38;5;124m\"\u001B[39m\n",
      "File \u001B[0;32m/opt/anaconda3/lib/python3.11/site-packages/numpy/__init__.py:324\u001B[0m, in \u001B[0;36m__getattr__\u001B[0;34m(attr)\u001B[0m\n\u001B[1;32m    322\u001B[0m warnings\u001B[38;5;241m.\u001B[39mfilterwarnings(\u001B[38;5;124m\"\u001B[39m\u001B[38;5;124mignore\u001B[39m\u001B[38;5;124m\"\u001B[39m, message\u001B[38;5;241m=\u001B[39m\u001B[38;5;124m\"\u001B[39m\u001B[38;5;124mnumpy.dtype size changed\u001B[39m\u001B[38;5;124m\"\u001B[39m)\n\u001B[1;32m    323\u001B[0m warnings\u001B[38;5;241m.\u001B[39mfilterwarnings(\u001B[38;5;124m\"\u001B[39m\u001B[38;5;124mignore\u001B[39m\u001B[38;5;124m\"\u001B[39m, message\u001B[38;5;241m=\u001B[39m\u001B[38;5;124m\"\u001B[39m\u001B[38;5;124mnumpy.ufunc size changed\u001B[39m\u001B[38;5;124m\"\u001B[39m)\n\u001B[0;32m--> 324\u001B[0m warnings\u001B[38;5;241m.\u001B[39mfilterwarnings(\u001B[38;5;124m\"\u001B[39m\u001B[38;5;124mignore\u001B[39m\u001B[38;5;124m\"\u001B[39m, message\u001B[38;5;241m=\u001B[39m\u001B[38;5;124m\"\u001B[39m\u001B[38;5;124mnumpy.ndarray size changed\u001B[39m\u001B[38;5;124m\"\u001B[39m)\n\u001B[1;32m    326\u001B[0m \u001B[38;5;28;01mdef\u001B[39;00m \u001B[38;5;21m__getattr__\u001B[39m(attr):\n\u001B[1;32m    327\u001B[0m     \u001B[38;5;66;03m# Warn for expired attributes\u001B[39;00m\n\u001B[1;32m    328\u001B[0m     \u001B[38;5;28;01mimport\u001B[39;00m \u001B[38;5;21;01mwarnings\u001B[39;00m\n",
      "\u001B[0;31mAttributeError\u001B[0m: module 'numpy' has no attribute 'bool'.\n`np.bool` was a deprecated alias for the builtin `bool`. To avoid this error in existing code, use `bool` by itself. Doing this will not modify any behavior and is safe. If you specifically wanted the numpy scalar type, use `np.bool_` here.\nThe aliases was originally deprecated in NumPy 1.20; for more details and guidance see the original release note at:\n    https://numpy.org/devdocs/release/1.20.0-notes.html#deprecations"
     ]
    }
   ],
   "execution_count": 16
  },
  {
   "metadata": {},
   "cell_type": "markdown",
   "source": "### Load Data",
   "id": "2de80b5025fa4c17"
  },
  {
   "metadata": {
    "ExecuteTime": {
     "end_time": "2024-09-25T11:48:43.659156Z",
     "start_time": "2024-09-25T11:48:43.648797Z"
    }
   },
   "cell_type": "code",
   "source": [
    "# load nifty index data\n",
    "df = fetch_historical_data(\"nifty\")\n",
    "\n",
    "# set date as index\n",
    "df = (\n",
    "    df\n",
    "    .assign(date=pd.to_datetime(df['date']))  \n",
    "    .set_index('date', drop=True)             \n",
    ")\n",
    "\n",
    "df.head()"
   ],
   "id": "f5fa2243468e9326",
   "outputs": [
    {
     "ename": "NameError",
     "evalue": "name 'fetch_historical_data' is not defined",
     "output_type": "error",
     "traceback": [
      "\u001B[0;31m---------------------------------------------------------------------------\u001B[0m",
      "\u001B[0;31mNameError\u001B[0m                                 Traceback (most recent call last)",
      "Cell \u001B[0;32mIn[15], line 2\u001B[0m\n\u001B[1;32m      1\u001B[0m \u001B[38;5;66;03m# load nifty index data\u001B[39;00m\n\u001B[0;32m----> 2\u001B[0m df \u001B[38;5;241m=\u001B[39m fetch_historical_data(\u001B[38;5;124m\"\u001B[39m\u001B[38;5;124mnifty\u001B[39m\u001B[38;5;124m\"\u001B[39m)\n\u001B[1;32m      4\u001B[0m \u001B[38;5;66;03m# set date as index\u001B[39;00m\n\u001B[1;32m      5\u001B[0m df \u001B[38;5;241m=\u001B[39m (\n\u001B[1;32m      6\u001B[0m     df\n\u001B[1;32m      7\u001B[0m     \u001B[38;5;241m.\u001B[39massign(date\u001B[38;5;241m=\u001B[39mpd\u001B[38;5;241m.\u001B[39mto_datetime(df[\u001B[38;5;124m'\u001B[39m\u001B[38;5;124mdate\u001B[39m\u001B[38;5;124m'\u001B[39m]))  \n\u001B[1;32m      8\u001B[0m     \u001B[38;5;241m.\u001B[39mset_index(\u001B[38;5;124m'\u001B[39m\u001B[38;5;124mdate\u001B[39m\u001B[38;5;124m'\u001B[39m, drop\u001B[38;5;241m=\u001B[39m\u001B[38;5;28;01mTrue\u001B[39;00m)             \n\u001B[1;32m      9\u001B[0m )\n",
      "\u001B[0;31mNameError\u001B[0m: name 'fetch_historical_data' is not defined"
     ]
    }
   ],
   "execution_count": 15
  },
  {
   "metadata": {},
   "cell_type": "code",
   "outputs": [],
   "execution_count": null,
   "source": [
    "# get info\n",
    "df.info()"
   ],
   "id": "6c52bce0f9e90f3c"
  },
  {
   "metadata": {},
   "cell_type": "code",
   "outputs": [],
   "execution_count": null,
   "source": [
    "# Visualize data\n",
    "plt.plot(df['close']);"
   ],
   "id": "86b95736136c45cc"
  },
  {
   "metadata": {},
   "cell_type": "markdown",
   "source": "## EDA of Original dataset",
   "id": "4b3fb9d15d723699"
  },
  {
   "metadata": {},
   "cell_type": "code",
   "outputs": [],
   "execution_count": null,
   "source": [
    "# Descriptive statistics\n",
    "df.describe().T"
   ],
   "id": "a1df63c5b33877de"
  },
  {
   "metadata": {},
   "cell_type": "markdown",
   "source": [
    "## Cleaning & Imputation\n",
    "Data is already cleaned. No further processing or imputation required."
   ],
   "id": "5e7ba86a102813d8"
  },
  {
   "metadata": {},
   "cell_type": "code",
   "outputs": [],
   "execution_count": null,
   "source": [
    "# Check for missing values\n",
    "df.isnull().sum()\n",
    "df.shape"
   ],
   "id": "91ae1397584c12aa"
  },
  {
   "metadata": {},
   "cell_type": "markdown",
   "source": [
    "## Feature Engineering\n",
    "Features or Predictors are also known as an independent variable which are used to determine the value of the target variable. We will generate features and label from the original dataset."
   ],
   "id": "89fb5b4920e96f95"
  },
  {
   "metadata": {},
   "cell_type": "code",
   "outputs": [],
   "execution_count": null,
   "source": [
    "# generate features\n",
    "# use quantmod timeseries functions\n",
    "def generate_xy(frame):\n",
    "    df = frame.copy()\n",
    "    upper= BBands(df.close, lookback=5, multiplier=2)[2]\n",
    "\n",
    "    # features - X\n",
    "    data = pd.DataFrame({\n",
    "        'x1': np.where(-LoCl(df) > HiCl(df), 1 ,0),\n",
    "        'x2': np.where(Hi(df) > lag(Hi(df)), 1, 0),\n",
    "        'x3': np.where(Lo(df) > lag(Lo(df)), 1, 0),\n",
    "        'y': np.where(lead(Cl(df)) > upper, 1, 0)\n",
    "    }, index=df.index)\n",
    "\n",
    "    return data"
   ],
   "id": "3044eba42a02d693"
  },
  {
   "metadata": {},
   "cell_type": "markdown",
   "source": "## Feature Specification",
   "id": "2b0e4b0302ae0e5d"
  },
  {
   "metadata": {},
   "cell_type": "code",
   "outputs": [],
   "execution_count": null,
   "source": [
    "# extract features\n",
    "data = generate_xy(df)\n",
    "X = data.drop(columns=['y'])\n",
    "X"
   ],
   "id": "66f0eece736b8556"
  },
  {
   "metadata": {},
   "cell_type": "markdown",
   "source": [
    "## Target or Label Definition\n",
    "Label or the target variable is also known as the dependent variable. Here, the target variable is whether the underlying price will close above the upper bollinger band the next trading day. If the tomorrow’s closing price is greater than the upper bollinger band level, then we will buy the underlying, else we will do nothing (hold) it.\n",
    "\n",
    "We assign a value of +1 for the buy signal and 0 for the hold signal to target variable. The target can be described as :\n",
    "\n",
    "$$y_t =\\begin{cases}\n",
    "    +1, & \\text{if $p_{t+1} > ub_{t}$}\\\\\n",
    "    0, & \\text{Otherwise}\n",
    "    \\end{cases}$$\n",
    "    \n",
    "Where $ub_{t} is the upper bollinger band level and p_{t+1} is the 1-day forward closing price of the underlying$\n"
   ],
   "id": "6f7d1a604b4800c1"
  },
  {
   "metadata": {},
   "cell_type": "code",
   "outputs": [],
   "execution_count": null,
   "source": [
    "# get labels\n",
    "y = data['y']\n",
    "y\n",
    "\n",
    "# check class imbalance\n",
    "pd.Series(y).value_counts()"
   ],
   "id": "3466ff273358423c"
  },
  {
   "metadata": {},
   "cell_type": "markdown",
   "source": "#### Split data",
   "id": "8006c1cb659405fd"
  },
  {
   "metadata": {},
   "cell_type": "code",
   "outputs": [],
   "execution_count": null,
   "source": [
    "# Splitting the datasets into training and testing data.\n",
    "# Always keep shuffle = False for financial time series\n",
    "X_train, X_test, y_train, y_test = train_test_split(X, y, test_size=0.2, shuffle=False)\n",
    "\n",
    "# Output the train and test data size\n",
    "print(f\"Train and Test Size {len(X_train)}, {len(X_test)}\")"
   ],
   "id": "8337d82cd98b674f"
  },
  {
   "metadata": {},
   "cell_type": "markdown",
   "source": [
    "## Base Model\n",
    "\n",
    "We now build a base model with default parameters using Pipelines. Dataset needs to be scaled for the model to work properly and all the features should have a similar scale. The scaling can be accomplished by using the StandardScaler transformer.\n",
    "\n",
    "#### Fit Model"
   ],
   "id": "efd46966e272b2d8"
  },
  {
   "metadata": {},
   "cell_type": "code",
   "outputs": [],
   "execution_count": null,
   "source": [
    "# Use pipeline to fit the basemodel\n",
    "basemodel = Pipeline([\n",
    "    (\"scaler\", StandardScaler()), \n",
    "    (\"classifier\", LogisticRegression(\n",
    "        class_weight='balanced')) \n",
    "]) \n",
    "\n",
    "basemodel.fit(X_train, y_train)"
   ],
   "id": "49f560e9516636f6"
  },
  {
   "metadata": {},
   "cell_type": "markdown",
   "source": "## Predict model",
   "id": "323ef69d0733ef6c"
  },
  {
   "metadata": {},
   "cell_type": "code",
   "outputs": [],
   "execution_count": null,
   "source": [
    "# Predicting the test dataset\n",
    "y_pred = basemodel.predict(X_test) # gives you the class labels 1, -1,..\n",
    "\n",
    "# Predict Probabilities # gives you the probabilities of each class labels\n",
    "y_proba = basemodel.predict_proba(X_test)"
   ],
   "id": "a4839ef54ce37786"
  },
  {
   "metadata": {},
   "cell_type": "code",
   "outputs": [],
   "execution_count": null,
   "source": [
    "# verify the class labels\n",
    "basemodel.classes_"
   ],
   "id": "513c70a13b1dad6d"
  },
  {
   "metadata": {},
   "cell_type": "code",
   "outputs": [],
   "execution_count": null,
   "source": [
    "# predict probability\n",
    "y_proba[-20:]"
   ],
   "id": "2c1427c61bab1685"
  },
  {
   "metadata": {},
   "cell_type": "code",
   "outputs": [],
   "execution_count": null,
   "source": [
    "# predict class labels\n",
    "y_pred[-20:]"
   ],
   "id": "9d82db004ea1a6ef"
  },
  {
   "metadata": {},
   "cell_type": "code",
   "outputs": [],
   "execution_count": null,
   "source": [
    "# accuracy of the model\n",
    "acc_train = accuracy_score(y_train, basemodel.predict(X_train))\n",
    "acc_test = accuracy_score(y_test, y_pred)\n",
    "\n",
    "print(f'Train Accuracy: {acc_train:0.4}, Test Accuracy: {acc_test:0.4}')"
   ],
   "id": "b9f0ccd5e8e998fa"
  },
  {
   "metadata": {},
   "cell_type": "markdown",
   "source": [
    "## Prediction Quality\n",
    "### Confusion Matrix\n",
    "Confusion matrix is a table used to describe the performance of a classification model on a set of test data for which the true values are known.\n",
    "\n",
    "| Outcome | Position1 |:---------------|:------------| |True Negative | upper-left | |False Negative | lower-left | |False Positive | upper-right | |True Positive | lower-right |\n",
    "\n",
    "True Positive is an outcome where the model correctly predicts the positive class. Similarly, a true negative is an outcome where the model correctly predicts the negative class.\n",
    "\n",
    "False Positive is an outcome where the model incorrectly predicts the positive class. And a false negative is an outcome where the model incorrectly predicts the negative class.\n",
    "\n",
    "Note: In a binary classification task, the terms ‘’positive’’ and ‘’negative’’ refer to the classifier’s prediction, and the terms ‘’true’’ and ‘’false’’ refer to whether that prediction corresponds to the external judgment (sometimes known as the ‘’observation’’) and the axes can be flipped. Refer Scikit-Learn Binary Classification for further details."
   ],
   "id": "f4244dc137067296"
  },
  {
   "metadata": {},
   "cell_type": "code",
   "outputs": [],
   "execution_count": null,
   "source": [
    "# Display confussion matrix\n",
    "disp = ConfusionMatrixDisplay.from_estimator(\n",
    "        basemodel,\n",
    "        X_test,\n",
    "        y_test,\n",
    "        # display_labels=model.classes_,\n",
    "        cmap=plt.cm.Blues\n",
    "    )\n",
    "plt.title('Confusion matrix')\n",
    "plt.show()"
   ],
   "id": "c8f0ba04f38e44f"
  },
  {
   "metadata": {},
   "cell_type": "markdown",
   "source": "",
   "id": "2703f4189e5927e7"
  },
  {
   "metadata": {},
   "cell_type": "markdown",
   "source": [
    "### Classification Report\n",
    "A classification report is used to measure the quality of predictions from a classification algorithm.\n",
    "\n"
   ],
   "id": "4b1fa8051bbe0060"
  },
  {
   "metadata": {},
   "cell_type": "code",
   "outputs": [],
   "execution_count": null,
   "source": [
    "# Classification Report\n",
    "print(classification_report(y_test, y_pred))"
   ],
   "id": "b4ec2fb593aa2072"
  },
  {
   "metadata": {},
   "cell_type": "markdown",
   "source": [
    "### Macro Average\n",
    "Average of precision (or recall or f1-score) of different classes.\n",
    "\n",
    "### Weighted Average\n",
    "Actual Class1 instance * precision (or recall or f1-score) of Class1 + Actual Class2 instance * (or recall or f1-score) of Class2.\n",
    "\n",
    "### Receiver Operator Characterisitc Curve (ROC)\n",
    "The area under the ROC curve (AUC) is a measure of how well a model can distinguish between two classes. The ROC curve is created by plotting the true positive rate (TPR) against the false positive rate (FPR) at various classification thresholds."
   ],
   "id": "c4a2b55236f74af5"
  },
  {
   "metadata": {},
   "cell_type": "code",
   "outputs": [],
   "execution_count": null,
   "source": [
    "# Display ROCCurve \n",
    "disp = RocCurveDisplay.from_estimator(\n",
    "            basemodel, \n",
    "            X_test, \n",
    "            y_test,\n",
    "            name='Baseline Model')\n",
    "plt.title(\"AUC-ROC Curve \\n\")\n",
    "plt.plot([0,1],[0,1],linestyle=\"--\", label='Random 50:50')\n",
    "plt.legend()\n",
    "plt.show()"
   ],
   "id": "d95b3f4c17b7df84"
  },
  {
   "metadata": {},
   "cell_type": "markdown",
   "source": [
    "## Hyper-parameter Tuning\n",
    "Hyper-parameters are parameters that are not directly learnt within estimators. In scikit-learn they are passed as arguments to the constructor of the estimator classes. It is possible and recommended to search the hyper-parameter space for the best cross validation score. Any parameter provided when constructing an estimator may be optimized in this manner.\n",
    "\n",
    "## Cross-validation of Time Series\n",
    "Time series data are sequential in nature and are characterised by the correlation between observations. Classical cross-validation techniques such as KFold assume the samples are independent and identically distributed, and would result in poor estimates when applied on time series data.\n",
    "\n",
    "To preserve the order and have training set occur prior to the test set, we use Forward Chaining method in which the model is initially trained and tested with the same windows size. And, for each subsequent fold, the training window increases in size, encompassing both the previous training data and test data. The new test window once again follows the training window but stays the same length.\n",
    "\n",
    "<img align='center' style='vertical-align: middle;' width=\"25%\" src=\"fowardchaining.png\">\n",
    "\n",
    "We will tune the hyperparameters to select the K-Best Neighbor by TimeSeriesSplit from scikit-learn. This is a forward chaining cross-validation method and is a variation from the KFold. In the kth split, it returns first k folds as train set and the (k+1)th fold as test set. Unlike standard cross-validation methods, successive training sets are supersets of those that come before them."
   ],
   "id": "984a06d2159b064c"
  },
  {
   "metadata": {
    "ExecuteTime": {
     "end_time": "2024-09-25T11:22:31.987766Z",
     "start_time": "2024-09-25T11:22:31.986202Z"
    }
   },
   "cell_type": "code",
   "source": [
    "# # Example: First 2 split\n",
    "# tscv = TimeSeriesSplit(n_splits=4, gap=1)\n",
    "# for train, test in tscv.split(X):\n",
    "#     print(train, test)\n",
    "# Cross-validation\n",
    "tscv = TimeSeriesSplit(n_splits=5, gap=1)"
   ],
   "id": "a8e74151c034c2a8",
   "outputs": [],
   "execution_count": null
  },
  {
   "metadata": {},
   "cell_type": "markdown",
   "source": [
    "## GridSearch\n",
    "The conventional way of performing hyperparameter optimization has been a grid search (aka parameter sweep). It is an exhaustive search through a manually specified subset of the hyperparameter space of a learning algorithm. A grid search algorithm must be guided by some performance metric, typically measured by cross-validation on the training set or evaluation on a validation set.\n",
    "\n",
    "GridSearch performs exhaustive search over specified parameter values for an estimator. It implements a “fit” and a “score” method among other methods. The parameters of the estimator used to apply these methods are optimized by cross-validated grid-search over a parameter grid."
   ],
   "id": "c840375d0e63060"
  },
  {
   "metadata": {},
   "cell_type": "code",
   "outputs": [],
   "execution_count": null,
   "source": [
    "# Get parameters list\n",
    "basemodel.get_params()"
   ],
   "id": "1f03839c4e983ff3"
  },
  {
   "metadata": {},
   "cell_type": "code",
   "outputs": [],
   "execution_count": null,
   "source": [
    "pipeline = Pipeline([\n",
    "    (\"scaler\", StandardScaler()), \n",
    "    (\"classifier\", LogisticRegression(\n",
    "        class_weight='balanced')) \n",
    "]) \n",
    "\n",
    "# Perform Gridsearch and fit\n",
    "param_grid = {\"classifier__tol\": [0.001, 0.001, 0.01, 0.1, 1],\n",
    "              \"classifier__C\": [0.001, 0.01, 0.1, 1, 10, 100, 1000],\n",
    "              }\n",
    "\n",
    "# Perform Gridsearch\n",
    "gs = GridSearchCV(pipeline, \n",
    "                  param_grid, \n",
    "                  scoring='roc_auc', \n",
    "                  n_jobs=-1, \n",
    "                  cv=tscv, \n",
    "                  verbose=1)\n",
    "\n",
    "gs.fit(X_train, y_train)"
   ],
   "id": "be6af3bc4feeede0"
  },
  {
   "metadata": {},
   "cell_type": "code",
   "outputs": [],
   "execution_count": null,
   "source": [
    "# predict using the best model\n",
    "tunedmodel = gs.best_estimator_\n",
    "\n",
    "# Predict class labels \n",
    "y_pred = tunedmodel.predict(X_test)\n",
    "\n",
    "# Predict Probabilities\n",
    "# y_proba = tunedmodel.predict_proba(X_test)[:,1]\n",
    "\n",
    "# Measure Accuracy\n",
    "acc_train = accuracy_score(y_train, tunedmodel.predict(X_train))\n",
    "acc_test = accuracy_score(y_test, y_pred)\n",
    "\n",
    "# Print Accuracy\n",
    "print(f'\\n Training Accuracy \\t: {acc_train :0.4} \\n Test Accuracy \\t\\t: {acc_test :0.4}')"
   ],
   "id": "740bed78b5dc960d"
  },
  {
   "metadata": {},
   "cell_type": "code",
   "outputs": [],
   "execution_count": null,
   "source": [
    "# Display confussion matrix\n",
    "disp = ConfusionMatrixDisplay.from_estimator(\n",
    "        tunedmodel,\n",
    "        X_test,\n",
    "        y_test,\n",
    "        # display_labels=tunedmodel.classes_,\n",
    "        cmap=plt.cm.Blues\n",
    "    )\n",
    "plt.title('Confusion matrix')\n",
    "plt.show()"
   ],
   "id": "9fef1a0b0704a0d3"
  },
  {
   "metadata": {},
   "cell_type": "code",
   "outputs": [],
   "execution_count": null,
   "source": [
    "# Display ROCCurve \n",
    "disp = RocCurveDisplay.from_estimator(\n",
    "            tunedmodel, \n",
    "            X_test, \n",
    "            y_test,\n",
    "            name='Tuned Logistic')\n",
    "plt.title(\"AUC-ROC Curve \\n\")\n",
    "plt.plot([0,1],[0,1],linestyle=\"--\", label='Random 50:50')\n",
    "plt.legend()\n",
    "plt.show()"
   ],
   "id": "c5527e35ee3f0fb8"
  },
  {
   "metadata": {},
   "cell_type": "code",
   "outputs": [],
   "execution_count": null,
   "source": [
    "# Classification Report\n",
    "print(classification_report(y_test, y_pred))"
   ],
   "id": "83ff698ef1af9a58"
  },
  {
   "metadata": {},
   "cell_type": "markdown",
   "source": [
    "## Trading Strategy\n",
    "Let's now define a trading strategy. We will use the predicted signal to buy or sell. We then compare the result of this strategy with the buy and hold and visualize the performance of the KNN Algorithm."
   ],
   "id": "26f015920e40b0f7"
  },
  {
   "metadata": {},
   "cell_type": "code",
   "outputs": [],
   "execution_count": null,
   "source": [
    "# Subsume into a new dataframe\n",
    "df1 = df[-len(X_test):].copy()                                  # df[-len(X_test):]\n",
    "df1['Signal'] = tunedmodel.predict(X_test)                      # tunedmodel.predict(X_test)"
   ],
   "id": "ac127927d1240081"
  },
  {
   "metadata": {},
   "cell_type": "code",
   "outputs": [],
   "execution_count": null,
   "source": [
    "# Daily Returns - Benchmark return\n",
    "df1['Returns'] = np.log(df1['close']).diff().fillna(0)\n",
    "\n",
    "# Strategy Returns - Logistic\n",
    "df1['Strategy'] =  df1['Returns'] * df1['Signal'].shift(1).fillna(0)\n",
    "\n",
    "df1"
   ],
   "id": "a526c38abed09ae5"
  },
  {
   "metadata": {},
   "cell_type": "markdown",
   "source": "## Return Analysis",
   "id": "83b78f1b4a8fa433"
  },
  {
   "metadata": {},
   "cell_type": "code",
   "outputs": [],
   "execution_count": null,
   "source": [
    "# performance analysis\n",
    "qs.reports.html(\n",
    "    df1['Strategy'],\n",
    "    df1['Returns'],\n",
    "    title='Strategy Performance',\n",
    "    output='output/logistic.html'\n",
    ")"
   ],
   "id": "13d583f65e3f4eb9"
  },
  {
   "metadata": {},
   "cell_type": "markdown",
   "source": [
    "## References\n",
    "\n",
    "<ul>\n",
    "<li><a href=\"https://urldefense.com/v3/__https://kannansingaravelu.com/docs/site/index.html__;!!KGvANbslH1YjwA!98wbvTkK9-6bv88kkSsRletbahwkdvhkC0A89umh3dImWdEgbd4ULDHjRAMsYdJNpiJuX5N_HxtKd64IiBYmGRQcXMLYqbof1c0$\">Quantmod</a></li>\n",
    "<li><a href=\"https://urldefense.com/v3/__https://scikit-learn.org/stable/modules/generated/sklearn.model_selection.TimeSeriesSplit.html__;!!KGvANbslH1YjwA!98wbvTkK9-6bv88kkSsRletbahwkdvhkC0A89umh3dImWdEgbd4ULDHjRAMsYdJNpiJuX5N_HxtKd64IiBYmGRQcXMLYuKcLKyk$\">TimeSeriesSplit</a></li>\n",
    "<li><a href=\"https://urldefense.com/v3/__https://scikit-learn.org/stable/modules/cross_validation.html__;!!KGvANbslH1YjwA!98wbvTkK9-6bv88kkSsRletbahwkdvhkC0A89umh3dImWdEgbd4ULDHjRAMsYdJNpiJuX5N_HxtKd64IiBYmGRQcXMLY4r3DDHA$\">Cross-validation</a></li>\n",
    "<li><a href=\"https://urldefense.com/v3/__https://scikit-learn.org/stable/modules/generated/sklearn.model_selection.GridSearchCV.html__;!!KGvANbslH1YjwA!98wbvTkK9-6bv88kkSsRletbahwkdvhkC0A89umh3dImWdEgbd4ULDHjRAMsYdJNpiJuX5N_HxtKd64IiBYmGRQcXMLYsijTEio$\">GridSearchCV</a></li>\n",
    "<li><a href=\"https://urldefense.com/v3/__https://scikit-learn.org/stable/modules/grid_search.html*grid-search__;Iw!!KGvANbslH1YjwA!98wbvTkK9-6bv88kkSsRletbahwkdvhkC0A89umh3dImWdEgbd4ULDHjRAMsYdJNpiJuX5N_HxtKd64IiBYmGRQcXMLYQzQKOlU$\">Hyperparameters Tuning</a></li>\n",
    "<li><a href=\"https://urldefense.com/v3/__https://scikit-learn.org/stable/modules/generated/sklearn.linear_model.LogisticRegression.html__;!!KGvANbslH1YjwA!98wbvTkK9-6bv88kkSsRletbahwkdvhkC0A89umh3dImWdEgbd4ULDHjRAMsYdJNpiJuX5N_HxtKd64IiBYmGRQcXMLYfOItr4E$\">Logistic Regression</a></li>\n",
    "</ul>"
   ],
   "id": "24fd21fd54701a86"
  },
  {
   "metadata": {},
   "cell_type": "code",
   "outputs": [],
   "execution_count": null,
   "source": "",
   "id": "7236b8a758e9c3a5"
  }
 ],
 "metadata": {
  "kernelspec": {
   "display_name": "Python 3",
   "language": "python",
   "name": "python3"
  },
  "language_info": {
   "codemirror_mode": {
    "name": "ipython",
    "version": 2
   },
   "file_extension": ".py",
   "mimetype": "text/x-python",
   "name": "python",
   "nbconvert_exporter": "python",
   "pygments_lexer": "ipython2",
   "version": "2.7.6"
  }
 },
 "nbformat": 4,
 "nbformat_minor": 5
}
