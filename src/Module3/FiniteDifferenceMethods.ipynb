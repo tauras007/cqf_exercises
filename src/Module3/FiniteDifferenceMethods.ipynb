{
 "cells": [
  {
   "metadata": {},
   "cell_type": "markdown",
   "source": [
    "### Finite Difference Methods\n",
    "Finite Difference Methods (FDM) are one of the popular numerical methods used in computational finance. FDM are discretizations used for solving differential equations by approximating them with difference equations. It is one of the simplest and the oldest methods to solve differential equations. These techniques were applied to numerical applications as early as 1950s.\n",
    "\n",
    "FDM are similar in approach to the (binomial) tress. However, instead of discretizing asset prices and the passage of time in a tree structure, it discretizes in a grid - with time and price steps - by calculating the value at every possible grid points.\n",
    "\n",
    "Explicit, Implicit and Crank-Nicolson are the three popular approaches of FDM. The explicit methods are simple to implement, but it does not always converge and largely depends on the size of the time and asset step. Explicit methods are unstable when compared to other two methods. Finite Difference approach is peferred for low dimensional problem, usually upto 4 dimensions.\n",
    "\n",
    "### Explicit FDM\n",
    "Explicit Finite Difference Method is a numerical technique used to solve partial differential equations (PDEs) by approximating derivatives with finite differences. It is \"explicit\" in the sense that the new values in the grid are computed directly from the known values of the previous time step, without needing to solve a system of equations. In Explicit FDM, the solution at the next time step is computed explicitly from the known values at the current time step. This method is straightforward and involves updating each grid point using a formula derived from the PDE and its boundary conditions.\n",
    "\n",
    "Note: Explicit FDM is a forward marching scheme in its numerical computation, but it's applied in a backward-looking manner for option pricing problems. The numerical scheme is forward marching (from known to unknown). The application to option pricing is backward-looking (from expiration to present).\n",
    "\n",
    "### Differentiation Using The Grid\n",
    "The Binomial method contains the diffusion - the volatility - in the tree structure whereas in FDM, the 'tree' is fixed and we change the parameters to reflect the changing diffusion. We will now define the grid by specifying the time step $δt$ and asset step $δs$ and discretize $S$ and $t$ as\n",
    "\n",
    "$$ S=i\\delta s $$\n",
    "and time to maturity as \n",
    "$$ t=T-k \\delta t $$\n",
    "where 0 ≤ i ≤ I and 0 ≤ k ≤ K\n",
    "$$V^{k}_{i} = V( i \\delta S, T-k \\delta t )$$\n",
    "### Approximating Greeks\n",
    "The greeks terms, the Black–Scholes equation can be written as\n",
    "$$\\Theta + \\frac1{2}{\\sigma^2 S^2}\\Gamma + r S \\Delta - rV = 0$$\n",
    "Assume that we know the option value at each grid points, we can extract the derivatives of the option using Taylor series expansion.\n",
    "\n",
    "## Approximating $Θ$\n",
    "\n",
    "We know that the first derivative of option as,\n",
    " \n",
    "$$\\frac{\\partial V}{\\partial t} = \\underset{h \\, \\rightarrow \\, 0}{\\lim}\\, \\frac{V(S, t + h) - V(S, t)}{h}$$\n",
    "\n",
    "We can then approximate the time derivative from our grid using\n",
    "\n",
    "$$\\frac{\\partial V}{\\partial t} (S, t) \\approx \\frac{V_{i}^{k} - V_{i}^{k+1} }{\\delta t}$$\n",
    "\n",
    "## Approximating $Δ$\n",
    "\n",
    "From the lecture, we know that the central difference has much lower error when compared to forward and backward differences. Accordingly, we can approximate the first derivative of option with respect to the underlying as\n",
    "\n",
    "$$\\frac{\\partial V}{\\partial S} (S, t) \\approx \\frac{V_{i+1}^{k} - V_{i-1}^{k} }{2 \\delta S}$$\n",
    "\n",
    "## Approximating $Γ$\n",
    "\n",
    "The gamma of the option is the second derivative of option with respective to the underlying and approximating it we have,\n",
    "\n",
    "$$\\frac{\\partial V^2}{\\partial S^2} (S, t) \\approx \\frac{V_{i+1}^{k} - 2 V_{i}^{k} + V_{i-1}^{k} }{\\delta S^2}$$\n",
    "\n",
    "## Import Required Libraries"
   ],
   "id": "e490228fc97b2a1e"
  },
  {
   "metadata": {
    "ExecuteTime": {
     "end_time": "2024-08-23T15:27:10.039979Z",
     "start_time": "2024-08-23T15:27:07.665629Z"
    }
   },
   "cell_type": "code",
   "source": [
    "# Ignore warnings\n",
    "import warnings\n",
    "warnings.filterwarnings('ignore')\n",
    "\n",
    "# Importing libraries\n",
    "import pandas as pd\n",
    "import numpy as np\n",
    "\n",
    "# Import cufflinks\n",
    "import cufflinks as cf\n",
    "cf.set_config_file(offline=True, dimensions=((1000,600)))\n",
    "\n",
    "# Set max row and columns to 300 and 100\n",
    "pd.set_option('display.max_rows', 300)\n",
    "pd.set_option('display.max_columns', 100)"
   ],
   "id": "b08b528e98438d91",
   "outputs": [
    {
     "data": {
      "text/html": [
       "        <script type=\"text/javascript\">\n",
       "        window.PlotlyConfig = {MathJaxConfig: 'local'};\n",
       "        if (window.MathJax && window.MathJax.Hub && window.MathJax.Hub.Config) {window.MathJax.Hub.Config({SVG: {font: \"STIX-Web\"}});}\n",
       "        if (typeof require !== 'undefined') {\n",
       "        require.undef(\"plotly\");\n",
       "        requirejs.config({\n",
       "            paths: {\n",
       "                'plotly': ['https://cdn.plot.ly/plotly-2.12.1.min']\n",
       "            }\n",
       "        });\n",
       "        require(['plotly'], function(Plotly) {\n",
       "            window._Plotly = Plotly;\n",
       "        });\n",
       "        }\n",
       "        </script>\n",
       "        "
      ]
     },
     "metadata": {},
     "output_type": "display_data"
    },
    {
     "data": {
      "text/html": [
       "        <script type=\"text/javascript\">\n",
       "        window.PlotlyConfig = {MathJaxConfig: 'local'};\n",
       "        if (window.MathJax && window.MathJax.Hub && window.MathJax.Hub.Config) {window.MathJax.Hub.Config({SVG: {font: \"STIX-Web\"}});}\n",
       "        if (typeof require !== 'undefined') {\n",
       "        require.undef(\"plotly\");\n",
       "        requirejs.config({\n",
       "            paths: {\n",
       "                'plotly': ['https://cdn.plot.ly/plotly-2.12.1.min']\n",
       "            }\n",
       "        });\n",
       "        require(['plotly'], function(Plotly) {\n",
       "            window._Plotly = Plotly;\n",
       "        });\n",
       "        }\n",
       "        </script>\n",
       "        "
      ]
     },
     "metadata": {},
     "output_type": "display_data"
    }
   ],
   "execution_count": 1
  },
  {
   "metadata": {},
   "cell_type": "markdown",
   "source": [
    "# Example\n",
    "\n",
    "Suppose that we know the value of the option on the below grid points, we can then easily evaluate the greeks as follows\n",
    "\n",
    "From the grid, we can estimate the\n",
    "\n",
    "$$\\Theta = \\frac{12-13}{0.1} = -10$$\n",
    "$$\\Delta = \\frac{15-10}{2x2} = 1.25$$\n",
    "$$\\Gamma = \\frac{15-2x12+10}{2x2} = 0.25$$\n",
    "\n",
    "Black Scholes Equation is a relationship between the option value and greeks. If we know the option value at the expiration, we can step back to get the values prior to it such that $V^i_{k} = V^i_{k-1} - \\Theta * dt$. This approach is called Explicit Finite Difference Method because the relationship between the option values at time step \n",
    "$k$ is a simple function of the option values at time step $k−1$."
   ],
   "id": "1ff961f3e83321ab"
  },
  {
   "metadata": {},
   "cell_type": "markdown",
   "source": [
    "### Option Pricing Techniques\n",
    "As with other option pricing techniques Explicit Finite Difference methods are used to price options using what is essentially a three step process.\n",
    "\n",
    "Step 1: Generate the grid by specifying grid points.\n",
    "Step 2: Specify the final or initial conditions.\n",
    "Step 3: Use boundary conditions to calculate option values and step back down the grid to fill it.\n",
    "\n",
    "## European Option\n",
    "\n",
    "To price an option, we generate a finite grid of a specified asset and time steps for a given maturity. Next, we specify the initial and boundary conditions to calculate payoff when S and T equals zero. We then step back to fill the grid with newer values derived from the earlier values.\n",
    "\n",
    "## Specify Parameters"
   ],
   "id": "3ca40914cf6a6cd4"
  },
  {
   "metadata": {
    "ExecuteTime": {
     "end_time": "2024-08-23T15:31:00.120065Z",
     "start_time": "2024-08-23T15:31:00.117105Z"
    }
   },
   "cell_type": "code",
   "source": [
    "# Specify the parameters for FDM \n",
    "T    = 1                              # time to maturity in years\n",
    "E    = 100                            # strike price\n",
    "r    = .05                            # riskfree rate\n",
    "vol  = .20                            # volatility\n",
    "call = True                           # call = True\n",
    "\n",
    "NAS  = 20                             # number of asset steps \n",
    "ds   = 2*E/NAS                        # asset step size\n",
    "\n",
    "dt   = (0.9/vol**2/NAS**2)            # time step size, for stability\n",
    "NTS  = int(T/dt) + 1                  # number of time steps\n",
    "dt   = T/NTS                          # time step size [Expiration as int # of time steps away]\n",
    "\n",
    "american = False                      # american = False"
   ],
   "id": "dced7abbcf18b17e",
   "outputs": [],
   "execution_count": 2
  },
  {
   "metadata": {},
   "cell_type": "markdown",
   "source": [
    "### Generate Grid\n",
    "Build the grid with the above input parameters"
   ],
   "id": "756687d4050ec5f4"
  },
  {
   "metadata": {
    "ExecuteTime": {
     "end_time": "2024-08-23T15:31:27.446343Z",
     "start_time": "2024-08-23T15:31:27.416065Z"
    }
   },
   "cell_type": "code",
   "source": [
    "# Create asset steps i*ds\n",
    "s = np.arange(0, (NAS+1)*ds, ds)\n",
    "s\n",
    "# Create time steps k*dt\n",
    "# k goes from 0,1,...,10; # t goes from 1,0.9,...0\n",
    "t= T-np.arange(NTS*dt,-dt,-dt)[::-1]\n",
    "t\n",
    "# Verify the steps size\n",
    "s.shape, t.shape\n",
    "# Initialize the grid with zeros\n",
    "grid = np.zeros((len(s), len(t)))\n",
    "\n",
    "# Subsume the grid points into a dataframe\n",
    "# with asset price as index and time steps as columns\n",
    "grid = pd.DataFrame(grid, index=s, columns=np.around(t, 3))\n",
    "grid"
   ],
   "id": "5c459c334058e7c1",
   "outputs": [
    {
     "data": {
      "text/plain": [
       "       1.000  0.944  0.889  0.833  0.778  0.722  0.667  0.611  0.556  0.500  \\\n",
       "0.0      0.0    0.0    0.0    0.0    0.0    0.0    0.0    0.0    0.0    0.0   \n",
       "10.0     0.0    0.0    0.0    0.0    0.0    0.0    0.0    0.0    0.0    0.0   \n",
       "20.0     0.0    0.0    0.0    0.0    0.0    0.0    0.0    0.0    0.0    0.0   \n",
       "30.0     0.0    0.0    0.0    0.0    0.0    0.0    0.0    0.0    0.0    0.0   \n",
       "40.0     0.0    0.0    0.0    0.0    0.0    0.0    0.0    0.0    0.0    0.0   \n",
       "50.0     0.0    0.0    0.0    0.0    0.0    0.0    0.0    0.0    0.0    0.0   \n",
       "60.0     0.0    0.0    0.0    0.0    0.0    0.0    0.0    0.0    0.0    0.0   \n",
       "70.0     0.0    0.0    0.0    0.0    0.0    0.0    0.0    0.0    0.0    0.0   \n",
       "80.0     0.0    0.0    0.0    0.0    0.0    0.0    0.0    0.0    0.0    0.0   \n",
       "90.0     0.0    0.0    0.0    0.0    0.0    0.0    0.0    0.0    0.0    0.0   \n",
       "100.0    0.0    0.0    0.0    0.0    0.0    0.0    0.0    0.0    0.0    0.0   \n",
       "110.0    0.0    0.0    0.0    0.0    0.0    0.0    0.0    0.0    0.0    0.0   \n",
       "120.0    0.0    0.0    0.0    0.0    0.0    0.0    0.0    0.0    0.0    0.0   \n",
       "130.0    0.0    0.0    0.0    0.0    0.0    0.0    0.0    0.0    0.0    0.0   \n",
       "140.0    0.0    0.0    0.0    0.0    0.0    0.0    0.0    0.0    0.0    0.0   \n",
       "150.0    0.0    0.0    0.0    0.0    0.0    0.0    0.0    0.0    0.0    0.0   \n",
       "160.0    0.0    0.0    0.0    0.0    0.0    0.0    0.0    0.0    0.0    0.0   \n",
       "170.0    0.0    0.0    0.0    0.0    0.0    0.0    0.0    0.0    0.0    0.0   \n",
       "180.0    0.0    0.0    0.0    0.0    0.0    0.0    0.0    0.0    0.0    0.0   \n",
       "190.0    0.0    0.0    0.0    0.0    0.0    0.0    0.0    0.0    0.0    0.0   \n",
       "200.0    0.0    0.0    0.0    0.0    0.0    0.0    0.0    0.0    0.0    0.0   \n",
       "\n",
       "       0.444  0.389  0.333  0.278  0.222  0.167  0.111  0.056  0.000  \n",
       "0.0      0.0    0.0    0.0    0.0    0.0    0.0    0.0    0.0    0.0  \n",
       "10.0     0.0    0.0    0.0    0.0    0.0    0.0    0.0    0.0    0.0  \n",
       "20.0     0.0    0.0    0.0    0.0    0.0    0.0    0.0    0.0    0.0  \n",
       "30.0     0.0    0.0    0.0    0.0    0.0    0.0    0.0    0.0    0.0  \n",
       "40.0     0.0    0.0    0.0    0.0    0.0    0.0    0.0    0.0    0.0  \n",
       "50.0     0.0    0.0    0.0    0.0    0.0    0.0    0.0    0.0    0.0  \n",
       "60.0     0.0    0.0    0.0    0.0    0.0    0.0    0.0    0.0    0.0  \n",
       "70.0     0.0    0.0    0.0    0.0    0.0    0.0    0.0    0.0    0.0  \n",
       "80.0     0.0    0.0    0.0    0.0    0.0    0.0    0.0    0.0    0.0  \n",
       "90.0     0.0    0.0    0.0    0.0    0.0    0.0    0.0    0.0    0.0  \n",
       "100.0    0.0    0.0    0.0    0.0    0.0    0.0    0.0    0.0    0.0  \n",
       "110.0    0.0    0.0    0.0    0.0    0.0    0.0    0.0    0.0    0.0  \n",
       "120.0    0.0    0.0    0.0    0.0    0.0    0.0    0.0    0.0    0.0  \n",
       "130.0    0.0    0.0    0.0    0.0    0.0    0.0    0.0    0.0    0.0  \n",
       "140.0    0.0    0.0    0.0    0.0    0.0    0.0    0.0    0.0    0.0  \n",
       "150.0    0.0    0.0    0.0    0.0    0.0    0.0    0.0    0.0    0.0  \n",
       "160.0    0.0    0.0    0.0    0.0    0.0    0.0    0.0    0.0    0.0  \n",
       "170.0    0.0    0.0    0.0    0.0    0.0    0.0    0.0    0.0    0.0  \n",
       "180.0    0.0    0.0    0.0    0.0    0.0    0.0    0.0    0.0    0.0  \n",
       "190.0    0.0    0.0    0.0    0.0    0.0    0.0    0.0    0.0    0.0  \n",
       "200.0    0.0    0.0    0.0    0.0    0.0    0.0    0.0    0.0    0.0  "
      ],
      "text/html": [
       "<div>\n",
       "<style scoped>\n",
       "    .dataframe tbody tr th:only-of-type {\n",
       "        vertical-align: middle;\n",
       "    }\n",
       "\n",
       "    .dataframe tbody tr th {\n",
       "        vertical-align: top;\n",
       "    }\n",
       "\n",
       "    .dataframe thead th {\n",
       "        text-align: right;\n",
       "    }\n",
       "</style>\n",
       "<table border=\"1\" class=\"dataframe\">\n",
       "  <thead>\n",
       "    <tr style=\"text-align: right;\">\n",
       "      <th></th>\n",
       "      <th>1.000</th>\n",
       "      <th>0.944</th>\n",
       "      <th>0.889</th>\n",
       "      <th>0.833</th>\n",
       "      <th>0.778</th>\n",
       "      <th>0.722</th>\n",
       "      <th>0.667</th>\n",
       "      <th>0.611</th>\n",
       "      <th>0.556</th>\n",
       "      <th>0.500</th>\n",
       "      <th>0.444</th>\n",
       "      <th>0.389</th>\n",
       "      <th>0.333</th>\n",
       "      <th>0.278</th>\n",
       "      <th>0.222</th>\n",
       "      <th>0.167</th>\n",
       "      <th>0.111</th>\n",
       "      <th>0.056</th>\n",
       "      <th>0.000</th>\n",
       "    </tr>\n",
       "  </thead>\n",
       "  <tbody>\n",
       "    <tr>\n",
       "      <th>0.0</th>\n",
       "      <td>0.0</td>\n",
       "      <td>0.0</td>\n",
       "      <td>0.0</td>\n",
       "      <td>0.0</td>\n",
       "      <td>0.0</td>\n",
       "      <td>0.0</td>\n",
       "      <td>0.0</td>\n",
       "      <td>0.0</td>\n",
       "      <td>0.0</td>\n",
       "      <td>0.0</td>\n",
       "      <td>0.0</td>\n",
       "      <td>0.0</td>\n",
       "      <td>0.0</td>\n",
       "      <td>0.0</td>\n",
       "      <td>0.0</td>\n",
       "      <td>0.0</td>\n",
       "      <td>0.0</td>\n",
       "      <td>0.0</td>\n",
       "      <td>0.0</td>\n",
       "    </tr>\n",
       "    <tr>\n",
       "      <th>10.0</th>\n",
       "      <td>0.0</td>\n",
       "      <td>0.0</td>\n",
       "      <td>0.0</td>\n",
       "      <td>0.0</td>\n",
       "      <td>0.0</td>\n",
       "      <td>0.0</td>\n",
       "      <td>0.0</td>\n",
       "      <td>0.0</td>\n",
       "      <td>0.0</td>\n",
       "      <td>0.0</td>\n",
       "      <td>0.0</td>\n",
       "      <td>0.0</td>\n",
       "      <td>0.0</td>\n",
       "      <td>0.0</td>\n",
       "      <td>0.0</td>\n",
       "      <td>0.0</td>\n",
       "      <td>0.0</td>\n",
       "      <td>0.0</td>\n",
       "      <td>0.0</td>\n",
       "    </tr>\n",
       "    <tr>\n",
       "      <th>20.0</th>\n",
       "      <td>0.0</td>\n",
       "      <td>0.0</td>\n",
       "      <td>0.0</td>\n",
       "      <td>0.0</td>\n",
       "      <td>0.0</td>\n",
       "      <td>0.0</td>\n",
       "      <td>0.0</td>\n",
       "      <td>0.0</td>\n",
       "      <td>0.0</td>\n",
       "      <td>0.0</td>\n",
       "      <td>0.0</td>\n",
       "      <td>0.0</td>\n",
       "      <td>0.0</td>\n",
       "      <td>0.0</td>\n",
       "      <td>0.0</td>\n",
       "      <td>0.0</td>\n",
       "      <td>0.0</td>\n",
       "      <td>0.0</td>\n",
       "      <td>0.0</td>\n",
       "    </tr>\n",
       "    <tr>\n",
       "      <th>30.0</th>\n",
       "      <td>0.0</td>\n",
       "      <td>0.0</td>\n",
       "      <td>0.0</td>\n",
       "      <td>0.0</td>\n",
       "      <td>0.0</td>\n",
       "      <td>0.0</td>\n",
       "      <td>0.0</td>\n",
       "      <td>0.0</td>\n",
       "      <td>0.0</td>\n",
       "      <td>0.0</td>\n",
       "      <td>0.0</td>\n",
       "      <td>0.0</td>\n",
       "      <td>0.0</td>\n",
       "      <td>0.0</td>\n",
       "      <td>0.0</td>\n",
       "      <td>0.0</td>\n",
       "      <td>0.0</td>\n",
       "      <td>0.0</td>\n",
       "      <td>0.0</td>\n",
       "    </tr>\n",
       "    <tr>\n",
       "      <th>40.0</th>\n",
       "      <td>0.0</td>\n",
       "      <td>0.0</td>\n",
       "      <td>0.0</td>\n",
       "      <td>0.0</td>\n",
       "      <td>0.0</td>\n",
       "      <td>0.0</td>\n",
       "      <td>0.0</td>\n",
       "      <td>0.0</td>\n",
       "      <td>0.0</td>\n",
       "      <td>0.0</td>\n",
       "      <td>0.0</td>\n",
       "      <td>0.0</td>\n",
       "      <td>0.0</td>\n",
       "      <td>0.0</td>\n",
       "      <td>0.0</td>\n",
       "      <td>0.0</td>\n",
       "      <td>0.0</td>\n",
       "      <td>0.0</td>\n",
       "      <td>0.0</td>\n",
       "    </tr>\n",
       "    <tr>\n",
       "      <th>50.0</th>\n",
       "      <td>0.0</td>\n",
       "      <td>0.0</td>\n",
       "      <td>0.0</td>\n",
       "      <td>0.0</td>\n",
       "      <td>0.0</td>\n",
       "      <td>0.0</td>\n",
       "      <td>0.0</td>\n",
       "      <td>0.0</td>\n",
       "      <td>0.0</td>\n",
       "      <td>0.0</td>\n",
       "      <td>0.0</td>\n",
       "      <td>0.0</td>\n",
       "      <td>0.0</td>\n",
       "      <td>0.0</td>\n",
       "      <td>0.0</td>\n",
       "      <td>0.0</td>\n",
       "      <td>0.0</td>\n",
       "      <td>0.0</td>\n",
       "      <td>0.0</td>\n",
       "    </tr>\n",
       "    <tr>\n",
       "      <th>60.0</th>\n",
       "      <td>0.0</td>\n",
       "      <td>0.0</td>\n",
       "      <td>0.0</td>\n",
       "      <td>0.0</td>\n",
       "      <td>0.0</td>\n",
       "      <td>0.0</td>\n",
       "      <td>0.0</td>\n",
       "      <td>0.0</td>\n",
       "      <td>0.0</td>\n",
       "      <td>0.0</td>\n",
       "      <td>0.0</td>\n",
       "      <td>0.0</td>\n",
       "      <td>0.0</td>\n",
       "      <td>0.0</td>\n",
       "      <td>0.0</td>\n",
       "      <td>0.0</td>\n",
       "      <td>0.0</td>\n",
       "      <td>0.0</td>\n",
       "      <td>0.0</td>\n",
       "    </tr>\n",
       "    <tr>\n",
       "      <th>70.0</th>\n",
       "      <td>0.0</td>\n",
       "      <td>0.0</td>\n",
       "      <td>0.0</td>\n",
       "      <td>0.0</td>\n",
       "      <td>0.0</td>\n",
       "      <td>0.0</td>\n",
       "      <td>0.0</td>\n",
       "      <td>0.0</td>\n",
       "      <td>0.0</td>\n",
       "      <td>0.0</td>\n",
       "      <td>0.0</td>\n",
       "      <td>0.0</td>\n",
       "      <td>0.0</td>\n",
       "      <td>0.0</td>\n",
       "      <td>0.0</td>\n",
       "      <td>0.0</td>\n",
       "      <td>0.0</td>\n",
       "      <td>0.0</td>\n",
       "      <td>0.0</td>\n",
       "    </tr>\n",
       "    <tr>\n",
       "      <th>80.0</th>\n",
       "      <td>0.0</td>\n",
       "      <td>0.0</td>\n",
       "      <td>0.0</td>\n",
       "      <td>0.0</td>\n",
       "      <td>0.0</td>\n",
       "      <td>0.0</td>\n",
       "      <td>0.0</td>\n",
       "      <td>0.0</td>\n",
       "      <td>0.0</td>\n",
       "      <td>0.0</td>\n",
       "      <td>0.0</td>\n",
       "      <td>0.0</td>\n",
       "      <td>0.0</td>\n",
       "      <td>0.0</td>\n",
       "      <td>0.0</td>\n",
       "      <td>0.0</td>\n",
       "      <td>0.0</td>\n",
       "      <td>0.0</td>\n",
       "      <td>0.0</td>\n",
       "    </tr>\n",
       "    <tr>\n",
       "      <th>90.0</th>\n",
       "      <td>0.0</td>\n",
       "      <td>0.0</td>\n",
       "      <td>0.0</td>\n",
       "      <td>0.0</td>\n",
       "      <td>0.0</td>\n",
       "      <td>0.0</td>\n",
       "      <td>0.0</td>\n",
       "      <td>0.0</td>\n",
       "      <td>0.0</td>\n",
       "      <td>0.0</td>\n",
       "      <td>0.0</td>\n",
       "      <td>0.0</td>\n",
       "      <td>0.0</td>\n",
       "      <td>0.0</td>\n",
       "      <td>0.0</td>\n",
       "      <td>0.0</td>\n",
       "      <td>0.0</td>\n",
       "      <td>0.0</td>\n",
       "      <td>0.0</td>\n",
       "    </tr>\n",
       "    <tr>\n",
       "      <th>100.0</th>\n",
       "      <td>0.0</td>\n",
       "      <td>0.0</td>\n",
       "      <td>0.0</td>\n",
       "      <td>0.0</td>\n",
       "      <td>0.0</td>\n",
       "      <td>0.0</td>\n",
       "      <td>0.0</td>\n",
       "      <td>0.0</td>\n",
       "      <td>0.0</td>\n",
       "      <td>0.0</td>\n",
       "      <td>0.0</td>\n",
       "      <td>0.0</td>\n",
       "      <td>0.0</td>\n",
       "      <td>0.0</td>\n",
       "      <td>0.0</td>\n",
       "      <td>0.0</td>\n",
       "      <td>0.0</td>\n",
       "      <td>0.0</td>\n",
       "      <td>0.0</td>\n",
       "    </tr>\n",
       "    <tr>\n",
       "      <th>110.0</th>\n",
       "      <td>0.0</td>\n",
       "      <td>0.0</td>\n",
       "      <td>0.0</td>\n",
       "      <td>0.0</td>\n",
       "      <td>0.0</td>\n",
       "      <td>0.0</td>\n",
       "      <td>0.0</td>\n",
       "      <td>0.0</td>\n",
       "      <td>0.0</td>\n",
       "      <td>0.0</td>\n",
       "      <td>0.0</td>\n",
       "      <td>0.0</td>\n",
       "      <td>0.0</td>\n",
       "      <td>0.0</td>\n",
       "      <td>0.0</td>\n",
       "      <td>0.0</td>\n",
       "      <td>0.0</td>\n",
       "      <td>0.0</td>\n",
       "      <td>0.0</td>\n",
       "    </tr>\n",
       "    <tr>\n",
       "      <th>120.0</th>\n",
       "      <td>0.0</td>\n",
       "      <td>0.0</td>\n",
       "      <td>0.0</td>\n",
       "      <td>0.0</td>\n",
       "      <td>0.0</td>\n",
       "      <td>0.0</td>\n",
       "      <td>0.0</td>\n",
       "      <td>0.0</td>\n",
       "      <td>0.0</td>\n",
       "      <td>0.0</td>\n",
       "      <td>0.0</td>\n",
       "      <td>0.0</td>\n",
       "      <td>0.0</td>\n",
       "      <td>0.0</td>\n",
       "      <td>0.0</td>\n",
       "      <td>0.0</td>\n",
       "      <td>0.0</td>\n",
       "      <td>0.0</td>\n",
       "      <td>0.0</td>\n",
       "    </tr>\n",
       "    <tr>\n",
       "      <th>130.0</th>\n",
       "      <td>0.0</td>\n",
       "      <td>0.0</td>\n",
       "      <td>0.0</td>\n",
       "      <td>0.0</td>\n",
       "      <td>0.0</td>\n",
       "      <td>0.0</td>\n",
       "      <td>0.0</td>\n",
       "      <td>0.0</td>\n",
       "      <td>0.0</td>\n",
       "      <td>0.0</td>\n",
       "      <td>0.0</td>\n",
       "      <td>0.0</td>\n",
       "      <td>0.0</td>\n",
       "      <td>0.0</td>\n",
       "      <td>0.0</td>\n",
       "      <td>0.0</td>\n",
       "      <td>0.0</td>\n",
       "      <td>0.0</td>\n",
       "      <td>0.0</td>\n",
       "    </tr>\n",
       "    <tr>\n",
       "      <th>140.0</th>\n",
       "      <td>0.0</td>\n",
       "      <td>0.0</td>\n",
       "      <td>0.0</td>\n",
       "      <td>0.0</td>\n",
       "      <td>0.0</td>\n",
       "      <td>0.0</td>\n",
       "      <td>0.0</td>\n",
       "      <td>0.0</td>\n",
       "      <td>0.0</td>\n",
       "      <td>0.0</td>\n",
       "      <td>0.0</td>\n",
       "      <td>0.0</td>\n",
       "      <td>0.0</td>\n",
       "      <td>0.0</td>\n",
       "      <td>0.0</td>\n",
       "      <td>0.0</td>\n",
       "      <td>0.0</td>\n",
       "      <td>0.0</td>\n",
       "      <td>0.0</td>\n",
       "    </tr>\n",
       "    <tr>\n",
       "      <th>150.0</th>\n",
       "      <td>0.0</td>\n",
       "      <td>0.0</td>\n",
       "      <td>0.0</td>\n",
       "      <td>0.0</td>\n",
       "      <td>0.0</td>\n",
       "      <td>0.0</td>\n",
       "      <td>0.0</td>\n",
       "      <td>0.0</td>\n",
       "      <td>0.0</td>\n",
       "      <td>0.0</td>\n",
       "      <td>0.0</td>\n",
       "      <td>0.0</td>\n",
       "      <td>0.0</td>\n",
       "      <td>0.0</td>\n",
       "      <td>0.0</td>\n",
       "      <td>0.0</td>\n",
       "      <td>0.0</td>\n",
       "      <td>0.0</td>\n",
       "      <td>0.0</td>\n",
       "    </tr>\n",
       "    <tr>\n",
       "      <th>160.0</th>\n",
       "      <td>0.0</td>\n",
       "      <td>0.0</td>\n",
       "      <td>0.0</td>\n",
       "      <td>0.0</td>\n",
       "      <td>0.0</td>\n",
       "      <td>0.0</td>\n",
       "      <td>0.0</td>\n",
       "      <td>0.0</td>\n",
       "      <td>0.0</td>\n",
       "      <td>0.0</td>\n",
       "      <td>0.0</td>\n",
       "      <td>0.0</td>\n",
       "      <td>0.0</td>\n",
       "      <td>0.0</td>\n",
       "      <td>0.0</td>\n",
       "      <td>0.0</td>\n",
       "      <td>0.0</td>\n",
       "      <td>0.0</td>\n",
       "      <td>0.0</td>\n",
       "    </tr>\n",
       "    <tr>\n",
       "      <th>170.0</th>\n",
       "      <td>0.0</td>\n",
       "      <td>0.0</td>\n",
       "      <td>0.0</td>\n",
       "      <td>0.0</td>\n",
       "      <td>0.0</td>\n",
       "      <td>0.0</td>\n",
       "      <td>0.0</td>\n",
       "      <td>0.0</td>\n",
       "      <td>0.0</td>\n",
       "      <td>0.0</td>\n",
       "      <td>0.0</td>\n",
       "      <td>0.0</td>\n",
       "      <td>0.0</td>\n",
       "      <td>0.0</td>\n",
       "      <td>0.0</td>\n",
       "      <td>0.0</td>\n",
       "      <td>0.0</td>\n",
       "      <td>0.0</td>\n",
       "      <td>0.0</td>\n",
       "    </tr>\n",
       "    <tr>\n",
       "      <th>180.0</th>\n",
       "      <td>0.0</td>\n",
       "      <td>0.0</td>\n",
       "      <td>0.0</td>\n",
       "      <td>0.0</td>\n",
       "      <td>0.0</td>\n",
       "      <td>0.0</td>\n",
       "      <td>0.0</td>\n",
       "      <td>0.0</td>\n",
       "      <td>0.0</td>\n",
       "      <td>0.0</td>\n",
       "      <td>0.0</td>\n",
       "      <td>0.0</td>\n",
       "      <td>0.0</td>\n",
       "      <td>0.0</td>\n",
       "      <td>0.0</td>\n",
       "      <td>0.0</td>\n",
       "      <td>0.0</td>\n",
       "      <td>0.0</td>\n",
       "      <td>0.0</td>\n",
       "    </tr>\n",
       "    <tr>\n",
       "      <th>190.0</th>\n",
       "      <td>0.0</td>\n",
       "      <td>0.0</td>\n",
       "      <td>0.0</td>\n",
       "      <td>0.0</td>\n",
       "      <td>0.0</td>\n",
       "      <td>0.0</td>\n",
       "      <td>0.0</td>\n",
       "      <td>0.0</td>\n",
       "      <td>0.0</td>\n",
       "      <td>0.0</td>\n",
       "      <td>0.0</td>\n",
       "      <td>0.0</td>\n",
       "      <td>0.0</td>\n",
       "      <td>0.0</td>\n",
       "      <td>0.0</td>\n",
       "      <td>0.0</td>\n",
       "      <td>0.0</td>\n",
       "      <td>0.0</td>\n",
       "      <td>0.0</td>\n",
       "    </tr>\n",
       "    <tr>\n",
       "      <th>200.0</th>\n",
       "      <td>0.0</td>\n",
       "      <td>0.0</td>\n",
       "      <td>0.0</td>\n",
       "      <td>0.0</td>\n",
       "      <td>0.0</td>\n",
       "      <td>0.0</td>\n",
       "      <td>0.0</td>\n",
       "      <td>0.0</td>\n",
       "      <td>0.0</td>\n",
       "      <td>0.0</td>\n",
       "      <td>0.0</td>\n",
       "      <td>0.0</td>\n",
       "      <td>0.0</td>\n",
       "      <td>0.0</td>\n",
       "      <td>0.0</td>\n",
       "      <td>0.0</td>\n",
       "      <td>0.0</td>\n",
       "      <td>0.0</td>\n",
       "      <td>0.0</td>\n",
       "    </tr>\n",
       "  </tbody>\n",
       "</table>\n",
       "</div>"
      ]
     },
     "execution_count": 3,
     "metadata": {},
     "output_type": "execute_result"
    }
   ],
   "execution_count": 3
  },
  {
   "metadata": {},
   "cell_type": "markdown",
   "source": [
    "### Set up Payoff\n",
    "Specify payoffs at expiration for calls\n",
    "$$V_i^{0} = max(i\\delta s - E, 0)$$"
   ],
   "id": "5b60480fe540e563"
  },
  {
   "metadata": {
    "ExecuteTime": {
     "end_time": "2024-08-23T15:32:08.399214Z",
     "start_time": "2024-08-23T15:32:08.392426Z"
    }
   },
   "cell_type": "code",
   "source": [
    "# Set Payoff at Expiration\n",
    "flag = 1 if call else -1\n",
    "grid.iloc[:,-1] = np.maximum(flag * (s - E), 0)\n",
    "# Verify the grid\n",
    "grid\n",
    "# Store payoff for early exercise\n",
    "p = grid.iloc[:, -1].copy()\n",
    "p"
   ],
   "id": "12f1e62e436ab754",
   "outputs": [
    {
     "data": {
      "text/plain": [
       "0.0        0.0\n",
       "10.0       0.0\n",
       "20.0       0.0\n",
       "30.0       0.0\n",
       "40.0       0.0\n",
       "50.0       0.0\n",
       "60.0       0.0\n",
       "70.0       0.0\n",
       "80.0       0.0\n",
       "90.0       0.0\n",
       "100.0      0.0\n",
       "110.0     10.0\n",
       "120.0     20.0\n",
       "130.0     30.0\n",
       "140.0     40.0\n",
       "150.0     50.0\n",
       "160.0     60.0\n",
       "170.0     70.0\n",
       "180.0     80.0\n",
       "190.0     90.0\n",
       "200.0    100.0\n",
       "Name: 0.0, dtype: float64"
      ]
     },
     "execution_count": 4,
     "metadata": {},
     "output_type": "execute_result"
    }
   ],
   "execution_count": 4
  },
  {
   "metadata": {},
   "cell_type": "markdown",
   "source": [
    "Fill the Grid\n",
    "Specify boundary condition at $S = 0$\n",
    "\n",
    "$$V_0^{k} = (1 - r \\delta t) V_0^{k-1}$$\n",
    "\n",
    "Specify boundary condition at $S = ∞$\n",
    "\n",
    "$$V_i^{k} = 2V_{i-1}^{k} - V_{i-2}^{k}$$"
   ],
   "id": "17c9f5f438d91f90"
  },
  {
   "metadata": {
    "ExecuteTime": {
     "end_time": "2024-08-23T15:34:19.888337Z",
     "start_time": "2024-08-23T15:34:19.782692Z"
    }
   },
   "cell_type": "code",
   "source": [
    "# Fill the grid\n",
    "for k in range(len(t)-2, -1, -1):  # Backward in time\n",
    "    for i in range(1, len(s)-1):\n",
    "        delta = (grid.iloc[i+1, k+1] - grid.iloc[i-1, k+1]) / (2*ds)\n",
    "        gamma = (grid.iloc[i+1, k+1] - 2*grid.iloc[i, k+1] + grid.iloc[i-1, k+1]) / (ds**2)\n",
    "        theta = (-0.5 * vol**2 * s[i]**2 * gamma) - (r*s[i]*delta) + (r*grid.iloc[i, k+1])\n",
    "        \n",
    "        grid.iloc[i, k] = grid.iloc[i, k+1] - dt*theta\n",
    "    \n",
    "    # Set boundary condition at S = 0\n",
    "    grid.iloc[0, k] = grid.iloc[0, k+1] * np.exp(-r*dt)\n",
    "    \n",
    "    # Set boundary condition at S = infinity\n",
    "    grid.iloc[-1, k] = 2*grid.iloc[-2, k] - grid.iloc[-3, k]\n",
    "    \n",
    "    # Check for early exercise\n",
    "    if american:\n",
    "        discount_factor = np.exp(-r * (T - t[k]))\n",
    "        grid.iloc[:, k] = np.maximum(grid.iloc[:, k], p*discount_factor)\n",
    "\n",
    "# round grid values to 2 decimals\n",
    "grid = np.around(grid,2)\n",
    "# Output the option values\n",
    "grid\n",
    "# Print out stock, payoff and option value \n",
    "data = {\n",
    "    \"Stock\": s,\n",
    "    \"Payoff\": p,\n",
    "    \"Option\": grid.iloc[:,0]\n",
    "}\n",
    "\n",
    "option_value_2D = pd.DataFrame(data)\n",
    "# print(option_value_2D.to_string(index=False))\n",
    "option_value_2D                         \n",
    "# Plot option value and payoff\n",
    "option_value_2D[['Payoff', 'Option']].iplot(title='Payoff & Option Value')"
   ],
   "id": "d10be4fb686b2999",
   "outputs": [
    {
     "data": {
      "application/vnd.plotly.v1+json": {
       "data": [
        {
         "line": {
          "color": "rgba(255, 153, 51, 1.0)",
          "dash": "solid",
          "shape": "linear",
          "width": 1.3
         },
         "mode": "lines",
         "name": "Payoff",
         "text": "",
         "x": [
          0.0,
          10.0,
          20.0,
          30.0,
          40.0,
          50.0,
          60.0,
          70.0,
          80.0,
          90.0,
          100.0,
          110.0,
          120.0,
          130.0,
          140.0,
          150.0,
          160.0,
          170.0,
          180.0,
          190.0,
          200.0
         ],
         "y": [
          0.0,
          0.0,
          0.0,
          0.0,
          0.0,
          0.0,
          0.0,
          0.0,
          0.0,
          0.0,
          0.0,
          10.0,
          20.0,
          30.0,
          40.0,
          50.0,
          60.0,
          70.0,
          80.0,
          90.0,
          100.0
         ],
         "type": "scatter"
        },
        {
         "line": {
          "color": "rgba(55, 128, 191, 1.0)",
          "dash": "solid",
          "shape": "linear",
          "width": 1.3
         },
         "mode": "lines",
         "name": "Option",
         "text": "",
         "x": [
          0.0,
          10.0,
          20.0,
          30.0,
          40.0,
          50.0,
          60.0,
          70.0,
          80.0,
          90.0,
          100.0,
          110.0,
          120.0,
          130.0,
          140.0,
          150.0,
          160.0,
          170.0,
          180.0,
          190.0,
          200.0
         ],
         "y": [
          0.0,
          0.0,
          0.0,
          0.0,
          0.0,
          0.01,
          0.07,
          0.43,
          1.75,
          4.9,
          10.26,
          17.52,
          26.09,
          35.4,
          45.09,
          54.97,
          64.91,
          74.89,
          84.89,
          94.88,
          104.88
         ],
         "type": "scatter"
        }
       ],
       "layout": {
        "height": 600,
        "legend": {
         "bgcolor": "#F5F6F9",
         "font": {
          "color": "#4D5663"
         }
        },
        "paper_bgcolor": "#F5F6F9",
        "plot_bgcolor": "#F5F6F9",
        "template": {
         "data": {
          "barpolar": [
           {
            "marker": {
             "line": {
              "color": "rgb(17,17,17)",
              "width": 0.5
             },
             "pattern": {
              "fillmode": "overlay",
              "size": 10,
              "solidity": 0.2
             }
            },
            "type": "barpolar"
           }
          ],
          "bar": [
           {
            "error_x": {
             "color": "#f2f5fa"
            },
            "error_y": {
             "color": "#f2f5fa"
            },
            "marker": {
             "line": {
              "color": "rgb(17,17,17)",
              "width": 0.5
             },
             "pattern": {
              "fillmode": "overlay",
              "size": 10,
              "solidity": 0.2
             }
            },
            "type": "bar"
           }
          ],
          "carpet": [
           {
            "aaxis": {
             "endlinecolor": "#A2B1C6",
             "gridcolor": "#506784",
             "linecolor": "#506784",
             "minorgridcolor": "#506784",
             "startlinecolor": "#A2B1C6"
            },
            "baxis": {
             "endlinecolor": "#A2B1C6",
             "gridcolor": "#506784",
             "linecolor": "#506784",
             "minorgridcolor": "#506784",
             "startlinecolor": "#A2B1C6"
            },
            "type": "carpet"
           }
          ],
          "choropleth": [
           {
            "colorbar": {
             "outlinewidth": 0,
             "ticks": ""
            },
            "type": "choropleth"
           }
          ],
          "contourcarpet": [
           {
            "colorbar": {
             "outlinewidth": 0,
             "ticks": ""
            },
            "type": "contourcarpet"
           }
          ],
          "contour": [
           {
            "colorbar": {
             "outlinewidth": 0,
             "ticks": ""
            },
            "colorscale": [
             [
              0.0,
              "#0d0887"
             ],
             [
              0.1111111111111111,
              "#46039f"
             ],
             [
              0.2222222222222222,
              "#7201a8"
             ],
             [
              0.3333333333333333,
              "#9c179e"
             ],
             [
              0.4444444444444444,
              "#bd3786"
             ],
             [
              0.5555555555555556,
              "#d8576b"
             ],
             [
              0.6666666666666666,
              "#ed7953"
             ],
             [
              0.7777777777777778,
              "#fb9f3a"
             ],
             [
              0.8888888888888888,
              "#fdca26"
             ],
             [
              1.0,
              "#f0f921"
             ]
            ],
            "type": "contour"
           }
          ],
          "heatmapgl": [
           {
            "colorbar": {
             "outlinewidth": 0,
             "ticks": ""
            },
            "colorscale": [
             [
              0.0,
              "#0d0887"
             ],
             [
              0.1111111111111111,
              "#46039f"
             ],
             [
              0.2222222222222222,
              "#7201a8"
             ],
             [
              0.3333333333333333,
              "#9c179e"
             ],
             [
              0.4444444444444444,
              "#bd3786"
             ],
             [
              0.5555555555555556,
              "#d8576b"
             ],
             [
              0.6666666666666666,
              "#ed7953"
             ],
             [
              0.7777777777777778,
              "#fb9f3a"
             ],
             [
              0.8888888888888888,
              "#fdca26"
             ],
             [
              1.0,
              "#f0f921"
             ]
            ],
            "type": "heatmapgl"
           }
          ],
          "heatmap": [
           {
            "colorbar": {
             "outlinewidth": 0,
             "ticks": ""
            },
            "colorscale": [
             [
              0.0,
              "#0d0887"
             ],
             [
              0.1111111111111111,
              "#46039f"
             ],
             [
              0.2222222222222222,
              "#7201a8"
             ],
             [
              0.3333333333333333,
              "#9c179e"
             ],
             [
              0.4444444444444444,
              "#bd3786"
             ],
             [
              0.5555555555555556,
              "#d8576b"
             ],
             [
              0.6666666666666666,
              "#ed7953"
             ],
             [
              0.7777777777777778,
              "#fb9f3a"
             ],
             [
              0.8888888888888888,
              "#fdca26"
             ],
             [
              1.0,
              "#f0f921"
             ]
            ],
            "type": "heatmap"
           }
          ],
          "histogram2dcontour": [
           {
            "colorbar": {
             "outlinewidth": 0,
             "ticks": ""
            },
            "colorscale": [
             [
              0.0,
              "#0d0887"
             ],
             [
              0.1111111111111111,
              "#46039f"
             ],
             [
              0.2222222222222222,
              "#7201a8"
             ],
             [
              0.3333333333333333,
              "#9c179e"
             ],
             [
              0.4444444444444444,
              "#bd3786"
             ],
             [
              0.5555555555555556,
              "#d8576b"
             ],
             [
              0.6666666666666666,
              "#ed7953"
             ],
             [
              0.7777777777777778,
              "#fb9f3a"
             ],
             [
              0.8888888888888888,
              "#fdca26"
             ],
             [
              1.0,
              "#f0f921"
             ]
            ],
            "type": "histogram2dcontour"
           }
          ],
          "histogram2d": [
           {
            "colorbar": {
             "outlinewidth": 0,
             "ticks": ""
            },
            "colorscale": [
             [
              0.0,
              "#0d0887"
             ],
             [
              0.1111111111111111,
              "#46039f"
             ],
             [
              0.2222222222222222,
              "#7201a8"
             ],
             [
              0.3333333333333333,
              "#9c179e"
             ],
             [
              0.4444444444444444,
              "#bd3786"
             ],
             [
              0.5555555555555556,
              "#d8576b"
             ],
             [
              0.6666666666666666,
              "#ed7953"
             ],
             [
              0.7777777777777778,
              "#fb9f3a"
             ],
             [
              0.8888888888888888,
              "#fdca26"
             ],
             [
              1.0,
              "#f0f921"
             ]
            ],
            "type": "histogram2d"
           }
          ],
          "histogram": [
           {
            "marker": {
             "pattern": {
              "fillmode": "overlay",
              "size": 10,
              "solidity": 0.2
             }
            },
            "type": "histogram"
           }
          ],
          "mesh3d": [
           {
            "colorbar": {
             "outlinewidth": 0,
             "ticks": ""
            },
            "type": "mesh3d"
           }
          ],
          "parcoords": [
           {
            "line": {
             "colorbar": {
              "outlinewidth": 0,
              "ticks": ""
             }
            },
            "type": "parcoords"
           }
          ],
          "pie": [
           {
            "automargin": true,
            "type": "pie"
           }
          ],
          "scatter3d": [
           {
            "line": {
             "colorbar": {
              "outlinewidth": 0,
              "ticks": ""
             }
            },
            "marker": {
             "colorbar": {
              "outlinewidth": 0,
              "ticks": ""
             }
            },
            "type": "scatter3d"
           }
          ],
          "scattercarpet": [
           {
            "marker": {
             "colorbar": {
              "outlinewidth": 0,
              "ticks": ""
             }
            },
            "type": "scattercarpet"
           }
          ],
          "scattergeo": [
           {
            "marker": {
             "colorbar": {
              "outlinewidth": 0,
              "ticks": ""
             }
            },
            "type": "scattergeo"
           }
          ],
          "scattergl": [
           {
            "marker": {
             "line": {
              "color": "#283442"
             }
            },
            "type": "scattergl"
           }
          ],
          "scattermapbox": [
           {
            "marker": {
             "colorbar": {
              "outlinewidth": 0,
              "ticks": ""
             }
            },
            "type": "scattermapbox"
           }
          ],
          "scatterpolargl": [
           {
            "marker": {
             "colorbar": {
              "outlinewidth": 0,
              "ticks": ""
             }
            },
            "type": "scatterpolargl"
           }
          ],
          "scatterpolar": [
           {
            "marker": {
             "colorbar": {
              "outlinewidth": 0,
              "ticks": ""
             }
            },
            "type": "scatterpolar"
           }
          ],
          "scatter": [
           {
            "marker": {
             "line": {
              "color": "#283442"
             }
            },
            "type": "scatter"
           }
          ],
          "scatterternary": [
           {
            "marker": {
             "colorbar": {
              "outlinewidth": 0,
              "ticks": ""
             }
            },
            "type": "scatterternary"
           }
          ],
          "surface": [
           {
            "colorbar": {
             "outlinewidth": 0,
             "ticks": ""
            },
            "colorscale": [
             [
              0.0,
              "#0d0887"
             ],
             [
              0.1111111111111111,
              "#46039f"
             ],
             [
              0.2222222222222222,
              "#7201a8"
             ],
             [
              0.3333333333333333,
              "#9c179e"
             ],
             [
              0.4444444444444444,
              "#bd3786"
             ],
             [
              0.5555555555555556,
              "#d8576b"
             ],
             [
              0.6666666666666666,
              "#ed7953"
             ],
             [
              0.7777777777777778,
              "#fb9f3a"
             ],
             [
              0.8888888888888888,
              "#fdca26"
             ],
             [
              1.0,
              "#f0f921"
             ]
            ],
            "type": "surface"
           }
          ],
          "table": [
           {
            "cells": {
             "fill": {
              "color": "#506784"
             },
             "line": {
              "color": "rgb(17,17,17)"
             }
            },
            "header": {
             "fill": {
              "color": "#2a3f5f"
             },
             "line": {
              "color": "rgb(17,17,17)"
             }
            },
            "type": "table"
           }
          ]
         },
         "layout": {
          "annotationdefaults": {
           "arrowcolor": "#f2f5fa",
           "arrowhead": 0,
           "arrowwidth": 1
          },
          "autotypenumbers": "strict",
          "coloraxis": {
           "colorbar": {
            "outlinewidth": 0,
            "ticks": ""
           }
          },
          "colorscale": {
           "diverging": [
            [
             0,
             "#8e0152"
            ],
            [
             0.1,
             "#c51b7d"
            ],
            [
             0.2,
             "#de77ae"
            ],
            [
             0.3,
             "#f1b6da"
            ],
            [
             0.4,
             "#fde0ef"
            ],
            [
             0.5,
             "#f7f7f7"
            ],
            [
             0.6,
             "#e6f5d0"
            ],
            [
             0.7,
             "#b8e186"
            ],
            [
             0.8,
             "#7fbc41"
            ],
            [
             0.9,
             "#4d9221"
            ],
            [
             1,
             "#276419"
            ]
           ],
           "sequential": [
            [
             0.0,
             "#0d0887"
            ],
            [
             0.1111111111111111,
             "#46039f"
            ],
            [
             0.2222222222222222,
             "#7201a8"
            ],
            [
             0.3333333333333333,
             "#9c179e"
            ],
            [
             0.4444444444444444,
             "#bd3786"
            ],
            [
             0.5555555555555556,
             "#d8576b"
            ],
            [
             0.6666666666666666,
             "#ed7953"
            ],
            [
             0.7777777777777778,
             "#fb9f3a"
            ],
            [
             0.8888888888888888,
             "#fdca26"
            ],
            [
             1.0,
             "#f0f921"
            ]
           ],
           "sequentialminus": [
            [
             0.0,
             "#0d0887"
            ],
            [
             0.1111111111111111,
             "#46039f"
            ],
            [
             0.2222222222222222,
             "#7201a8"
            ],
            [
             0.3333333333333333,
             "#9c179e"
            ],
            [
             0.4444444444444444,
             "#bd3786"
            ],
            [
             0.5555555555555556,
             "#d8576b"
            ],
            [
             0.6666666666666666,
             "#ed7953"
            ],
            [
             0.7777777777777778,
             "#fb9f3a"
            ],
            [
             0.8888888888888888,
             "#fdca26"
            ],
            [
             1.0,
             "#f0f921"
            ]
           ]
          },
          "colorway": [
           "#636efa",
           "#EF553B",
           "#00cc96",
           "#ab63fa",
           "#FFA15A",
           "#19d3f3",
           "#FF6692",
           "#B6E880",
           "#FF97FF",
           "#FECB52"
          ],
          "font": {
           "color": "#f2f5fa"
          },
          "geo": {
           "bgcolor": "rgb(17,17,17)",
           "lakecolor": "rgb(17,17,17)",
           "landcolor": "rgb(17,17,17)",
           "showlakes": true,
           "showland": true,
           "subunitcolor": "#506784"
          },
          "hoverlabel": {
           "align": "left"
          },
          "hovermode": "closest",
          "mapbox": {
           "style": "dark"
          },
          "paper_bgcolor": "rgb(17,17,17)",
          "plot_bgcolor": "rgb(17,17,17)",
          "polar": {
           "angularaxis": {
            "gridcolor": "#506784",
            "linecolor": "#506784",
            "ticks": ""
           },
           "bgcolor": "rgb(17,17,17)",
           "radialaxis": {
            "gridcolor": "#506784",
            "linecolor": "#506784",
            "ticks": ""
           }
          },
          "scene": {
           "xaxis": {
            "backgroundcolor": "rgb(17,17,17)",
            "gridcolor": "#506784",
            "gridwidth": 2,
            "linecolor": "#506784",
            "showbackground": true,
            "ticks": "",
            "zerolinecolor": "#C8D4E3"
           },
           "yaxis": {
            "backgroundcolor": "rgb(17,17,17)",
            "gridcolor": "#506784",
            "gridwidth": 2,
            "linecolor": "#506784",
            "showbackground": true,
            "ticks": "",
            "zerolinecolor": "#C8D4E3"
           },
           "zaxis": {
            "backgroundcolor": "rgb(17,17,17)",
            "gridcolor": "#506784",
            "gridwidth": 2,
            "linecolor": "#506784",
            "showbackground": true,
            "ticks": "",
            "zerolinecolor": "#C8D4E3"
           }
          },
          "shapedefaults": {
           "line": {
            "color": "#f2f5fa"
           }
          },
          "sliderdefaults": {
           "bgcolor": "#C8D4E3",
           "bordercolor": "rgb(17,17,17)",
           "borderwidth": 1,
           "tickwidth": 0
          },
          "ternary": {
           "aaxis": {
            "gridcolor": "#506784",
            "linecolor": "#506784",
            "ticks": ""
           },
           "baxis": {
            "gridcolor": "#506784",
            "linecolor": "#506784",
            "ticks": ""
           },
           "bgcolor": "rgb(17,17,17)",
           "caxis": {
            "gridcolor": "#506784",
            "linecolor": "#506784",
            "ticks": ""
           }
          },
          "title": {
           "x": 0.05
          },
          "updatemenudefaults": {
           "bgcolor": "#506784",
           "borderwidth": 0
          },
          "xaxis": {
           "automargin": true,
           "gridcolor": "#283442",
           "linecolor": "#506784",
           "ticks": "",
           "title": {
            "standoff": 15
           },
           "zerolinecolor": "#283442",
           "zerolinewidth": 2
          },
          "yaxis": {
           "automargin": true,
           "gridcolor": "#283442",
           "linecolor": "#506784",
           "ticks": "",
           "title": {
            "standoff": 15
           },
           "zerolinecolor": "#283442",
           "zerolinewidth": 2
          }
         }
        },
        "title": {
         "font": {
          "color": "#4D5663"
         },
         "text": "Payoff & Option Value"
        },
        "width": 1000,
        "xaxis": {
         "gridcolor": "#E1E5ED",
         "showgrid": true,
         "tickfont": {
          "color": "#4D5663"
         },
         "title": {
          "font": {
           "color": "#4D5663"
          },
          "text": ""
         },
         "zerolinecolor": "#E1E5ED"
        },
        "yaxis": {
         "gridcolor": "#E1E5ED",
         "showgrid": true,
         "tickfont": {
          "color": "#4D5663"
         },
         "title": {
          "font": {
           "color": "#4D5663"
          },
          "text": ""
         },
         "zerolinecolor": "#E1E5ED"
        }
       },
       "config": {
        "showLink": true,
        "linkText": "Export to plot.ly",
        "plotlyServerURL": "https://plot.ly"
       }
      },
      "text/html": [
       "<div>                            <div id=\"cc259d34-59c4-42c1-8e07-1724f38740be\" class=\"plotly-graph-div\" style=\"height:600px; width:1000px;\"></div>            <script type=\"text/javascript\">                require([\"plotly\"], function(Plotly) {                    window.PLOTLYENV=window.PLOTLYENV || {};\n",
       "                    window.PLOTLYENV.BASE_URL='https://plot.ly';                                    if (document.getElementById(\"cc259d34-59c4-42c1-8e07-1724f38740be\")) {                    Plotly.newPlot(                        \"cc259d34-59c4-42c1-8e07-1724f38740be\",                        [{\"line\":{\"color\":\"rgba(255, 153, 51, 1.0)\",\"dash\":\"solid\",\"shape\":\"linear\",\"width\":1.3},\"mode\":\"lines\",\"name\":\"Payoff\",\"text\":\"\",\"x\":[0.0,10.0,20.0,30.0,40.0,50.0,60.0,70.0,80.0,90.0,100.0,110.0,120.0,130.0,140.0,150.0,160.0,170.0,180.0,190.0,200.0],\"y\":[0.0,0.0,0.0,0.0,0.0,0.0,0.0,0.0,0.0,0.0,0.0,10.0,20.0,30.0,40.0,50.0,60.0,70.0,80.0,90.0,100.0],\"type\":\"scatter\"},{\"line\":{\"color\":\"rgba(55, 128, 191, 1.0)\",\"dash\":\"solid\",\"shape\":\"linear\",\"width\":1.3},\"mode\":\"lines\",\"name\":\"Option\",\"text\":\"\",\"x\":[0.0,10.0,20.0,30.0,40.0,50.0,60.0,70.0,80.0,90.0,100.0,110.0,120.0,130.0,140.0,150.0,160.0,170.0,180.0,190.0,200.0],\"y\":[0.0,0.0,0.0,0.0,0.0,0.01,0.07,0.43,1.75,4.9,10.26,17.52,26.09,35.4,45.09,54.97,64.91,74.89,84.89,94.88,104.88],\"type\":\"scatter\"}],                        {\"height\":600,\"legend\":{\"bgcolor\":\"#F5F6F9\",\"font\":{\"color\":\"#4D5663\"}},\"paper_bgcolor\":\"#F5F6F9\",\"plot_bgcolor\":\"#F5F6F9\",\"template\":{\"data\":{\"barpolar\":[{\"marker\":{\"line\":{\"color\":\"rgb(17,17,17)\",\"width\":0.5},\"pattern\":{\"fillmode\":\"overlay\",\"size\":10,\"solidity\":0.2}},\"type\":\"barpolar\"}],\"bar\":[{\"error_x\":{\"color\":\"#f2f5fa\"},\"error_y\":{\"color\":\"#f2f5fa\"},\"marker\":{\"line\":{\"color\":\"rgb(17,17,17)\",\"width\":0.5},\"pattern\":{\"fillmode\":\"overlay\",\"size\":10,\"solidity\":0.2}},\"type\":\"bar\"}],\"carpet\":[{\"aaxis\":{\"endlinecolor\":\"#A2B1C6\",\"gridcolor\":\"#506784\",\"linecolor\":\"#506784\",\"minorgridcolor\":\"#506784\",\"startlinecolor\":\"#A2B1C6\"},\"baxis\":{\"endlinecolor\":\"#A2B1C6\",\"gridcolor\":\"#506784\",\"linecolor\":\"#506784\",\"minorgridcolor\":\"#506784\",\"startlinecolor\":\"#A2B1C6\"},\"type\":\"carpet\"}],\"choropleth\":[{\"colorbar\":{\"outlinewidth\":0,\"ticks\":\"\"},\"type\":\"choropleth\"}],\"contourcarpet\":[{\"colorbar\":{\"outlinewidth\":0,\"ticks\":\"\"},\"type\":\"contourcarpet\"}],\"contour\":[{\"colorbar\":{\"outlinewidth\":0,\"ticks\":\"\"},\"colorscale\":[[0.0,\"#0d0887\"],[0.1111111111111111,\"#46039f\"],[0.2222222222222222,\"#7201a8\"],[0.3333333333333333,\"#9c179e\"],[0.4444444444444444,\"#bd3786\"],[0.5555555555555556,\"#d8576b\"],[0.6666666666666666,\"#ed7953\"],[0.7777777777777778,\"#fb9f3a\"],[0.8888888888888888,\"#fdca26\"],[1.0,\"#f0f921\"]],\"type\":\"contour\"}],\"heatmapgl\":[{\"colorbar\":{\"outlinewidth\":0,\"ticks\":\"\"},\"colorscale\":[[0.0,\"#0d0887\"],[0.1111111111111111,\"#46039f\"],[0.2222222222222222,\"#7201a8\"],[0.3333333333333333,\"#9c179e\"],[0.4444444444444444,\"#bd3786\"],[0.5555555555555556,\"#d8576b\"],[0.6666666666666666,\"#ed7953\"],[0.7777777777777778,\"#fb9f3a\"],[0.8888888888888888,\"#fdca26\"],[1.0,\"#f0f921\"]],\"type\":\"heatmapgl\"}],\"heatmap\":[{\"colorbar\":{\"outlinewidth\":0,\"ticks\":\"\"},\"colorscale\":[[0.0,\"#0d0887\"],[0.1111111111111111,\"#46039f\"],[0.2222222222222222,\"#7201a8\"],[0.3333333333333333,\"#9c179e\"],[0.4444444444444444,\"#bd3786\"],[0.5555555555555556,\"#d8576b\"],[0.6666666666666666,\"#ed7953\"],[0.7777777777777778,\"#fb9f3a\"],[0.8888888888888888,\"#fdca26\"],[1.0,\"#f0f921\"]],\"type\":\"heatmap\"}],\"histogram2dcontour\":[{\"colorbar\":{\"outlinewidth\":0,\"ticks\":\"\"},\"colorscale\":[[0.0,\"#0d0887\"],[0.1111111111111111,\"#46039f\"],[0.2222222222222222,\"#7201a8\"],[0.3333333333333333,\"#9c179e\"],[0.4444444444444444,\"#bd3786\"],[0.5555555555555556,\"#d8576b\"],[0.6666666666666666,\"#ed7953\"],[0.7777777777777778,\"#fb9f3a\"],[0.8888888888888888,\"#fdca26\"],[1.0,\"#f0f921\"]],\"type\":\"histogram2dcontour\"}],\"histogram2d\":[{\"colorbar\":{\"outlinewidth\":0,\"ticks\":\"\"},\"colorscale\":[[0.0,\"#0d0887\"],[0.1111111111111111,\"#46039f\"],[0.2222222222222222,\"#7201a8\"],[0.3333333333333333,\"#9c179e\"],[0.4444444444444444,\"#bd3786\"],[0.5555555555555556,\"#d8576b\"],[0.6666666666666666,\"#ed7953\"],[0.7777777777777778,\"#fb9f3a\"],[0.8888888888888888,\"#fdca26\"],[1.0,\"#f0f921\"]],\"type\":\"histogram2d\"}],\"histogram\":[{\"marker\":{\"pattern\":{\"fillmode\":\"overlay\",\"size\":10,\"solidity\":0.2}},\"type\":\"histogram\"}],\"mesh3d\":[{\"colorbar\":{\"outlinewidth\":0,\"ticks\":\"\"},\"type\":\"mesh3d\"}],\"parcoords\":[{\"line\":{\"colorbar\":{\"outlinewidth\":0,\"ticks\":\"\"}},\"type\":\"parcoords\"}],\"pie\":[{\"automargin\":true,\"type\":\"pie\"}],\"scatter3d\":[{\"line\":{\"colorbar\":{\"outlinewidth\":0,\"ticks\":\"\"}},\"marker\":{\"colorbar\":{\"outlinewidth\":0,\"ticks\":\"\"}},\"type\":\"scatter3d\"}],\"scattercarpet\":[{\"marker\":{\"colorbar\":{\"outlinewidth\":0,\"ticks\":\"\"}},\"type\":\"scattercarpet\"}],\"scattergeo\":[{\"marker\":{\"colorbar\":{\"outlinewidth\":0,\"ticks\":\"\"}},\"type\":\"scattergeo\"}],\"scattergl\":[{\"marker\":{\"line\":{\"color\":\"#283442\"}},\"type\":\"scattergl\"}],\"scattermapbox\":[{\"marker\":{\"colorbar\":{\"outlinewidth\":0,\"ticks\":\"\"}},\"type\":\"scattermapbox\"}],\"scatterpolargl\":[{\"marker\":{\"colorbar\":{\"outlinewidth\":0,\"ticks\":\"\"}},\"type\":\"scatterpolargl\"}],\"scatterpolar\":[{\"marker\":{\"colorbar\":{\"outlinewidth\":0,\"ticks\":\"\"}},\"type\":\"scatterpolar\"}],\"scatter\":[{\"marker\":{\"line\":{\"color\":\"#283442\"}},\"type\":\"scatter\"}],\"scatterternary\":[{\"marker\":{\"colorbar\":{\"outlinewidth\":0,\"ticks\":\"\"}},\"type\":\"scatterternary\"}],\"surface\":[{\"colorbar\":{\"outlinewidth\":0,\"ticks\":\"\"},\"colorscale\":[[0.0,\"#0d0887\"],[0.1111111111111111,\"#46039f\"],[0.2222222222222222,\"#7201a8\"],[0.3333333333333333,\"#9c179e\"],[0.4444444444444444,\"#bd3786\"],[0.5555555555555556,\"#d8576b\"],[0.6666666666666666,\"#ed7953\"],[0.7777777777777778,\"#fb9f3a\"],[0.8888888888888888,\"#fdca26\"],[1.0,\"#f0f921\"]],\"type\":\"surface\"}],\"table\":[{\"cells\":{\"fill\":{\"color\":\"#506784\"},\"line\":{\"color\":\"rgb(17,17,17)\"}},\"header\":{\"fill\":{\"color\":\"#2a3f5f\"},\"line\":{\"color\":\"rgb(17,17,17)\"}},\"type\":\"table\"}]},\"layout\":{\"annotationdefaults\":{\"arrowcolor\":\"#f2f5fa\",\"arrowhead\":0,\"arrowwidth\":1},\"autotypenumbers\":\"strict\",\"coloraxis\":{\"colorbar\":{\"outlinewidth\":0,\"ticks\":\"\"}},\"colorscale\":{\"diverging\":[[0,\"#8e0152\"],[0.1,\"#c51b7d\"],[0.2,\"#de77ae\"],[0.3,\"#f1b6da\"],[0.4,\"#fde0ef\"],[0.5,\"#f7f7f7\"],[0.6,\"#e6f5d0\"],[0.7,\"#b8e186\"],[0.8,\"#7fbc41\"],[0.9,\"#4d9221\"],[1,\"#276419\"]],\"sequential\":[[0.0,\"#0d0887\"],[0.1111111111111111,\"#46039f\"],[0.2222222222222222,\"#7201a8\"],[0.3333333333333333,\"#9c179e\"],[0.4444444444444444,\"#bd3786\"],[0.5555555555555556,\"#d8576b\"],[0.6666666666666666,\"#ed7953\"],[0.7777777777777778,\"#fb9f3a\"],[0.8888888888888888,\"#fdca26\"],[1.0,\"#f0f921\"]],\"sequentialminus\":[[0.0,\"#0d0887\"],[0.1111111111111111,\"#46039f\"],[0.2222222222222222,\"#7201a8\"],[0.3333333333333333,\"#9c179e\"],[0.4444444444444444,\"#bd3786\"],[0.5555555555555556,\"#d8576b\"],[0.6666666666666666,\"#ed7953\"],[0.7777777777777778,\"#fb9f3a\"],[0.8888888888888888,\"#fdca26\"],[1.0,\"#f0f921\"]]},\"colorway\":[\"#636efa\",\"#EF553B\",\"#00cc96\",\"#ab63fa\",\"#FFA15A\",\"#19d3f3\",\"#FF6692\",\"#B6E880\",\"#FF97FF\",\"#FECB52\"],\"font\":{\"color\":\"#f2f5fa\"},\"geo\":{\"bgcolor\":\"rgb(17,17,17)\",\"lakecolor\":\"rgb(17,17,17)\",\"landcolor\":\"rgb(17,17,17)\",\"showlakes\":true,\"showland\":true,\"subunitcolor\":\"#506784\"},\"hoverlabel\":{\"align\":\"left\"},\"hovermode\":\"closest\",\"mapbox\":{\"style\":\"dark\"},\"paper_bgcolor\":\"rgb(17,17,17)\",\"plot_bgcolor\":\"rgb(17,17,17)\",\"polar\":{\"angularaxis\":{\"gridcolor\":\"#506784\",\"linecolor\":\"#506784\",\"ticks\":\"\"},\"bgcolor\":\"rgb(17,17,17)\",\"radialaxis\":{\"gridcolor\":\"#506784\",\"linecolor\":\"#506784\",\"ticks\":\"\"}},\"scene\":{\"xaxis\":{\"backgroundcolor\":\"rgb(17,17,17)\",\"gridcolor\":\"#506784\",\"gridwidth\":2,\"linecolor\":\"#506784\",\"showbackground\":true,\"ticks\":\"\",\"zerolinecolor\":\"#C8D4E3\"},\"yaxis\":{\"backgroundcolor\":\"rgb(17,17,17)\",\"gridcolor\":\"#506784\",\"gridwidth\":2,\"linecolor\":\"#506784\",\"showbackground\":true,\"ticks\":\"\",\"zerolinecolor\":\"#C8D4E3\"},\"zaxis\":{\"backgroundcolor\":\"rgb(17,17,17)\",\"gridcolor\":\"#506784\",\"gridwidth\":2,\"linecolor\":\"#506784\",\"showbackground\":true,\"ticks\":\"\",\"zerolinecolor\":\"#C8D4E3\"}},\"shapedefaults\":{\"line\":{\"color\":\"#f2f5fa\"}},\"sliderdefaults\":{\"bgcolor\":\"#C8D4E3\",\"bordercolor\":\"rgb(17,17,17)\",\"borderwidth\":1,\"tickwidth\":0},\"ternary\":{\"aaxis\":{\"gridcolor\":\"#506784\",\"linecolor\":\"#506784\",\"ticks\":\"\"},\"baxis\":{\"gridcolor\":\"#506784\",\"linecolor\":\"#506784\",\"ticks\":\"\"},\"bgcolor\":\"rgb(17,17,17)\",\"caxis\":{\"gridcolor\":\"#506784\",\"linecolor\":\"#506784\",\"ticks\":\"\"}},\"title\":{\"x\":0.05},\"updatemenudefaults\":{\"bgcolor\":\"#506784\",\"borderwidth\":0},\"xaxis\":{\"automargin\":true,\"gridcolor\":\"#283442\",\"linecolor\":\"#506784\",\"ticks\":\"\",\"title\":{\"standoff\":15},\"zerolinecolor\":\"#283442\",\"zerolinewidth\":2},\"yaxis\":{\"automargin\":true,\"gridcolor\":\"#283442\",\"linecolor\":\"#506784\",\"ticks\":\"\",\"title\":{\"standoff\":15},\"zerolinecolor\":\"#283442\",\"zerolinewidth\":2}}},\"title\":{\"font\":{\"color\":\"#4D5663\"},\"text\":\"Payoff & Option Value\"},\"width\":1000,\"xaxis\":{\"gridcolor\":\"#E1E5ED\",\"showgrid\":true,\"tickfont\":{\"color\":\"#4D5663\"},\"title\":{\"font\":{\"color\":\"#4D5663\"},\"text\":\"\"},\"zerolinecolor\":\"#E1E5ED\"},\"yaxis\":{\"gridcolor\":\"#E1E5ED\",\"showgrid\":true,\"tickfont\":{\"color\":\"#4D5663\"},\"title\":{\"font\":{\"color\":\"#4D5663\"},\"text\":\"\"},\"zerolinecolor\":\"#E1E5ED\"}},                        {\"showLink\": true, \"linkText\": \"Export to plot.ly\", \"plotlyServerURL\": \"https://plot.ly\", \"responsive\": true}                    ).then(function(){\n",
       "                            \n",
       "var gd = document.getElementById('cc259d34-59c4-42c1-8e07-1724f38740be');\n",
       "var x = new MutationObserver(function (mutations, observer) {{\n",
       "        var display = window.getComputedStyle(gd).display;\n",
       "        if (!display || display === 'none') {{\n",
       "            console.log([gd, 'removed!']);\n",
       "            Plotly.purge(gd);\n",
       "            observer.disconnect();\n",
       "        }}\n",
       "}});\n",
       "\n",
       "// Listen for the removal of the full notebook cells\n",
       "var notebookContainer = gd.closest('#notebook-container');\n",
       "if (notebookContainer) {{\n",
       "    x.observe(notebookContainer, {childList: true});\n",
       "}}\n",
       "\n",
       "// Listen for the clearing of the current output cell\n",
       "var outputEl = gd.closest('.output');\n",
       "if (outputEl) {{\n",
       "    x.observe(outputEl, {childList: true});\n",
       "}}\n",
       "\n",
       "                        })                };                });            </script>        </div>"
      ]
     },
     "metadata": {},
     "output_type": "display_data"
    }
   ],
   "execution_count": 5
  },
  {
   "metadata": {},
   "cell_type": "markdown",
   "source": [
    "### User Defined Function\n",
    "Let's subsume above grid calculation into a function for ease of use. All we have to do is to combine the above code blocks into a single function."
   ],
   "id": "be082add15e22fb8"
  },
  {
   "metadata": {
    "ExecuteTime": {
     "end_time": "2024-08-23T15:35:01.600048Z",
     "start_time": "2024-08-23T15:35:01.393482Z"
    }
   },
   "cell_type": "code",
   "source": [
    "# Create function to price options\n",
    "def efdmoption(E=100, vol=0.20, r=0.05, T=1, NAS=20, call=True, american=False):\n",
    "\n",
    "    ds   = 2* E / NAS                     # asset step size\n",
    "    dt   = (0.9/vol**2/NAS**2)            # time step size, for stability\n",
    "    NTS  = int(T / dt) + 1                # number of time steps\n",
    "    dt   = T / NTS                        # time step size [Expiration as int # of time steps away]\n",
    "    \n",
    "    # Create asset steps i*ds\n",
    "    s = np.arange(0, (NAS+1)*ds, ds)\n",
    "    \n",
    "    # Create time steps k*dt\n",
    "    # k goes from 0,1,...,10; # t goes from 1,0.9,...0\n",
    "    # t = np.arange(T+dt, 0, -dt)\n",
    "    t= T-np.arange(NTS*dt,-dt,-dt)[::-1]\n",
    "    \n",
    "    # Initialize the grid with zeros\n",
    "    grid = np.zeros((len(s), len(t)))\n",
    "    \n",
    "    # Subsume the grid points into a dataframe\n",
    "    # with asset price as index and time steps as columns\n",
    "    grid = pd.DataFrame(grid, index=s, columns=np.around(t, 3))\n",
    "    \n",
    "    # Set Payoff at Expiration\n",
    "    flag = 1 if call else -1\n",
    "    grid.iloc[:,-1] = np.maximum(flag * (s - E), 0)\n",
    "    \n",
    "    # Store payoff for early exercise\n",
    "    p = grid.iloc[:, -1].copy()\n",
    "    \n",
    "    # Fill the grid\n",
    "    for k in range(len(t)-2, -1, -1):  # Backward in time\n",
    "        for i in range(1, len(s)-1):\n",
    "            delta = (grid.iloc[i+1, k+1] - grid.iloc[i-1, k+1]) / (2*ds)\n",
    "            gamma = (grid.iloc[i+1, k+1] - 2*grid.iloc[i, k+1] + grid.iloc[i-1, k+1]) / (ds**2)\n",
    "            theta = (-0.5 * vol**2 * s[i]**2 * gamma) - (r*s[i]*delta) + (r*grid.iloc[i, k+1])\n",
    "            \n",
    "            grid.iloc[i, k] = grid.iloc[i, k+1] - dt*theta\n",
    "        \n",
    "        # Set boundary condition at S = 0\n",
    "        grid.iloc[0, k] = grid.iloc[0, k+1] * np.exp(-r*dt)\n",
    "        \n",
    "        # Set boundary condition at S = infinity\n",
    "        grid.iloc[-1, k] = 2*grid.iloc[-2, k] - grid.iloc[-3, k]\n",
    "        \n",
    "        # Check for early exercise\n",
    "        if american:\n",
    "            discount_factor = np.exp(-r * (T - t[k]))\n",
    "            grid.iloc[:, k] = np.maximum(grid.iloc[:, k], p*discount_factor)\n",
    "    \n",
    "    # round grid values to 2 decimals\n",
    "    return np.around(grid,2)\n",
    "# Call the function to price options\n",
    "fdm_grid = efdmoption()\n",
    "fdm_grid"
   ],
   "id": "a2d53b3ab0f72bac",
   "outputs": [
    {
     "data": {
      "text/plain": [
       "        1.000   0.944   0.889   0.833   0.778   0.722   0.667   0.611   0.556  \\\n",
       "0.0      0.00    0.00    0.00    0.00    0.00    0.00    0.00    0.00    0.00   \n",
       "10.0     0.00    0.00    0.00    0.00    0.00    0.00    0.00    0.00    0.00   \n",
       "20.0     0.00    0.00    0.00    0.00    0.00    0.00    0.00    0.00    0.00   \n",
       "30.0     0.00    0.00    0.00    0.00    0.00    0.00    0.00    0.00    0.00   \n",
       "40.0     0.00    0.00    0.00    0.00    0.00    0.00    0.00    0.00    0.00   \n",
       "50.0     0.01    0.00    0.00    0.00    0.00    0.00    0.00    0.00    0.00   \n",
       "60.0     0.07    0.05    0.04    0.03    0.02    0.02    0.01    0.01    0.00   \n",
       "70.0     0.43    0.37    0.31    0.26    0.21    0.16    0.13    0.09    0.07   \n",
       "80.0     1.75    1.58    1.42    1.25    1.10    0.94    0.80    0.66    0.53   \n",
       "90.0     4.90    4.60    4.31    4.00    3.70    3.39    3.08    2.77    2.45   \n",
       "100.0   10.26    9.89    9.52    9.13    8.74    8.34    7.92    7.50    7.05   \n",
       "110.0   17.52   17.15   16.77   16.38   15.99   15.59   15.18   14.76   14.34   \n",
       "120.0   26.09   25.74   25.39   25.04   24.68   24.33   23.97   23.61   23.25   \n",
       "130.0   35.40   35.08   34.77   34.45   34.13   33.82   33.50   33.19   32.88   \n",
       "140.0   45.09   44.80   44.51   44.22   43.93   43.64   43.35   43.06   42.78   \n",
       "150.0   54.97   54.69   54.41   54.13   53.85   53.58   53.30   53.02   52.75   \n",
       "160.0   64.91   64.64   64.37   64.10   63.83   63.56   63.29   63.02   62.74   \n",
       "170.0   74.89   74.63   74.36   74.09   73.82   73.55   73.28   73.01   72.74   \n",
       "180.0   84.89   84.62   84.35   84.09   83.82   83.55   83.28   83.01   82.74   \n",
       "190.0   94.88   94.62   94.35   94.09   93.82   93.55   93.28   93.01   92.74   \n",
       "200.0  104.88  104.62  104.35  104.09  103.82  103.55  103.28  103.01  102.74   \n",
       "\n",
       "        0.500   0.444   0.389   0.333   0.278   0.222   0.167   0.111   0.056  \\\n",
       "0.0      0.00    0.00    0.00    0.00    0.00    0.00    0.00    0.00    0.00   \n",
       "10.0     0.00    0.00    0.00    0.00    0.00    0.00    0.00    0.00    0.00   \n",
       "20.0     0.00    0.00    0.00    0.00    0.00    0.00    0.00    0.00    0.00   \n",
       "30.0     0.00    0.00    0.00    0.00    0.00    0.00    0.00    0.00    0.00   \n",
       "40.0     0.00    0.00    0.00    0.00    0.00    0.00    0.00    0.00    0.00   \n",
       "50.0     0.00    0.00    0.00    0.00    0.00    0.00    0.00    0.00    0.00   \n",
       "60.0     0.00    0.00    0.00    0.00    0.00    0.00    0.00    0.00    0.00   \n",
       "70.0     0.04    0.03    0.02    0.01    0.00    0.00    0.00    0.00    0.00   \n",
       "80.0     0.42    0.31    0.22    0.14    0.08    0.04    0.01    0.00    0.00   \n",
       "90.0     2.13    1.81    1.49    1.18    0.88    0.59    0.34    0.13    0.00   \n",
       "100.0    6.59    6.11    5.60    5.05    4.47    3.82    3.09    2.25    1.25   \n",
       "110.0   13.90   13.46   13.00   12.53   12.06   11.59   11.12   10.67   10.28   \n",
       "120.0   22.89   22.53   22.17   21.83   21.49   21.16   20.85   20.55   20.28   \n",
       "130.0   32.57   32.27   31.97   31.68   31.39   31.11   30.83   30.55   30.28   \n",
       "140.0   42.49   42.21   41.93   41.66   41.38   41.11   40.83   40.55   40.28   \n",
       "150.0   52.48   52.20   51.93   51.66   51.38   51.11   50.83   50.55   50.28   \n",
       "160.0   62.47   62.20   61.93   61.66   61.38   61.11   60.83   60.55   60.28   \n",
       "170.0   72.47   72.20   71.93   71.66   71.38   71.11   70.83   70.55   70.28   \n",
       "180.0   82.47   82.20   81.93   81.66   81.38   81.11   80.83   80.55   80.28   \n",
       "190.0   92.47   92.20   91.93   91.66   91.38   91.11   90.83   90.55   90.28   \n",
       "200.0  102.47  102.20  101.93  101.66  101.38  101.11  100.83  100.55  100.28   \n",
       "\n",
       "       0.000  \n",
       "0.0      0.0  \n",
       "10.0     0.0  \n",
       "20.0     0.0  \n",
       "30.0     0.0  \n",
       "40.0     0.0  \n",
       "50.0     0.0  \n",
       "60.0     0.0  \n",
       "70.0     0.0  \n",
       "80.0     0.0  \n",
       "90.0     0.0  \n",
       "100.0    0.0  \n",
       "110.0   10.0  \n",
       "120.0   20.0  \n",
       "130.0   30.0  \n",
       "140.0   40.0  \n",
       "150.0   50.0  \n",
       "160.0   60.0  \n",
       "170.0   70.0  \n",
       "180.0   80.0  \n",
       "190.0   90.0  \n",
       "200.0  100.0  "
      ],
      "text/html": [
       "<div>\n",
       "<style scoped>\n",
       "    .dataframe tbody tr th:only-of-type {\n",
       "        vertical-align: middle;\n",
       "    }\n",
       "\n",
       "    .dataframe tbody tr th {\n",
       "        vertical-align: top;\n",
       "    }\n",
       "\n",
       "    .dataframe thead th {\n",
       "        text-align: right;\n",
       "    }\n",
       "</style>\n",
       "<table border=\"1\" class=\"dataframe\">\n",
       "  <thead>\n",
       "    <tr style=\"text-align: right;\">\n",
       "      <th></th>\n",
       "      <th>1.000</th>\n",
       "      <th>0.944</th>\n",
       "      <th>0.889</th>\n",
       "      <th>0.833</th>\n",
       "      <th>0.778</th>\n",
       "      <th>0.722</th>\n",
       "      <th>0.667</th>\n",
       "      <th>0.611</th>\n",
       "      <th>0.556</th>\n",
       "      <th>0.500</th>\n",
       "      <th>0.444</th>\n",
       "      <th>0.389</th>\n",
       "      <th>0.333</th>\n",
       "      <th>0.278</th>\n",
       "      <th>0.222</th>\n",
       "      <th>0.167</th>\n",
       "      <th>0.111</th>\n",
       "      <th>0.056</th>\n",
       "      <th>0.000</th>\n",
       "    </tr>\n",
       "  </thead>\n",
       "  <tbody>\n",
       "    <tr>\n",
       "      <th>0.0</th>\n",
       "      <td>0.00</td>\n",
       "      <td>0.00</td>\n",
       "      <td>0.00</td>\n",
       "      <td>0.00</td>\n",
       "      <td>0.00</td>\n",
       "      <td>0.00</td>\n",
       "      <td>0.00</td>\n",
       "      <td>0.00</td>\n",
       "      <td>0.00</td>\n",
       "      <td>0.00</td>\n",
       "      <td>0.00</td>\n",
       "      <td>0.00</td>\n",
       "      <td>0.00</td>\n",
       "      <td>0.00</td>\n",
       "      <td>0.00</td>\n",
       "      <td>0.00</td>\n",
       "      <td>0.00</td>\n",
       "      <td>0.00</td>\n",
       "      <td>0.0</td>\n",
       "    </tr>\n",
       "    <tr>\n",
       "      <th>10.0</th>\n",
       "      <td>0.00</td>\n",
       "      <td>0.00</td>\n",
       "      <td>0.00</td>\n",
       "      <td>0.00</td>\n",
       "      <td>0.00</td>\n",
       "      <td>0.00</td>\n",
       "      <td>0.00</td>\n",
       "      <td>0.00</td>\n",
       "      <td>0.00</td>\n",
       "      <td>0.00</td>\n",
       "      <td>0.00</td>\n",
       "      <td>0.00</td>\n",
       "      <td>0.00</td>\n",
       "      <td>0.00</td>\n",
       "      <td>0.00</td>\n",
       "      <td>0.00</td>\n",
       "      <td>0.00</td>\n",
       "      <td>0.00</td>\n",
       "      <td>0.0</td>\n",
       "    </tr>\n",
       "    <tr>\n",
       "      <th>20.0</th>\n",
       "      <td>0.00</td>\n",
       "      <td>0.00</td>\n",
       "      <td>0.00</td>\n",
       "      <td>0.00</td>\n",
       "      <td>0.00</td>\n",
       "      <td>0.00</td>\n",
       "      <td>0.00</td>\n",
       "      <td>0.00</td>\n",
       "      <td>0.00</td>\n",
       "      <td>0.00</td>\n",
       "      <td>0.00</td>\n",
       "      <td>0.00</td>\n",
       "      <td>0.00</td>\n",
       "      <td>0.00</td>\n",
       "      <td>0.00</td>\n",
       "      <td>0.00</td>\n",
       "      <td>0.00</td>\n",
       "      <td>0.00</td>\n",
       "      <td>0.0</td>\n",
       "    </tr>\n",
       "    <tr>\n",
       "      <th>30.0</th>\n",
       "      <td>0.00</td>\n",
       "      <td>0.00</td>\n",
       "      <td>0.00</td>\n",
       "      <td>0.00</td>\n",
       "      <td>0.00</td>\n",
       "      <td>0.00</td>\n",
       "      <td>0.00</td>\n",
       "      <td>0.00</td>\n",
       "      <td>0.00</td>\n",
       "      <td>0.00</td>\n",
       "      <td>0.00</td>\n",
       "      <td>0.00</td>\n",
       "      <td>0.00</td>\n",
       "      <td>0.00</td>\n",
       "      <td>0.00</td>\n",
       "      <td>0.00</td>\n",
       "      <td>0.00</td>\n",
       "      <td>0.00</td>\n",
       "      <td>0.0</td>\n",
       "    </tr>\n",
       "    <tr>\n",
       "      <th>40.0</th>\n",
       "      <td>0.00</td>\n",
       "      <td>0.00</td>\n",
       "      <td>0.00</td>\n",
       "      <td>0.00</td>\n",
       "      <td>0.00</td>\n",
       "      <td>0.00</td>\n",
       "      <td>0.00</td>\n",
       "      <td>0.00</td>\n",
       "      <td>0.00</td>\n",
       "      <td>0.00</td>\n",
       "      <td>0.00</td>\n",
       "      <td>0.00</td>\n",
       "      <td>0.00</td>\n",
       "      <td>0.00</td>\n",
       "      <td>0.00</td>\n",
       "      <td>0.00</td>\n",
       "      <td>0.00</td>\n",
       "      <td>0.00</td>\n",
       "      <td>0.0</td>\n",
       "    </tr>\n",
       "    <tr>\n",
       "      <th>50.0</th>\n",
       "      <td>0.01</td>\n",
       "      <td>0.00</td>\n",
       "      <td>0.00</td>\n",
       "      <td>0.00</td>\n",
       "      <td>0.00</td>\n",
       "      <td>0.00</td>\n",
       "      <td>0.00</td>\n",
       "      <td>0.00</td>\n",
       "      <td>0.00</td>\n",
       "      <td>0.00</td>\n",
       "      <td>0.00</td>\n",
       "      <td>0.00</td>\n",
       "      <td>0.00</td>\n",
       "      <td>0.00</td>\n",
       "      <td>0.00</td>\n",
       "      <td>0.00</td>\n",
       "      <td>0.00</td>\n",
       "      <td>0.00</td>\n",
       "      <td>0.0</td>\n",
       "    </tr>\n",
       "    <tr>\n",
       "      <th>60.0</th>\n",
       "      <td>0.07</td>\n",
       "      <td>0.05</td>\n",
       "      <td>0.04</td>\n",
       "      <td>0.03</td>\n",
       "      <td>0.02</td>\n",
       "      <td>0.02</td>\n",
       "      <td>0.01</td>\n",
       "      <td>0.01</td>\n",
       "      <td>0.00</td>\n",
       "      <td>0.00</td>\n",
       "      <td>0.00</td>\n",
       "      <td>0.00</td>\n",
       "      <td>0.00</td>\n",
       "      <td>0.00</td>\n",
       "      <td>0.00</td>\n",
       "      <td>0.00</td>\n",
       "      <td>0.00</td>\n",
       "      <td>0.00</td>\n",
       "      <td>0.0</td>\n",
       "    </tr>\n",
       "    <tr>\n",
       "      <th>70.0</th>\n",
       "      <td>0.43</td>\n",
       "      <td>0.37</td>\n",
       "      <td>0.31</td>\n",
       "      <td>0.26</td>\n",
       "      <td>0.21</td>\n",
       "      <td>0.16</td>\n",
       "      <td>0.13</td>\n",
       "      <td>0.09</td>\n",
       "      <td>0.07</td>\n",
       "      <td>0.04</td>\n",
       "      <td>0.03</td>\n",
       "      <td>0.02</td>\n",
       "      <td>0.01</td>\n",
       "      <td>0.00</td>\n",
       "      <td>0.00</td>\n",
       "      <td>0.00</td>\n",
       "      <td>0.00</td>\n",
       "      <td>0.00</td>\n",
       "      <td>0.0</td>\n",
       "    </tr>\n",
       "    <tr>\n",
       "      <th>80.0</th>\n",
       "      <td>1.75</td>\n",
       "      <td>1.58</td>\n",
       "      <td>1.42</td>\n",
       "      <td>1.25</td>\n",
       "      <td>1.10</td>\n",
       "      <td>0.94</td>\n",
       "      <td>0.80</td>\n",
       "      <td>0.66</td>\n",
       "      <td>0.53</td>\n",
       "      <td>0.42</td>\n",
       "      <td>0.31</td>\n",
       "      <td>0.22</td>\n",
       "      <td>0.14</td>\n",
       "      <td>0.08</td>\n",
       "      <td>0.04</td>\n",
       "      <td>0.01</td>\n",
       "      <td>0.00</td>\n",
       "      <td>0.00</td>\n",
       "      <td>0.0</td>\n",
       "    </tr>\n",
       "    <tr>\n",
       "      <th>90.0</th>\n",
       "      <td>4.90</td>\n",
       "      <td>4.60</td>\n",
       "      <td>4.31</td>\n",
       "      <td>4.00</td>\n",
       "      <td>3.70</td>\n",
       "      <td>3.39</td>\n",
       "      <td>3.08</td>\n",
       "      <td>2.77</td>\n",
       "      <td>2.45</td>\n",
       "      <td>2.13</td>\n",
       "      <td>1.81</td>\n",
       "      <td>1.49</td>\n",
       "      <td>1.18</td>\n",
       "      <td>0.88</td>\n",
       "      <td>0.59</td>\n",
       "      <td>0.34</td>\n",
       "      <td>0.13</td>\n",
       "      <td>0.00</td>\n",
       "      <td>0.0</td>\n",
       "    </tr>\n",
       "    <tr>\n",
       "      <th>100.0</th>\n",
       "      <td>10.26</td>\n",
       "      <td>9.89</td>\n",
       "      <td>9.52</td>\n",
       "      <td>9.13</td>\n",
       "      <td>8.74</td>\n",
       "      <td>8.34</td>\n",
       "      <td>7.92</td>\n",
       "      <td>7.50</td>\n",
       "      <td>7.05</td>\n",
       "      <td>6.59</td>\n",
       "      <td>6.11</td>\n",
       "      <td>5.60</td>\n",
       "      <td>5.05</td>\n",
       "      <td>4.47</td>\n",
       "      <td>3.82</td>\n",
       "      <td>3.09</td>\n",
       "      <td>2.25</td>\n",
       "      <td>1.25</td>\n",
       "      <td>0.0</td>\n",
       "    </tr>\n",
       "    <tr>\n",
       "      <th>110.0</th>\n",
       "      <td>17.52</td>\n",
       "      <td>17.15</td>\n",
       "      <td>16.77</td>\n",
       "      <td>16.38</td>\n",
       "      <td>15.99</td>\n",
       "      <td>15.59</td>\n",
       "      <td>15.18</td>\n",
       "      <td>14.76</td>\n",
       "      <td>14.34</td>\n",
       "      <td>13.90</td>\n",
       "      <td>13.46</td>\n",
       "      <td>13.00</td>\n",
       "      <td>12.53</td>\n",
       "      <td>12.06</td>\n",
       "      <td>11.59</td>\n",
       "      <td>11.12</td>\n",
       "      <td>10.67</td>\n",
       "      <td>10.28</td>\n",
       "      <td>10.0</td>\n",
       "    </tr>\n",
       "    <tr>\n",
       "      <th>120.0</th>\n",
       "      <td>26.09</td>\n",
       "      <td>25.74</td>\n",
       "      <td>25.39</td>\n",
       "      <td>25.04</td>\n",
       "      <td>24.68</td>\n",
       "      <td>24.33</td>\n",
       "      <td>23.97</td>\n",
       "      <td>23.61</td>\n",
       "      <td>23.25</td>\n",
       "      <td>22.89</td>\n",
       "      <td>22.53</td>\n",
       "      <td>22.17</td>\n",
       "      <td>21.83</td>\n",
       "      <td>21.49</td>\n",
       "      <td>21.16</td>\n",
       "      <td>20.85</td>\n",
       "      <td>20.55</td>\n",
       "      <td>20.28</td>\n",
       "      <td>20.0</td>\n",
       "    </tr>\n",
       "    <tr>\n",
       "      <th>130.0</th>\n",
       "      <td>35.40</td>\n",
       "      <td>35.08</td>\n",
       "      <td>34.77</td>\n",
       "      <td>34.45</td>\n",
       "      <td>34.13</td>\n",
       "      <td>33.82</td>\n",
       "      <td>33.50</td>\n",
       "      <td>33.19</td>\n",
       "      <td>32.88</td>\n",
       "      <td>32.57</td>\n",
       "      <td>32.27</td>\n",
       "      <td>31.97</td>\n",
       "      <td>31.68</td>\n",
       "      <td>31.39</td>\n",
       "      <td>31.11</td>\n",
       "      <td>30.83</td>\n",
       "      <td>30.55</td>\n",
       "      <td>30.28</td>\n",
       "      <td>30.0</td>\n",
       "    </tr>\n",
       "    <tr>\n",
       "      <th>140.0</th>\n",
       "      <td>45.09</td>\n",
       "      <td>44.80</td>\n",
       "      <td>44.51</td>\n",
       "      <td>44.22</td>\n",
       "      <td>43.93</td>\n",
       "      <td>43.64</td>\n",
       "      <td>43.35</td>\n",
       "      <td>43.06</td>\n",
       "      <td>42.78</td>\n",
       "      <td>42.49</td>\n",
       "      <td>42.21</td>\n",
       "      <td>41.93</td>\n",
       "      <td>41.66</td>\n",
       "      <td>41.38</td>\n",
       "      <td>41.11</td>\n",
       "      <td>40.83</td>\n",
       "      <td>40.55</td>\n",
       "      <td>40.28</td>\n",
       "      <td>40.0</td>\n",
       "    </tr>\n",
       "    <tr>\n",
       "      <th>150.0</th>\n",
       "      <td>54.97</td>\n",
       "      <td>54.69</td>\n",
       "      <td>54.41</td>\n",
       "      <td>54.13</td>\n",
       "      <td>53.85</td>\n",
       "      <td>53.58</td>\n",
       "      <td>53.30</td>\n",
       "      <td>53.02</td>\n",
       "      <td>52.75</td>\n",
       "      <td>52.48</td>\n",
       "      <td>52.20</td>\n",
       "      <td>51.93</td>\n",
       "      <td>51.66</td>\n",
       "      <td>51.38</td>\n",
       "      <td>51.11</td>\n",
       "      <td>50.83</td>\n",
       "      <td>50.55</td>\n",
       "      <td>50.28</td>\n",
       "      <td>50.0</td>\n",
       "    </tr>\n",
       "    <tr>\n",
       "      <th>160.0</th>\n",
       "      <td>64.91</td>\n",
       "      <td>64.64</td>\n",
       "      <td>64.37</td>\n",
       "      <td>64.10</td>\n",
       "      <td>63.83</td>\n",
       "      <td>63.56</td>\n",
       "      <td>63.29</td>\n",
       "      <td>63.02</td>\n",
       "      <td>62.74</td>\n",
       "      <td>62.47</td>\n",
       "      <td>62.20</td>\n",
       "      <td>61.93</td>\n",
       "      <td>61.66</td>\n",
       "      <td>61.38</td>\n",
       "      <td>61.11</td>\n",
       "      <td>60.83</td>\n",
       "      <td>60.55</td>\n",
       "      <td>60.28</td>\n",
       "      <td>60.0</td>\n",
       "    </tr>\n",
       "    <tr>\n",
       "      <th>170.0</th>\n",
       "      <td>74.89</td>\n",
       "      <td>74.63</td>\n",
       "      <td>74.36</td>\n",
       "      <td>74.09</td>\n",
       "      <td>73.82</td>\n",
       "      <td>73.55</td>\n",
       "      <td>73.28</td>\n",
       "      <td>73.01</td>\n",
       "      <td>72.74</td>\n",
       "      <td>72.47</td>\n",
       "      <td>72.20</td>\n",
       "      <td>71.93</td>\n",
       "      <td>71.66</td>\n",
       "      <td>71.38</td>\n",
       "      <td>71.11</td>\n",
       "      <td>70.83</td>\n",
       "      <td>70.55</td>\n",
       "      <td>70.28</td>\n",
       "      <td>70.0</td>\n",
       "    </tr>\n",
       "    <tr>\n",
       "      <th>180.0</th>\n",
       "      <td>84.89</td>\n",
       "      <td>84.62</td>\n",
       "      <td>84.35</td>\n",
       "      <td>84.09</td>\n",
       "      <td>83.82</td>\n",
       "      <td>83.55</td>\n",
       "      <td>83.28</td>\n",
       "      <td>83.01</td>\n",
       "      <td>82.74</td>\n",
       "      <td>82.47</td>\n",
       "      <td>82.20</td>\n",
       "      <td>81.93</td>\n",
       "      <td>81.66</td>\n",
       "      <td>81.38</td>\n",
       "      <td>81.11</td>\n",
       "      <td>80.83</td>\n",
       "      <td>80.55</td>\n",
       "      <td>80.28</td>\n",
       "      <td>80.0</td>\n",
       "    </tr>\n",
       "    <tr>\n",
       "      <th>190.0</th>\n",
       "      <td>94.88</td>\n",
       "      <td>94.62</td>\n",
       "      <td>94.35</td>\n",
       "      <td>94.09</td>\n",
       "      <td>93.82</td>\n",
       "      <td>93.55</td>\n",
       "      <td>93.28</td>\n",
       "      <td>93.01</td>\n",
       "      <td>92.74</td>\n",
       "      <td>92.47</td>\n",
       "      <td>92.20</td>\n",
       "      <td>91.93</td>\n",
       "      <td>91.66</td>\n",
       "      <td>91.38</td>\n",
       "      <td>91.11</td>\n",
       "      <td>90.83</td>\n",
       "      <td>90.55</td>\n",
       "      <td>90.28</td>\n",
       "      <td>90.0</td>\n",
       "    </tr>\n",
       "    <tr>\n",
       "      <th>200.0</th>\n",
       "      <td>104.88</td>\n",
       "      <td>104.62</td>\n",
       "      <td>104.35</td>\n",
       "      <td>104.09</td>\n",
       "      <td>103.82</td>\n",
       "      <td>103.55</td>\n",
       "      <td>103.28</td>\n",
       "      <td>103.01</td>\n",
       "      <td>102.74</td>\n",
       "      <td>102.47</td>\n",
       "      <td>102.20</td>\n",
       "      <td>101.93</td>\n",
       "      <td>101.66</td>\n",
       "      <td>101.38</td>\n",
       "      <td>101.11</td>\n",
       "      <td>100.83</td>\n",
       "      <td>100.55</td>\n",
       "      <td>100.28</td>\n",
       "      <td>100.0</td>\n",
       "    </tr>\n",
       "  </tbody>\n",
       "</table>\n",
       "</div>"
      ]
     },
     "execution_count": 6,
     "metadata": {},
     "output_type": "execute_result"
    }
   ],
   "execution_count": 6
  },
  {
   "metadata": {},
   "cell_type": "markdown",
   "source": [
    "### Option Values\n",
    "Let's now get the value of European & American call and put option for K=100, Volatility=20%, Rate=5%, T=1 and NAS=60."
   ],
   "id": "1312ad7e1d9fff84"
  },
  {
   "metadata": {
    "ExecuteTime": {
     "end_time": "2024-08-23T15:35:27.129232Z",
     "start_time": "2024-08-23T15:35:26.373137Z"
    }
   },
   "cell_type": "code",
   "source": [
    "# Output the option values\n",
    "call = efdmoption(100,0.2,0.05,1,50,call=True, american=True).loc[100,1]\n",
    "put = efdmoption(100,0.2,0.05,1,50,call=False, american=True).loc[100,1]\n",
    "\n",
    "# Print the values\n",
    "print(f\"Call Option Value is {call:0.4f}\")\n",
    "print(f\"Put Option Value is {put:0.4f}\")"
   ],
   "id": "800f80abc91bd7bc",
   "outputs": [
    {
     "name": "stdout",
     "output_type": "stream",
     "text": [
      "Call Option Value is 10.4200\n",
      "Put Option Value is 5.9100\n"
     ]
    }
   ],
   "execution_count": 7
  },
  {
   "metadata": {},
   "cell_type": "markdown",
   "source": "### Visualize the payoff",
   "id": "cde76a0643e8b6c6"
  },
  {
   "metadata": {
    "ExecuteTime": {
     "end_time": "2024-08-23T15:35:56.669727Z",
     "start_time": "2024-08-23T15:35:56.656664Z"
    }
   },
   "cell_type": "code",
   "source": [
    "# Plot Option Payoff \n",
    "# Axis titles are not rendered correctly on the graph. This is a bug in cufflinks\n",
    "fig = fdm_grid.iplot(kind = 'surface', title='Option values by Explicit FDM', xTitle='Spot', yTitle='Maturiy', zTitle='Option Value', asFigure=True)\n",
    "fig.show()\n",
    "# Save the figure - you might have to install kaleido for earlier version of plotly\n",
    "# @pip install -U kaleido\n",
    "\n",
    "# Save as portable network graphics\n",
    "# fig.write_image(\"images/fdm_option.png\")"
   ],
   "id": "6bfedb1ce24eac24",
   "outputs": [
    {
     "data": {
      "application/vnd.plotly.v1+json": {
       "data": [
        {
         "colorscale": [
          [
           0.0,
           "rgb(255, 153, 51)"
          ],
          [
           0.1111111111111111,
           "rgb(55, 128, 191)"
          ],
          [
           0.2222222222222222,
           "rgb(50, 171, 96)"
          ],
          [
           0.3333333333333333,
           "rgb(128, 0, 128)"
          ],
          [
           0.4444444444444444,
           "rgb(219, 64, 82)"
          ],
          [
           0.5555555555555556,
           "rgb(0, 128, 128)"
          ],
          [
           0.6666666666666666,
           "rgb(255, 255, 51)"
          ],
          [
           0.7777777777777778,
           "rgb(128, 128, 0)"
          ],
          [
           0.8888888888888888,
           "rgb(251, 128, 114)"
          ],
          [
           1.0,
           "rgb(128, 177, 211)"
          ]
         ],
         "x": [
          0.0,
          10.0,
          20.0,
          30.0,
          40.0,
          50.0,
          60.0,
          70.0,
          80.0,
          90.0,
          100.0,
          110.0,
          120.0,
          130.0,
          140.0,
          150.0,
          160.0,
          170.0,
          180.0,
          190.0,
          200.0
         ],
         "y": [
          1.0,
          0.944,
          0.889,
          0.833,
          0.778,
          0.722,
          0.667,
          0.611,
          0.556,
          0.5,
          0.444,
          0.389,
          0.333,
          0.278,
          0.222,
          0.167,
          0.111,
          0.056,
          0.0
         ],
         "z": [
          [
           0.0,
           0.0,
           0.0,
           0.0,
           0.0,
           0.01,
           0.07,
           0.43,
           1.75,
           4.9,
           10.26,
           17.52,
           26.09,
           35.4,
           45.09,
           54.97,
           64.91,
           74.89,
           84.89,
           94.88,
           104.88
          ],
          [
           0.0,
           0.0,
           0.0,
           0.0,
           0.0,
           0.0,
           0.05,
           0.37,
           1.58,
           4.6,
           9.89,
           17.15,
           25.74,
           35.08,
           44.8,
           54.69,
           64.64,
           74.63,
           84.62,
           94.62,
           104.62
          ],
          [
           0.0,
           0.0,
           0.0,
           0.0,
           0.0,
           0.0,
           0.04,
           0.31,
           1.42,
           4.31,
           9.52,
           16.77,
           25.39,
           34.77,
           44.51,
           54.41,
           64.37,
           74.36,
           84.35,
           94.35,
           104.35
          ],
          [
           0.0,
           0.0,
           0.0,
           0.0,
           0.0,
           0.0,
           0.03,
           0.26,
           1.25,
           4.0,
           9.13,
           16.38,
           25.04,
           34.45,
           44.22,
           54.13,
           64.1,
           74.09,
           84.09,
           94.09,
           104.09
          ],
          [
           0.0,
           0.0,
           0.0,
           0.0,
           0.0,
           0.0,
           0.02,
           0.21,
           1.1,
           3.7,
           8.74,
           15.99,
           24.68,
           34.13,
           43.93,
           53.85,
           63.83,
           73.82,
           83.82,
           93.82,
           103.82
          ],
          [
           0.0,
           0.0,
           0.0,
           0.0,
           0.0,
           0.0,
           0.02,
           0.16,
           0.94,
           3.39,
           8.34,
           15.59,
           24.33,
           33.82,
           43.64,
           53.58,
           63.56,
           73.55,
           83.55,
           93.55,
           103.55
          ],
          [
           0.0,
           0.0,
           0.0,
           0.0,
           0.0,
           0.0,
           0.01,
           0.13,
           0.8,
           3.08,
           7.92,
           15.18,
           23.97,
           33.5,
           43.35,
           53.3,
           63.29,
           73.28,
           83.28,
           93.28,
           103.28
          ],
          [
           0.0,
           0.0,
           0.0,
           0.0,
           0.0,
           0.0,
           0.01,
           0.09,
           0.66,
           2.77,
           7.5,
           14.76,
           23.61,
           33.19,
           43.06,
           53.02,
           63.02,
           73.01,
           83.01,
           93.01,
           103.01
          ],
          [
           0.0,
           0.0,
           0.0,
           0.0,
           0.0,
           0.0,
           0.0,
           0.07,
           0.53,
           2.45,
           7.05,
           14.34,
           23.25,
           32.88,
           42.78,
           52.75,
           62.74,
           72.74,
           82.74,
           92.74,
           102.74
          ],
          [
           0.0,
           0.0,
           0.0,
           0.0,
           0.0,
           0.0,
           0.0,
           0.04,
           0.42,
           2.13,
           6.59,
           13.9,
           22.89,
           32.57,
           42.49,
           52.48,
           62.47,
           72.47,
           82.47,
           92.47,
           102.47
          ],
          [
           0.0,
           0.0,
           0.0,
           0.0,
           0.0,
           0.0,
           0.0,
           0.03,
           0.31,
           1.81,
           6.11,
           13.46,
           22.53,
           32.27,
           42.21,
           52.2,
           62.2,
           72.2,
           82.2,
           92.2,
           102.2
          ],
          [
           0.0,
           0.0,
           0.0,
           0.0,
           0.0,
           0.0,
           0.0,
           0.02,
           0.22,
           1.49,
           5.6,
           13.0,
           22.17,
           31.97,
           41.93,
           51.93,
           61.93,
           71.93,
           81.93,
           91.93,
           101.93
          ],
          [
           0.0,
           0.0,
           0.0,
           0.0,
           0.0,
           0.0,
           0.0,
           0.01,
           0.14,
           1.18,
           5.05,
           12.53,
           21.83,
           31.68,
           41.66,
           51.66,
           61.66,
           71.66,
           81.66,
           91.66,
           101.66
          ],
          [
           0.0,
           0.0,
           0.0,
           0.0,
           0.0,
           0.0,
           0.0,
           0.0,
           0.08,
           0.88,
           4.47,
           12.06,
           21.49,
           31.39,
           41.38,
           51.38,
           61.38,
           71.38,
           81.38,
           91.38,
           101.38
          ],
          [
           0.0,
           0.0,
           0.0,
           0.0,
           0.0,
           0.0,
           0.0,
           0.0,
           0.04,
           0.59,
           3.82,
           11.59,
           21.16,
           31.11,
           41.11,
           51.11,
           61.11,
           71.11,
           81.11,
           91.11,
           101.11
          ],
          [
           0.0,
           0.0,
           0.0,
           0.0,
           0.0,
           0.0,
           0.0,
           0.0,
           0.01,
           0.34,
           3.09,
           11.12,
           20.85,
           30.83,
           40.83,
           50.83,
           60.83,
           70.83,
           80.83,
           90.83,
           100.83
          ],
          [
           0.0,
           0.0,
           0.0,
           0.0,
           0.0,
           0.0,
           0.0,
           0.0,
           0.0,
           0.13,
           2.25,
           10.67,
           20.55,
           30.55,
           40.55,
           50.55,
           60.55,
           70.55,
           80.55,
           90.55,
           100.55
          ],
          [
           0.0,
           0.0,
           0.0,
           0.0,
           0.0,
           0.0,
           0.0,
           0.0,
           0.0,
           0.0,
           1.25,
           10.28,
           20.28,
           30.28,
           40.28,
           50.28,
           60.28,
           70.28,
           80.28,
           90.28,
           100.28
          ],
          [
           0.0,
           0.0,
           0.0,
           0.0,
           0.0,
           0.0,
           0.0,
           0.0,
           0.0,
           0.0,
           0.0,
           10.0,
           20.0,
           30.0,
           40.0,
           50.0,
           60.0,
           70.0,
           80.0,
           90.0,
           100.0
          ]
         ],
         "type": "surface"
        }
       ],
       "layout": {
        "height": 600,
        "legend": {
         "bgcolor": "#F5F6F9",
         "font": {
          "color": "#4D5663"
         }
        },
        "paper_bgcolor": "#F5F6F9",
        "plot_bgcolor": "#F5F6F9",
        "title": {
         "text": "Option values by Explicit FDM",
         "font": {
          "color": "#4D5663"
         }
        },
        "width": 1000,
        "xaxis": {
         "gridcolor": "#E1E5ED",
         "showgrid": true,
         "tickfont": {
          "color": "#4D5663"
         },
         "title": {
          "text": "Spot",
          "font": {
           "color": "#4D5663"
          }
         },
         "zerolinecolor": "#E1E5ED"
        },
        "yaxis": {
         "gridcolor": "#E1E5ED",
         "showgrid": true,
         "tickfont": {
          "color": "#4D5663"
         },
         "title": {
          "text": "Maturiy",
          "font": {
           "color": "#4D5663"
          }
         },
         "zerolinecolor": "#E1E5ED"
        },
        "template": {
         "data": {
          "histogram2dcontour": [
           {
            "type": "histogram2dcontour",
            "colorbar": {
             "outlinewidth": 0,
             "ticks": ""
            },
            "colorscale": [
             [
              0.0,
              "#0d0887"
             ],
             [
              0.1111111111111111,
              "#46039f"
             ],
             [
              0.2222222222222222,
              "#7201a8"
             ],
             [
              0.3333333333333333,
              "#9c179e"
             ],
             [
              0.4444444444444444,
              "#bd3786"
             ],
             [
              0.5555555555555556,
              "#d8576b"
             ],
             [
              0.6666666666666666,
              "#ed7953"
             ],
             [
              0.7777777777777778,
              "#fb9f3a"
             ],
             [
              0.8888888888888888,
              "#fdca26"
             ],
             [
              1.0,
              "#f0f921"
             ]
            ]
           }
          ],
          "choropleth": [
           {
            "type": "choropleth",
            "colorbar": {
             "outlinewidth": 0,
             "ticks": ""
            }
           }
          ],
          "histogram2d": [
           {
            "type": "histogram2d",
            "colorbar": {
             "outlinewidth": 0,
             "ticks": ""
            },
            "colorscale": [
             [
              0.0,
              "#0d0887"
             ],
             [
              0.1111111111111111,
              "#46039f"
             ],
             [
              0.2222222222222222,
              "#7201a8"
             ],
             [
              0.3333333333333333,
              "#9c179e"
             ],
             [
              0.4444444444444444,
              "#bd3786"
             ],
             [
              0.5555555555555556,
              "#d8576b"
             ],
             [
              0.6666666666666666,
              "#ed7953"
             ],
             [
              0.7777777777777778,
              "#fb9f3a"
             ],
             [
              0.8888888888888888,
              "#fdca26"
             ],
             [
              1.0,
              "#f0f921"
             ]
            ]
           }
          ],
          "heatmap": [
           {
            "type": "heatmap",
            "colorbar": {
             "outlinewidth": 0,
             "ticks": ""
            },
            "colorscale": [
             [
              0.0,
              "#0d0887"
             ],
             [
              0.1111111111111111,
              "#46039f"
             ],
             [
              0.2222222222222222,
              "#7201a8"
             ],
             [
              0.3333333333333333,
              "#9c179e"
             ],
             [
              0.4444444444444444,
              "#bd3786"
             ],
             [
              0.5555555555555556,
              "#d8576b"
             ],
             [
              0.6666666666666666,
              "#ed7953"
             ],
             [
              0.7777777777777778,
              "#fb9f3a"
             ],
             [
              0.8888888888888888,
              "#fdca26"
             ],
             [
              1.0,
              "#f0f921"
             ]
            ]
           }
          ],
          "heatmapgl": [
           {
            "type": "heatmapgl",
            "colorbar": {
             "outlinewidth": 0,
             "ticks": ""
            },
            "colorscale": [
             [
              0.0,
              "#0d0887"
             ],
             [
              0.1111111111111111,
              "#46039f"
             ],
             [
              0.2222222222222222,
              "#7201a8"
             ],
             [
              0.3333333333333333,
              "#9c179e"
             ],
             [
              0.4444444444444444,
              "#bd3786"
             ],
             [
              0.5555555555555556,
              "#d8576b"
             ],
             [
              0.6666666666666666,
              "#ed7953"
             ],
             [
              0.7777777777777778,
              "#fb9f3a"
             ],
             [
              0.8888888888888888,
              "#fdca26"
             ],
             [
              1.0,
              "#f0f921"
             ]
            ]
           }
          ],
          "contourcarpet": [
           {
            "type": "contourcarpet",
            "colorbar": {
             "outlinewidth": 0,
             "ticks": ""
            }
           }
          ],
          "contour": [
           {
            "type": "contour",
            "colorbar": {
             "outlinewidth": 0,
             "ticks": ""
            },
            "colorscale": [
             [
              0.0,
              "#0d0887"
             ],
             [
              0.1111111111111111,
              "#46039f"
             ],
             [
              0.2222222222222222,
              "#7201a8"
             ],
             [
              0.3333333333333333,
              "#9c179e"
             ],
             [
              0.4444444444444444,
              "#bd3786"
             ],
             [
              0.5555555555555556,
              "#d8576b"
             ],
             [
              0.6666666666666666,
              "#ed7953"
             ],
             [
              0.7777777777777778,
              "#fb9f3a"
             ],
             [
              0.8888888888888888,
              "#fdca26"
             ],
             [
              1.0,
              "#f0f921"
             ]
            ]
           }
          ],
          "surface": [
           {
            "type": "surface",
            "colorbar": {
             "outlinewidth": 0,
             "ticks": ""
            },
            "colorscale": [
             [
              0.0,
              "#0d0887"
             ],
             [
              0.1111111111111111,
              "#46039f"
             ],
             [
              0.2222222222222222,
              "#7201a8"
             ],
             [
              0.3333333333333333,
              "#9c179e"
             ],
             [
              0.4444444444444444,
              "#bd3786"
             ],
             [
              0.5555555555555556,
              "#d8576b"
             ],
             [
              0.6666666666666666,
              "#ed7953"
             ],
             [
              0.7777777777777778,
              "#fb9f3a"
             ],
             [
              0.8888888888888888,
              "#fdca26"
             ],
             [
              1.0,
              "#f0f921"
             ]
            ]
           }
          ],
          "mesh3d": [
           {
            "type": "mesh3d",
            "colorbar": {
             "outlinewidth": 0,
             "ticks": ""
            }
           }
          ],
          "scatter": [
           {
            "marker": {
             "line": {
              "color": "#283442"
             }
            },
            "type": "scatter"
           }
          ],
          "parcoords": [
           {
            "type": "parcoords",
            "line": {
             "colorbar": {
              "outlinewidth": 0,
              "ticks": ""
             }
            }
           }
          ],
          "scatterpolargl": [
           {
            "type": "scatterpolargl",
            "marker": {
             "colorbar": {
              "outlinewidth": 0,
              "ticks": ""
             }
            }
           }
          ],
          "bar": [
           {
            "error_x": {
             "color": "#f2f5fa"
            },
            "error_y": {
             "color": "#f2f5fa"
            },
            "marker": {
             "line": {
              "color": "rgb(17,17,17)",
              "width": 0.5
             },
             "pattern": {
              "fillmode": "overlay",
              "size": 10,
              "solidity": 0.2
             }
            },
            "type": "bar"
           }
          ],
          "scattergeo": [
           {
            "type": "scattergeo",
            "marker": {
             "colorbar": {
              "outlinewidth": 0,
              "ticks": ""
             }
            }
           }
          ],
          "scatterpolar": [
           {
            "type": "scatterpolar",
            "marker": {
             "colorbar": {
              "outlinewidth": 0,
              "ticks": ""
             }
            }
           }
          ],
          "histogram": [
           {
            "marker": {
             "pattern": {
              "fillmode": "overlay",
              "size": 10,
              "solidity": 0.2
             }
            },
            "type": "histogram"
           }
          ],
          "scattergl": [
           {
            "marker": {
             "line": {
              "color": "#283442"
             }
            },
            "type": "scattergl"
           }
          ],
          "scatter3d": [
           {
            "type": "scatter3d",
            "line": {
             "colorbar": {
              "outlinewidth": 0,
              "ticks": ""
             }
            },
            "marker": {
             "colorbar": {
              "outlinewidth": 0,
              "ticks": ""
             }
            }
           }
          ],
          "scattermapbox": [
           {
            "type": "scattermapbox",
            "marker": {
             "colorbar": {
              "outlinewidth": 0,
              "ticks": ""
             }
            }
           }
          ],
          "scatterternary": [
           {
            "type": "scatterternary",
            "marker": {
             "colorbar": {
              "outlinewidth": 0,
              "ticks": ""
             }
            }
           }
          ],
          "scattercarpet": [
           {
            "type": "scattercarpet",
            "marker": {
             "colorbar": {
              "outlinewidth": 0,
              "ticks": ""
             }
            }
           }
          ],
          "carpet": [
           {
            "aaxis": {
             "endlinecolor": "#A2B1C6",
             "gridcolor": "#506784",
             "linecolor": "#506784",
             "minorgridcolor": "#506784",
             "startlinecolor": "#A2B1C6"
            },
            "baxis": {
             "endlinecolor": "#A2B1C6",
             "gridcolor": "#506784",
             "linecolor": "#506784",
             "minorgridcolor": "#506784",
             "startlinecolor": "#A2B1C6"
            },
            "type": "carpet"
           }
          ],
          "table": [
           {
            "cells": {
             "fill": {
              "color": "#506784"
             },
             "line": {
              "color": "rgb(17,17,17)"
             }
            },
            "header": {
             "fill": {
              "color": "#2a3f5f"
             },
             "line": {
              "color": "rgb(17,17,17)"
             }
            },
            "type": "table"
           }
          ],
          "barpolar": [
           {
            "marker": {
             "line": {
              "color": "rgb(17,17,17)",
              "width": 0.5
             },
             "pattern": {
              "fillmode": "overlay",
              "size": 10,
              "solidity": 0.2
             }
            },
            "type": "barpolar"
           }
          ],
          "pie": [
           {
            "automargin": true,
            "type": "pie"
           }
          ]
         },
         "layout": {
          "autotypenumbers": "strict",
          "colorway": [
           "#636efa",
           "#EF553B",
           "#00cc96",
           "#ab63fa",
           "#FFA15A",
           "#19d3f3",
           "#FF6692",
           "#B6E880",
           "#FF97FF",
           "#FECB52"
          ],
          "font": {
           "color": "#f2f5fa"
          },
          "hovermode": "closest",
          "hoverlabel": {
           "align": "left"
          },
          "paper_bgcolor": "rgb(17,17,17)",
          "plot_bgcolor": "rgb(17,17,17)",
          "polar": {
           "bgcolor": "rgb(17,17,17)",
           "angularaxis": {
            "gridcolor": "#506784",
            "linecolor": "#506784",
            "ticks": ""
           },
           "radialaxis": {
            "gridcolor": "#506784",
            "linecolor": "#506784",
            "ticks": ""
           }
          },
          "ternary": {
           "bgcolor": "rgb(17,17,17)",
           "aaxis": {
            "gridcolor": "#506784",
            "linecolor": "#506784",
            "ticks": ""
           },
           "baxis": {
            "gridcolor": "#506784",
            "linecolor": "#506784",
            "ticks": ""
           },
           "caxis": {
            "gridcolor": "#506784",
            "linecolor": "#506784",
            "ticks": ""
           }
          },
          "coloraxis": {
           "colorbar": {
            "outlinewidth": 0,
            "ticks": ""
           }
          },
          "colorscale": {
           "sequential": [
            [
             0.0,
             "#0d0887"
            ],
            [
             0.1111111111111111,
             "#46039f"
            ],
            [
             0.2222222222222222,
             "#7201a8"
            ],
            [
             0.3333333333333333,
             "#9c179e"
            ],
            [
             0.4444444444444444,
             "#bd3786"
            ],
            [
             0.5555555555555556,
             "#d8576b"
            ],
            [
             0.6666666666666666,
             "#ed7953"
            ],
            [
             0.7777777777777778,
             "#fb9f3a"
            ],
            [
             0.8888888888888888,
             "#fdca26"
            ],
            [
             1.0,
             "#f0f921"
            ]
           ],
           "sequentialminus": [
            [
             0.0,
             "#0d0887"
            ],
            [
             0.1111111111111111,
             "#46039f"
            ],
            [
             0.2222222222222222,
             "#7201a8"
            ],
            [
             0.3333333333333333,
             "#9c179e"
            ],
            [
             0.4444444444444444,
             "#bd3786"
            ],
            [
             0.5555555555555556,
             "#d8576b"
            ],
            [
             0.6666666666666666,
             "#ed7953"
            ],
            [
             0.7777777777777778,
             "#fb9f3a"
            ],
            [
             0.8888888888888888,
             "#fdca26"
            ],
            [
             1.0,
             "#f0f921"
            ]
           ],
           "diverging": [
            [
             0,
             "#8e0152"
            ],
            [
             0.1,
             "#c51b7d"
            ],
            [
             0.2,
             "#de77ae"
            ],
            [
             0.3,
             "#f1b6da"
            ],
            [
             0.4,
             "#fde0ef"
            ],
            [
             0.5,
             "#f7f7f7"
            ],
            [
             0.6,
             "#e6f5d0"
            ],
            [
             0.7,
             "#b8e186"
            ],
            [
             0.8,
             "#7fbc41"
            ],
            [
             0.9,
             "#4d9221"
            ],
            [
             1,
             "#276419"
            ]
           ]
          },
          "xaxis": {
           "gridcolor": "#283442",
           "linecolor": "#506784",
           "ticks": "",
           "title": {
            "standoff": 15
           },
           "zerolinecolor": "#283442",
           "automargin": true,
           "zerolinewidth": 2
          },
          "yaxis": {
           "gridcolor": "#283442",
           "linecolor": "#506784",
           "ticks": "",
           "title": {
            "standoff": 15
           },
           "zerolinecolor": "#283442",
           "automargin": true,
           "zerolinewidth": 2
          },
          "scene": {
           "xaxis": {
            "backgroundcolor": "rgb(17,17,17)",
            "gridcolor": "#506784",
            "linecolor": "#506784",
            "showbackground": true,
            "ticks": "",
            "zerolinecolor": "#C8D4E3",
            "gridwidth": 2
           },
           "yaxis": {
            "backgroundcolor": "rgb(17,17,17)",
            "gridcolor": "#506784",
            "linecolor": "#506784",
            "showbackground": true,
            "ticks": "",
            "zerolinecolor": "#C8D4E3",
            "gridwidth": 2
           },
           "zaxis": {
            "backgroundcolor": "rgb(17,17,17)",
            "gridcolor": "#506784",
            "linecolor": "#506784",
            "showbackground": true,
            "ticks": "",
            "zerolinecolor": "#C8D4E3",
            "gridwidth": 2
           }
          },
          "shapedefaults": {
           "line": {
            "color": "#f2f5fa"
           }
          },
          "annotationdefaults": {
           "arrowcolor": "#f2f5fa",
           "arrowhead": 0,
           "arrowwidth": 1
          },
          "geo": {
           "bgcolor": "rgb(17,17,17)",
           "landcolor": "rgb(17,17,17)",
           "subunitcolor": "#506784",
           "showland": true,
           "showlakes": true,
           "lakecolor": "rgb(17,17,17)"
          },
          "title": {
           "x": 0.05
          },
          "updatemenudefaults": {
           "bgcolor": "#506784",
           "borderwidth": 0
          },
          "sliderdefaults": {
           "bgcolor": "#C8D4E3",
           "borderwidth": 1,
           "bordercolor": "rgb(17,17,17)",
           "tickwidth": 0
          },
          "mapbox": {
           "style": "dark"
          }
         }
        }
       },
       "config": {
        "plotlyServerURL": "https://plot.ly"
       }
      },
      "text/html": [
       "<div>                            <div id=\"a225ab0e-e663-4320-9357-fe7335231ad0\" class=\"plotly-graph-div\" style=\"height:600px; width:1000px;\"></div>            <script type=\"text/javascript\">                require([\"plotly\"], function(Plotly) {                    window.PLOTLYENV=window.PLOTLYENV || {};                                    if (document.getElementById(\"a225ab0e-e663-4320-9357-fe7335231ad0\")) {                    Plotly.newPlot(                        \"a225ab0e-e663-4320-9357-fe7335231ad0\",                        [{\"colorscale\":[[0.0,\"rgb(255, 153, 51)\"],[0.1111111111111111,\"rgb(55, 128, 191)\"],[0.2222222222222222,\"rgb(50, 171, 96)\"],[0.3333333333333333,\"rgb(128, 0, 128)\"],[0.4444444444444444,\"rgb(219, 64, 82)\"],[0.5555555555555556,\"rgb(0, 128, 128)\"],[0.6666666666666666,\"rgb(255, 255, 51)\"],[0.7777777777777778,\"rgb(128, 128, 0)\"],[0.8888888888888888,\"rgb(251, 128, 114)\"],[1.0,\"rgb(128, 177, 211)\"]],\"x\":[0.0,10.0,20.0,30.0,40.0,50.0,60.0,70.0,80.0,90.0,100.0,110.0,120.0,130.0,140.0,150.0,160.0,170.0,180.0,190.0,200.0],\"y\":[1.0,0.944,0.889,0.833,0.778,0.722,0.667,0.611,0.556,0.5,0.444,0.389,0.333,0.278,0.222,0.167,0.111,0.056,0.0],\"z\":[[0.0,0.0,0.0,0.0,0.0,0.01,0.07,0.43,1.75,4.9,10.26,17.52,26.09,35.4,45.09,54.97,64.91,74.89,84.89,94.88,104.88],[0.0,0.0,0.0,0.0,0.0,0.0,0.05,0.37,1.58,4.6,9.89,17.15,25.74,35.08,44.8,54.69,64.64,74.63,84.62,94.62,104.62],[0.0,0.0,0.0,0.0,0.0,0.0,0.04,0.31,1.42,4.31,9.52,16.77,25.39,34.77,44.51,54.41,64.37,74.36,84.35,94.35,104.35],[0.0,0.0,0.0,0.0,0.0,0.0,0.03,0.26,1.25,4.0,9.13,16.38,25.04,34.45,44.22,54.13,64.1,74.09,84.09,94.09,104.09],[0.0,0.0,0.0,0.0,0.0,0.0,0.02,0.21,1.1,3.7,8.74,15.99,24.68,34.13,43.93,53.85,63.83,73.82,83.82,93.82,103.82],[0.0,0.0,0.0,0.0,0.0,0.0,0.02,0.16,0.94,3.39,8.34,15.59,24.33,33.82,43.64,53.58,63.56,73.55,83.55,93.55,103.55],[0.0,0.0,0.0,0.0,0.0,0.0,0.01,0.13,0.8,3.08,7.92,15.18,23.97,33.5,43.35,53.3,63.29,73.28,83.28,93.28,103.28],[0.0,0.0,0.0,0.0,0.0,0.0,0.01,0.09,0.66,2.77,7.5,14.76,23.61,33.19,43.06,53.02,63.02,73.01,83.01,93.01,103.01],[0.0,0.0,0.0,0.0,0.0,0.0,0.0,0.07,0.53,2.45,7.05,14.34,23.25,32.88,42.78,52.75,62.74,72.74,82.74,92.74,102.74],[0.0,0.0,0.0,0.0,0.0,0.0,0.0,0.04,0.42,2.13,6.59,13.9,22.89,32.57,42.49,52.48,62.47,72.47,82.47,92.47,102.47],[0.0,0.0,0.0,0.0,0.0,0.0,0.0,0.03,0.31,1.81,6.11,13.46,22.53,32.27,42.21,52.2,62.2,72.2,82.2,92.2,102.2],[0.0,0.0,0.0,0.0,0.0,0.0,0.0,0.02,0.22,1.49,5.6,13.0,22.17,31.97,41.93,51.93,61.93,71.93,81.93,91.93,101.93],[0.0,0.0,0.0,0.0,0.0,0.0,0.0,0.01,0.14,1.18,5.05,12.53,21.83,31.68,41.66,51.66,61.66,71.66,81.66,91.66,101.66],[0.0,0.0,0.0,0.0,0.0,0.0,0.0,0.0,0.08,0.88,4.47,12.06,21.49,31.39,41.38,51.38,61.38,71.38,81.38,91.38,101.38],[0.0,0.0,0.0,0.0,0.0,0.0,0.0,0.0,0.04,0.59,3.82,11.59,21.16,31.11,41.11,51.11,61.11,71.11,81.11,91.11,101.11],[0.0,0.0,0.0,0.0,0.0,0.0,0.0,0.0,0.01,0.34,3.09,11.12,20.85,30.83,40.83,50.83,60.83,70.83,80.83,90.83,100.83],[0.0,0.0,0.0,0.0,0.0,0.0,0.0,0.0,0.0,0.13,2.25,10.67,20.55,30.55,40.55,50.55,60.55,70.55,80.55,90.55,100.55],[0.0,0.0,0.0,0.0,0.0,0.0,0.0,0.0,0.0,0.0,1.25,10.28,20.28,30.28,40.28,50.28,60.28,70.28,80.28,90.28,100.28],[0.0,0.0,0.0,0.0,0.0,0.0,0.0,0.0,0.0,0.0,0.0,10.0,20.0,30.0,40.0,50.0,60.0,70.0,80.0,90.0,100.0]],\"type\":\"surface\"}],                        {\"height\":600,\"legend\":{\"bgcolor\":\"#F5F6F9\",\"font\":{\"color\":\"#4D5663\"}},\"paper_bgcolor\":\"#F5F6F9\",\"plot_bgcolor\":\"#F5F6F9\",\"title\":{\"text\":\"Option values by Explicit FDM\",\"font\":{\"color\":\"#4D5663\"}},\"width\":1000,\"xaxis\":{\"gridcolor\":\"#E1E5ED\",\"showgrid\":true,\"tickfont\":{\"color\":\"#4D5663\"},\"title\":{\"text\":\"Spot\",\"font\":{\"color\":\"#4D5663\"}},\"zerolinecolor\":\"#E1E5ED\"},\"yaxis\":{\"gridcolor\":\"#E1E5ED\",\"showgrid\":true,\"tickfont\":{\"color\":\"#4D5663\"},\"title\":{\"text\":\"Maturiy\",\"font\":{\"color\":\"#4D5663\"}},\"zerolinecolor\":\"#E1E5ED\"},\"template\":{\"data\":{\"histogram2dcontour\":[{\"type\":\"histogram2dcontour\",\"colorbar\":{\"outlinewidth\":0,\"ticks\":\"\"},\"colorscale\":[[0.0,\"#0d0887\"],[0.1111111111111111,\"#46039f\"],[0.2222222222222222,\"#7201a8\"],[0.3333333333333333,\"#9c179e\"],[0.4444444444444444,\"#bd3786\"],[0.5555555555555556,\"#d8576b\"],[0.6666666666666666,\"#ed7953\"],[0.7777777777777778,\"#fb9f3a\"],[0.8888888888888888,\"#fdca26\"],[1.0,\"#f0f921\"]]}],\"choropleth\":[{\"type\":\"choropleth\",\"colorbar\":{\"outlinewidth\":0,\"ticks\":\"\"}}],\"histogram2d\":[{\"type\":\"histogram2d\",\"colorbar\":{\"outlinewidth\":0,\"ticks\":\"\"},\"colorscale\":[[0.0,\"#0d0887\"],[0.1111111111111111,\"#46039f\"],[0.2222222222222222,\"#7201a8\"],[0.3333333333333333,\"#9c179e\"],[0.4444444444444444,\"#bd3786\"],[0.5555555555555556,\"#d8576b\"],[0.6666666666666666,\"#ed7953\"],[0.7777777777777778,\"#fb9f3a\"],[0.8888888888888888,\"#fdca26\"],[1.0,\"#f0f921\"]]}],\"heatmap\":[{\"type\":\"heatmap\",\"colorbar\":{\"outlinewidth\":0,\"ticks\":\"\"},\"colorscale\":[[0.0,\"#0d0887\"],[0.1111111111111111,\"#46039f\"],[0.2222222222222222,\"#7201a8\"],[0.3333333333333333,\"#9c179e\"],[0.4444444444444444,\"#bd3786\"],[0.5555555555555556,\"#d8576b\"],[0.6666666666666666,\"#ed7953\"],[0.7777777777777778,\"#fb9f3a\"],[0.8888888888888888,\"#fdca26\"],[1.0,\"#f0f921\"]]}],\"heatmapgl\":[{\"type\":\"heatmapgl\",\"colorbar\":{\"outlinewidth\":0,\"ticks\":\"\"},\"colorscale\":[[0.0,\"#0d0887\"],[0.1111111111111111,\"#46039f\"],[0.2222222222222222,\"#7201a8\"],[0.3333333333333333,\"#9c179e\"],[0.4444444444444444,\"#bd3786\"],[0.5555555555555556,\"#d8576b\"],[0.6666666666666666,\"#ed7953\"],[0.7777777777777778,\"#fb9f3a\"],[0.8888888888888888,\"#fdca26\"],[1.0,\"#f0f921\"]]}],\"contourcarpet\":[{\"type\":\"contourcarpet\",\"colorbar\":{\"outlinewidth\":0,\"ticks\":\"\"}}],\"contour\":[{\"type\":\"contour\",\"colorbar\":{\"outlinewidth\":0,\"ticks\":\"\"},\"colorscale\":[[0.0,\"#0d0887\"],[0.1111111111111111,\"#46039f\"],[0.2222222222222222,\"#7201a8\"],[0.3333333333333333,\"#9c179e\"],[0.4444444444444444,\"#bd3786\"],[0.5555555555555556,\"#d8576b\"],[0.6666666666666666,\"#ed7953\"],[0.7777777777777778,\"#fb9f3a\"],[0.8888888888888888,\"#fdca26\"],[1.0,\"#f0f921\"]]}],\"surface\":[{\"type\":\"surface\",\"colorbar\":{\"outlinewidth\":0,\"ticks\":\"\"},\"colorscale\":[[0.0,\"#0d0887\"],[0.1111111111111111,\"#46039f\"],[0.2222222222222222,\"#7201a8\"],[0.3333333333333333,\"#9c179e\"],[0.4444444444444444,\"#bd3786\"],[0.5555555555555556,\"#d8576b\"],[0.6666666666666666,\"#ed7953\"],[0.7777777777777778,\"#fb9f3a\"],[0.8888888888888888,\"#fdca26\"],[1.0,\"#f0f921\"]]}],\"mesh3d\":[{\"type\":\"mesh3d\",\"colorbar\":{\"outlinewidth\":0,\"ticks\":\"\"}}],\"scatter\":[{\"marker\":{\"line\":{\"color\":\"#283442\"}},\"type\":\"scatter\"}],\"parcoords\":[{\"type\":\"parcoords\",\"line\":{\"colorbar\":{\"outlinewidth\":0,\"ticks\":\"\"}}}],\"scatterpolargl\":[{\"type\":\"scatterpolargl\",\"marker\":{\"colorbar\":{\"outlinewidth\":0,\"ticks\":\"\"}}}],\"bar\":[{\"error_x\":{\"color\":\"#f2f5fa\"},\"error_y\":{\"color\":\"#f2f5fa\"},\"marker\":{\"line\":{\"color\":\"rgb(17,17,17)\",\"width\":0.5},\"pattern\":{\"fillmode\":\"overlay\",\"size\":10,\"solidity\":0.2}},\"type\":\"bar\"}],\"scattergeo\":[{\"type\":\"scattergeo\",\"marker\":{\"colorbar\":{\"outlinewidth\":0,\"ticks\":\"\"}}}],\"scatterpolar\":[{\"type\":\"scatterpolar\",\"marker\":{\"colorbar\":{\"outlinewidth\":0,\"ticks\":\"\"}}}],\"histogram\":[{\"marker\":{\"pattern\":{\"fillmode\":\"overlay\",\"size\":10,\"solidity\":0.2}},\"type\":\"histogram\"}],\"scattergl\":[{\"marker\":{\"line\":{\"color\":\"#283442\"}},\"type\":\"scattergl\"}],\"scatter3d\":[{\"type\":\"scatter3d\",\"line\":{\"colorbar\":{\"outlinewidth\":0,\"ticks\":\"\"}},\"marker\":{\"colorbar\":{\"outlinewidth\":0,\"ticks\":\"\"}}}],\"scattermapbox\":[{\"type\":\"scattermapbox\",\"marker\":{\"colorbar\":{\"outlinewidth\":0,\"ticks\":\"\"}}}],\"scatterternary\":[{\"type\":\"scatterternary\",\"marker\":{\"colorbar\":{\"outlinewidth\":0,\"ticks\":\"\"}}}],\"scattercarpet\":[{\"type\":\"scattercarpet\",\"marker\":{\"colorbar\":{\"outlinewidth\":0,\"ticks\":\"\"}}}],\"carpet\":[{\"aaxis\":{\"endlinecolor\":\"#A2B1C6\",\"gridcolor\":\"#506784\",\"linecolor\":\"#506784\",\"minorgridcolor\":\"#506784\",\"startlinecolor\":\"#A2B1C6\"},\"baxis\":{\"endlinecolor\":\"#A2B1C6\",\"gridcolor\":\"#506784\",\"linecolor\":\"#506784\",\"minorgridcolor\":\"#506784\",\"startlinecolor\":\"#A2B1C6\"},\"type\":\"carpet\"}],\"table\":[{\"cells\":{\"fill\":{\"color\":\"#506784\"},\"line\":{\"color\":\"rgb(17,17,17)\"}},\"header\":{\"fill\":{\"color\":\"#2a3f5f\"},\"line\":{\"color\":\"rgb(17,17,17)\"}},\"type\":\"table\"}],\"barpolar\":[{\"marker\":{\"line\":{\"color\":\"rgb(17,17,17)\",\"width\":0.5},\"pattern\":{\"fillmode\":\"overlay\",\"size\":10,\"solidity\":0.2}},\"type\":\"barpolar\"}],\"pie\":[{\"automargin\":true,\"type\":\"pie\"}]},\"layout\":{\"autotypenumbers\":\"strict\",\"colorway\":[\"#636efa\",\"#EF553B\",\"#00cc96\",\"#ab63fa\",\"#FFA15A\",\"#19d3f3\",\"#FF6692\",\"#B6E880\",\"#FF97FF\",\"#FECB52\"],\"font\":{\"color\":\"#f2f5fa\"},\"hovermode\":\"closest\",\"hoverlabel\":{\"align\":\"left\"},\"paper_bgcolor\":\"rgb(17,17,17)\",\"plot_bgcolor\":\"rgb(17,17,17)\",\"polar\":{\"bgcolor\":\"rgb(17,17,17)\",\"angularaxis\":{\"gridcolor\":\"#506784\",\"linecolor\":\"#506784\",\"ticks\":\"\"},\"radialaxis\":{\"gridcolor\":\"#506784\",\"linecolor\":\"#506784\",\"ticks\":\"\"}},\"ternary\":{\"bgcolor\":\"rgb(17,17,17)\",\"aaxis\":{\"gridcolor\":\"#506784\",\"linecolor\":\"#506784\",\"ticks\":\"\"},\"baxis\":{\"gridcolor\":\"#506784\",\"linecolor\":\"#506784\",\"ticks\":\"\"},\"caxis\":{\"gridcolor\":\"#506784\",\"linecolor\":\"#506784\",\"ticks\":\"\"}},\"coloraxis\":{\"colorbar\":{\"outlinewidth\":0,\"ticks\":\"\"}},\"colorscale\":{\"sequential\":[[0.0,\"#0d0887\"],[0.1111111111111111,\"#46039f\"],[0.2222222222222222,\"#7201a8\"],[0.3333333333333333,\"#9c179e\"],[0.4444444444444444,\"#bd3786\"],[0.5555555555555556,\"#d8576b\"],[0.6666666666666666,\"#ed7953\"],[0.7777777777777778,\"#fb9f3a\"],[0.8888888888888888,\"#fdca26\"],[1.0,\"#f0f921\"]],\"sequentialminus\":[[0.0,\"#0d0887\"],[0.1111111111111111,\"#46039f\"],[0.2222222222222222,\"#7201a8\"],[0.3333333333333333,\"#9c179e\"],[0.4444444444444444,\"#bd3786\"],[0.5555555555555556,\"#d8576b\"],[0.6666666666666666,\"#ed7953\"],[0.7777777777777778,\"#fb9f3a\"],[0.8888888888888888,\"#fdca26\"],[1.0,\"#f0f921\"]],\"diverging\":[[0,\"#8e0152\"],[0.1,\"#c51b7d\"],[0.2,\"#de77ae\"],[0.3,\"#f1b6da\"],[0.4,\"#fde0ef\"],[0.5,\"#f7f7f7\"],[0.6,\"#e6f5d0\"],[0.7,\"#b8e186\"],[0.8,\"#7fbc41\"],[0.9,\"#4d9221\"],[1,\"#276419\"]]},\"xaxis\":{\"gridcolor\":\"#283442\",\"linecolor\":\"#506784\",\"ticks\":\"\",\"title\":{\"standoff\":15},\"zerolinecolor\":\"#283442\",\"automargin\":true,\"zerolinewidth\":2},\"yaxis\":{\"gridcolor\":\"#283442\",\"linecolor\":\"#506784\",\"ticks\":\"\",\"title\":{\"standoff\":15},\"zerolinecolor\":\"#283442\",\"automargin\":true,\"zerolinewidth\":2},\"scene\":{\"xaxis\":{\"backgroundcolor\":\"rgb(17,17,17)\",\"gridcolor\":\"#506784\",\"linecolor\":\"#506784\",\"showbackground\":true,\"ticks\":\"\",\"zerolinecolor\":\"#C8D4E3\",\"gridwidth\":2},\"yaxis\":{\"backgroundcolor\":\"rgb(17,17,17)\",\"gridcolor\":\"#506784\",\"linecolor\":\"#506784\",\"showbackground\":true,\"ticks\":\"\",\"zerolinecolor\":\"#C8D4E3\",\"gridwidth\":2},\"zaxis\":{\"backgroundcolor\":\"rgb(17,17,17)\",\"gridcolor\":\"#506784\",\"linecolor\":\"#506784\",\"showbackground\":true,\"ticks\":\"\",\"zerolinecolor\":\"#C8D4E3\",\"gridwidth\":2}},\"shapedefaults\":{\"line\":{\"color\":\"#f2f5fa\"}},\"annotationdefaults\":{\"arrowcolor\":\"#f2f5fa\",\"arrowhead\":0,\"arrowwidth\":1},\"geo\":{\"bgcolor\":\"rgb(17,17,17)\",\"landcolor\":\"rgb(17,17,17)\",\"subunitcolor\":\"#506784\",\"showland\":true,\"showlakes\":true,\"lakecolor\":\"rgb(17,17,17)\"},\"title\":{\"x\":0.05},\"updatemenudefaults\":{\"bgcolor\":\"#506784\",\"borderwidth\":0},\"sliderdefaults\":{\"bgcolor\":\"#C8D4E3\",\"borderwidth\":1,\"bordercolor\":\"rgb(17,17,17)\",\"tickwidth\":0},\"mapbox\":{\"style\":\"dark\"}}}},                        {\"responsive\": true}                    ).then(function(){\n",
       "                            \n",
       "var gd = document.getElementById('a225ab0e-e663-4320-9357-fe7335231ad0');\n",
       "var x = new MutationObserver(function (mutations, observer) {{\n",
       "        var display = window.getComputedStyle(gd).display;\n",
       "        if (!display || display === 'none') {{\n",
       "            console.log([gd, 'removed!']);\n",
       "            Plotly.purge(gd);\n",
       "            observer.disconnect();\n",
       "        }}\n",
       "}});\n",
       "\n",
       "// Listen for the removal of the full notebook cells\n",
       "var notebookContainer = gd.closest('#notebook-container');\n",
       "if (notebookContainer) {{\n",
       "    x.observe(notebookContainer, {childList: true});\n",
       "}}\n",
       "\n",
       "// Listen for the clearing of the current output cell\n",
       "var outputEl = gd.closest('.output');\n",
       "if (outputEl) {{\n",
       "    x.observe(outputEl, {childList: true});\n",
       "}}\n",
       "\n",
       "                        })                };                });            </script>        </div>"
      ]
     },
     "metadata": {},
     "output_type": "display_data"
    }
   ],
   "execution_count": 8
  },
  {
   "metadata": {},
   "cell_type": "markdown",
   "source": [
    "### Bilinear Interpolation\n",
    "We have generated the grid and filled it with the possible option values. However, if we have to estimate option value or its derivatives on the mesh points, how can we estimate the value at points in between? The simplest way is to do a two-dimensional interpolation method called Bilinear Interpolation.\n",
    "\n",
    "\n",
    "The option value can be estimated using the values from the nearest neighbouring values. Assume V1,V2,V3 and V4 are the option values from the nearest neighbour and A1,A2,A3 and A4 are the areas of the rectangles made by the four corners and the interior points, we can approximate the option value at the interior points as"
   ],
   "id": "2c95700ab0c45ca"
  },
  {
   "metadata": {
    "ExecuteTime": {
     "end_time": "2024-08-23T15:37:38.481658Z",
     "start_time": "2024-08-23T15:37:38.476875Z"
    }
   },
   "cell_type": "code",
   "source": [
    "def bilinear_interpolation(asset_price, ttm, df):\n",
    "\n",
    "    # Find relevant rows and columns\n",
    "    col1 = df.columns[df.columns > ttm][-1]\n",
    "    col2 = df.columns[df.columns <= ttm][0]\n",
    "    row1 = df.index[df.index < asset_price,][-1]\n",
    "    row2 = df.index[df.index >= asset_price,][0]\n",
    "   \n",
    "    # Define points and areas\n",
    "    V = [df.loc[row1, col1], df.loc[row1, col2],\n",
    "           df.loc[row2, col2], df.loc[row2, col1]]\n",
    "                      \n",
    "    A = [(row2 - asset_price) * (col2 - ttm),\n",
    "           (row2 - asset_price) * (ttm - col1),\n",
    "           (asset_price - row1) * (ttm - col1),\n",
    "           (asset_price - row1) * (col2 - ttm)]\n",
    "   \n",
    "    # Interpolate values\n",
    "    return np.sum(np.array(V)*np.array(A))/sum(np.array(A))"
   ],
   "id": "524a0b5315329eaf",
   "outputs": [],
   "execution_count": 9
  },
  {
   "metadata": {
    "ExecuteTime": {
     "end_time": "2024-08-23T15:37:49.085546Z",
     "start_time": "2024-08-23T15:37:49.081494Z"
    }
   },
   "cell_type": "code",
   "source": [
    "# Option value, approximated\n",
    "bilinear_interpolation(115,0.3,fdm_grid)\n",
    "# Verify rows and columns - Examples - Older version with axis flip\n",
    "# col1 = grid.columns[grid.columns > 0.3][-1]\n",
    "# col2 = grid.columns[grid.columns <= 0.3][0]\n",
    "# row1 = grid.index[grid.index < 110][-1]\n",
    "# row2 = grid.index[grid.index >= 110][0]\n",
    "\n",
    "# Nearest neighbours grid points\n",
    "# [row1,col1], [row1, col2], [row2, col2], [row2, col1]\n",
    "\n",
    "# Get option values\n",
    "# V = [grid.loc[row1,col1], grid.loc[row1,col2], grid.loc[row2, col2], grid.loc[row2, col1]]\n",
    "\n",
    "# Areas of the rectangle made by four corners and interior points\n",
    "# A = [(row2-105) * (col2-0.3),\n",
    "#      (row2-105) * (0.3-col1),\n",
    "#      (105-row1) * (0.3-col1),\n",
    "#      (105-row1) * (col2-0.3)]\n",
    "\n",
    "# Option value in mesh points, approximated\n",
    "# sum(array(V)*array(A))/sum(array(A))"
   ],
   "id": "e9daf3adaf2e0493",
   "outputs": [
    {
     "data": {
      "text/plain": [
       "16.937"
      ]
     },
     "execution_count": 10,
     "metadata": {},
     "output_type": "execute_result"
    }
   ],
   "execution_count": 10
  },
  {
   "metadata": {},
   "cell_type": "markdown",
   "source": [
    "### Convergence Analysis\n",
    "Let's now compare option pricing for various asset steps (NAS) with black scholes price."
   ],
   "id": "1f864a3a675cab00"
  },
  {
   "metadata": {
    "ExecuteTime": {
     "end_time": "2024-08-23T15:38:32.898471Z",
     "start_time": "2024-08-23T15:38:31.681528Z"
    }
   },
   "cell_type": "code",
   "source": [
    "# Iterate over asset steps (NAS)\n",
    "nas_list = [10,20,30,40,50,60]\n",
    "fdmoption = []\n",
    "for i in nas_list:\n",
    "    fdmoption.append(efdmoption(100,0.2,0.05,1,i).loc[100,1])\n",
    "fdmoption\n",
    "%load_ext autoreload\n",
    "%autoreload 2\n"
   ],
   "id": "2876db5ac8b9bc8c",
   "outputs": [
    {
     "name": "stdout",
     "output_type": "stream",
     "text": [
      "The autoreload extension is already loaded. To reload it, use:\n",
      "  %reload_ext autoreload\n"
     ]
    }
   ],
   "execution_count": 12
  },
  {
   "metadata": {},
   "cell_type": "code",
   "outputs": [],
   "execution_count": null,
   "source": "",
   "id": "a56f61e7abf46a87"
  },
  {
   "metadata": {
    "ExecuteTime": {
     "end_time": "2024-08-23T15:51:06.509Z",
     "start_time": "2024-08-23T15:51:06.399085Z"
    }
   },
   "cell_type": "code",
   "source": [
    "# Call black scholes class\n",
    "from BlackScholesModel import getcalloption\n",
    "\n",
    "# Instantiate black scholes object\n",
    "option = getcalloption(\"call\",100,100,1,0.05,0.2)\n",
    "bsoption = np.round(option.price,2)\n",
    "bsoption = bsoption.repeat(len(nas_list))\n",
    "\n",
    "# Range of option price\n",
    "bsoption\n",
    "# Subsume into dataframe\n",
    "df = pd.DataFrame(list(zip(bsoption,fdmoption)), columns=['BS', 'FDM'], index=nas_list)\n",
    "df['dev'] = df['FDM'] - df['BS']\n",
    "df['% dev'] = round(df['dev'] / df['BS'] * 100.,2)\n",
    "\n",
    "# Output\n",
    "print(\"BS - FDM Convergence over NAS\")\n",
    "df"
   ],
   "id": "3e4e66e528e3d8ab",
   "outputs": [
    {
     "name": "stdout",
     "output_type": "stream",
     "text": [
      "BS - FDM Convergence over NAS\n"
     ]
    },
    {
     "data": {
      "text/plain": [
       "       BS    FDM   dev  % dev\n",
       "10  10.45   9.51 -0.94  -9.00\n",
       "20  10.45  10.26 -0.19  -1.82\n",
       "30  10.45  10.37 -0.08  -0.77\n",
       "40  10.45  10.40 -0.05  -0.48\n",
       "50  10.45  10.42 -0.03  -0.29\n",
       "60  10.45  10.43 -0.02  -0.19"
      ],
      "text/html": [
       "<div>\n",
       "<style scoped>\n",
       "    .dataframe tbody tr th:only-of-type {\n",
       "        vertical-align: middle;\n",
       "    }\n",
       "\n",
       "    .dataframe tbody tr th {\n",
       "        vertical-align: top;\n",
       "    }\n",
       "\n",
       "    .dataframe thead th {\n",
       "        text-align: right;\n",
       "    }\n",
       "</style>\n",
       "<table border=\"1\" class=\"dataframe\">\n",
       "  <thead>\n",
       "    <tr style=\"text-align: right;\">\n",
       "      <th></th>\n",
       "      <th>BS</th>\n",
       "      <th>FDM</th>\n",
       "      <th>dev</th>\n",
       "      <th>% dev</th>\n",
       "    </tr>\n",
       "  </thead>\n",
       "  <tbody>\n",
       "    <tr>\n",
       "      <th>10</th>\n",
       "      <td>10.45</td>\n",
       "      <td>9.51</td>\n",
       "      <td>-0.94</td>\n",
       "      <td>-9.00</td>\n",
       "    </tr>\n",
       "    <tr>\n",
       "      <th>20</th>\n",
       "      <td>10.45</td>\n",
       "      <td>10.26</td>\n",
       "      <td>-0.19</td>\n",
       "      <td>-1.82</td>\n",
       "    </tr>\n",
       "    <tr>\n",
       "      <th>30</th>\n",
       "      <td>10.45</td>\n",
       "      <td>10.37</td>\n",
       "      <td>-0.08</td>\n",
       "      <td>-0.77</td>\n",
       "    </tr>\n",
       "    <tr>\n",
       "      <th>40</th>\n",
       "      <td>10.45</td>\n",
       "      <td>10.40</td>\n",
       "      <td>-0.05</td>\n",
       "      <td>-0.48</td>\n",
       "    </tr>\n",
       "    <tr>\n",
       "      <th>50</th>\n",
       "      <td>10.45</td>\n",
       "      <td>10.42</td>\n",
       "      <td>-0.03</td>\n",
       "      <td>-0.29</td>\n",
       "    </tr>\n",
       "    <tr>\n",
       "      <th>60</th>\n",
       "      <td>10.45</td>\n",
       "      <td>10.43</td>\n",
       "      <td>-0.02</td>\n",
       "      <td>-0.19</td>\n",
       "    </tr>\n",
       "  </tbody>\n",
       "</table>\n",
       "</div>"
      ]
     },
     "execution_count": 18,
     "metadata": {},
     "output_type": "execute_result"
    }
   ],
   "execution_count": 18
  },
  {
   "metadata": {},
   "cell_type": "code",
   "outputs": [],
   "execution_count": null,
   "source": "",
   "id": "12d65c31646f28cd"
  }
 ],
 "metadata": {
  "kernelspec": {
   "display_name": "Python 3",
   "language": "python",
   "name": "python3"
  },
  "language_info": {
   "codemirror_mode": {
    "name": "ipython",
    "version": 2
   },
   "file_extension": ".py",
   "mimetype": "text/x-python",
   "name": "python",
   "nbconvert_exporter": "python",
   "pygments_lexer": "ipython2",
   "version": "2.7.6"
  }
 },
 "nbformat": 4,
 "nbformat_minor": 5
}
