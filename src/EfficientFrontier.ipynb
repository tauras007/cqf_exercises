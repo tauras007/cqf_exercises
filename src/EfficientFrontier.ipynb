{
 "cells": [
  {
   "metadata": {},
   "cell_type": "markdown",
   "source": "Creating an efficient Frontier using a set of stocks on the FTSE100",
   "id": "1bdbca41b1950e11"
  },
  {
   "metadata": {},
   "cell_type": "markdown",
   "source": "Importing Libraries required for building an efficient portfolio",
   "id": "f4a977a6e99e5ebf"
  },
  {
   "metadata": {
    "ExecuteTime": {
     "end_time": "2024-07-27T10:12:29.088654Z",
     "start_time": "2024-07-27T10:12:27.989392Z"
    }
   },
   "cell_type": "code",
   "source": [
    "from src.PortfolioOptimization import PortfolioOptimization\n",
    "import datetime as dt\n",
    "import numpy as np\n",
    "import warnings\n",
    "warnings.filterwarnings('ignore')"
   ],
   "id": "12684c3967fc5885",
   "outputs": [],
   "execution_count": 2
  },
  {
   "metadata": {},
   "cell_type": "markdown",
   "source": [
    "<h3>Step1:</h3>\n",
    "<p>Import data from FTSE 100 using yahoo finance API</p>\n"
   ],
   "id": "fbd8d759e4128b64"
  },
  {
   "metadata": {
    "ExecuteTime": {
     "end_time": "2024-07-27T10:13:02.925055Z",
     "start_time": "2024-07-27T10:13:02.812289Z"
    }
   },
   "cell_type": "code",
   "source": [
    "portfolio = PortfolioOptimization()\n",
    "meanReturns, covMatrix, standardDev = portfolio.getData(['BARC.L', 'LLOY.L', 'NWG.L'], dt.datetime.now() - dt.timedelta(days=365),\n",
    "                          dt.datetime.now())\n"
   ],
   "id": "34923d367e37e79e",
   "outputs": [],
   "execution_count": 5
  },
  {
   "metadata": {},
   "cell_type": "markdown",
   "source": [
    "<p>Once the data is imported calculate the daily returns using pct_change operation</p>\n",
    "<p>Then use the daily returns to calculate the mean return i,e Average and covariance matrix</p>\n"
   ],
   "id": "6ddc0a1063afe12c"
  },
  {
   "metadata": {},
   "cell_type": "markdown",
   "source": [
    "<h4>Mean Returns\n",
    "<p>$ μ_{\\pi}  = R + w_{A}(μ_{A} - R)$</p>\n",
    "\n",
    "<p> R : Risk Free Asset </p>\n",
    "<p> $w_{A}$ : Weight in Asset A </p>\n",
    "<p> $\\mu_{A}$ : Returns of Asset A </p>"
   ],
   "id": "107a2c30e2836701"
  },
  {
   "metadata": {
    "ExecuteTime": {
     "end_time": "2024-07-27T10:13:05.519768Z",
     "start_time": "2024-07-27T10:13:05.515858Z"
    }
   },
   "cell_type": "code",
   "source": "print(meanReturns)",
   "id": "d7c38a1a86495203",
   "outputs": [
    {
     "name": "stdout",
     "output_type": "stream",
     "text": [
      "Ticker\n",
      "BARC.L    0.001917\n",
      "LLOY.L    0.001487\n",
      "NWG.L     0.001972\n",
      "dtype: float64\n"
     ]
    }
   ],
   "execution_count": 6
  },
  {
   "metadata": {},
   "cell_type": "markdown",
   "source": [
    "<h4>Covariance Matrix\n",
    "<p>$ -1 ⪆ ρ_{A}_{B} ⪅ 1 $</p>\n",
    "\n",
    "<p>-1 : Negatively Correlated</p>\n",
    "<p>0  : No Correlation</p>\n",
    "<p>1  : Positively Correlated</p>"
   ],
   "id": "ab81ee013e490257"
  },
  {
   "metadata": {
    "ExecuteTime": {
     "end_time": "2024-07-27T10:13:06.824831Z",
     "start_time": "2024-07-27T10:13:06.820812Z"
    }
   },
   "cell_type": "code",
   "source": "print(covMatrix)",
   "id": "38f53d46c4aacbbd",
   "outputs": [
    {
     "name": "stdout",
     "output_type": "stream",
     "text": [
      "Ticker    BARC.L    LLOY.L     NWG.L\n",
      "Ticker                              \n",
      "BARC.L  0.000293  0.000133  0.000174\n",
      "LLOY.L  0.000133  0.000175  0.000149\n",
      "NWG.L   0.000174  0.000149  0.000306\n"
     ]
    }
   ],
   "execution_count": 7
  },
  {
   "metadata": {},
   "cell_type": "markdown",
   "source": [
    "<H4> Performance of the Portfolio $\\pi$\n",
    "\n",
    "<h3>Budget Equation</h3>\n",
    "$ \\text{Total Weight} = w_{1} + w_{2} + .... + w_{n}$\n",
    "\n",
    "<p>The performance of the portfolio can be measured by its mean returns μ divided by its variance σ where \n",
    "\n",
    "<h3> Returns </h3>\n",
    "<p>$\\mu = w_{1}\\mu_{1} + w_{2}\\mu_{2} + ... + w_{n}\\mu_{n}$</p>\n",
    "<H3> Variance </h3>\n",
    "<p>$\\sigma = w_{T}\\sum_{}^{}w$</p>\n",
    "<p>$\\sigma_{\\pi} = \\sqrt{w_{A}^{2}σ_{A}^{2} + w_{B}^{2}\\sigma_{B}^{2} + 2w_{A}w_{B}ρ_{A}_{B}σ_{A}σ_{B}}$</p>\n",
    "\n",
    "<p>$\\begin{array} {lcl} \n",
    "\\sum_{}^{} : \\text{Covariance Matrix} \\\\\n",
    "w_{i} : \\text{Weights per Asset}\n",
    "\\end{array}$</p>"
   ],
   "id": "90291742faaee990"
  },
  {
   "metadata": {
    "ExecuteTime": {
     "end_time": "2024-07-27T10:13:11.139836Z",
     "start_time": "2024-07-27T10:13:11.135987Z"
    }
   },
   "cell_type": "code",
   "source": "print(standardDev)",
   "id": "912b68045d91ed31",
   "outputs": [
    {
     "name": "stdout",
     "output_type": "stream",
     "text": [
      "Ticker\n",
      "BARC.L    0.017111\n",
      "LLOY.L    0.013237\n",
      "NWG.L     0.017498\n",
      "dtype: float64\n"
     ]
    }
   ],
   "execution_count": 8
  },
  {
   "metadata": {
    "ExecuteTime": {
     "end_time": "2024-07-27T11:42:31.481667Z",
     "start_time": "2024-07-27T11:42:31.475135Z"
    }
   },
   "cell_type": "code",
   "source": [
    "numAssets = len(meanReturns)\n",
    "weights = np.array([0.3,0.2,0.2])\n",
    "portfolio.portfolioPerformance(weights,meanReturns, covMatrix)"
   ],
   "id": "70cc5b42a800d9b2",
   "outputs": [
    {
     "name": "stdout",
     "output_type": "stream",
     "text": [
      "Allocation:  [0.3333333333333333, 0.3333333333333333, 0.3333333333333333]\n"
     ]
    },
    {
     "data": {
      "text/plain": [
       "(0.31925456025271903, 0.15418967179659446)"
      ]
     },
     "execution_count": 17,
     "metadata": {},
     "output_type": "execute_result"
    }
   ],
   "execution_count": 17
  },
  {
   "metadata": {},
   "cell_type": "markdown",
   "source": [
    "<h3>Sharpe Ratio</h3>\n",
    "<p>Sharpe ratio is a measure of the portfolio's performance</p>\n",
    "\n",
    "$$S_{a} = -\\left( \\frac{\\mu_{c}-R}{\\sigma_{c}} \\right) $$\n",
    "\n",
    "\\begin{array} {lcl} \n",
    "S_{a} : \\text{Sharpe ratio} \\\\\n",
    "\\mu_{c}: \\text{mean return of investment c}\\\\\n",
    "R : \\text{Risk free  rate} \\\\\n",
    "\\sigma_{c} : \\text{standard deviation of investment in c }\\\\ \n",
    "\\end{array}"
   ],
   "id": "3783cb30dc50cad1"
  },
  {
   "metadata": {
    "ExecuteTime": {
     "end_time": "2024-07-27T10:17:13.503864Z",
     "start_time": "2024-07-27T10:17:13.499463Z"
    }
   },
   "cell_type": "code",
   "source": "portfolio.negativeSharpeRatio(weights,meanReturns, covMatrix,0.7)",
   "id": "cad50ea827e3877f",
   "outputs": [
    {
     "data": {
      "text/plain": [
       "2.4693316699548897"
      ]
     },
     "execution_count": 11,
     "metadata": {},
     "output_type": "execute_result"
    }
   ],
   "execution_count": 11
  },
  {
   "metadata": {},
   "cell_type": "markdown",
   "source": [
    "<H3> Negative Sharpe Ratio </h3>\n",
    "<p> Negative sharpe ratio is used since there is no maximize function in python, thus we use the negative sharpe ratio and use the minimize function"
   ],
   "id": "23d7901487b809c5"
  },
  {
   "metadata": {
    "ExecuteTime": {
     "end_time": "2024-07-27T10:17:35.694661Z",
     "start_time": "2024-07-27T10:17:35.690757Z"
    }
   },
   "cell_type": "code",
   "source": "portfolio.negativeSharpeRatio(weights,meanReturns, covMatrix, 0.7)",
   "id": "5f95b7f2826d75ee",
   "outputs": [
    {
     "data": {
      "text/plain": [
       "2.4693316699548897"
      ]
     },
     "execution_count": 12,
     "metadata": {},
     "output_type": "execute_result"
    }
   ],
   "execution_count": 12
  },
  {
   "metadata": {},
   "cell_type": "markdown",
   "source": [
    "<h3> Max Sharpe Ratio</h3>\n",
    "<p>As mentioned above the negative sharpe ratio is minimized to get the Max Sharpe ratio using SCIPY.Optimize using the SLSQP algorithm</p>\n",
    "<p>$x_{}$ is Max optimized weights for the portfolio"
   ],
   "id": "4226361619a87c71"
  },
  {
   "metadata": {
    "ExecuteTime": {
     "end_time": "2024-07-27T10:17:48.970719Z",
     "start_time": "2024-07-27T10:17:48.964013Z"
    }
   },
   "cell_type": "code",
   "source": "portfolio.maxSharpeRatio(meanReturns, covMatrix, 0.7)",
   "id": "40fde79b6f8d7329",
   "outputs": [
    {
     "data": {
      "text/plain": [
       " message: Optimization terminated successfully\n",
       " success: True\n",
       "  status: 0\n",
       "     fun: 0.730658956883824\n",
       "       x: [ 0.000e+00  6.349e-16  1.000e+00]\n",
       "     nit: 4\n",
       "     jac: [-2.154e+00 -1.704e+00 -2.520e+00]\n",
       "    nfev: 16\n",
       "    njev: 4"
      ]
     },
     "execution_count": 14,
     "metadata": {},
     "output_type": "execute_result"
    }
   ],
   "execution_count": 14
  },
  {
   "metadata": {},
   "cell_type": "markdown",
   "source": [
    "<H3>Global Minimum Variance</h3>\n",
    "<p>Global Mimimum variance is to get maximum return over risk free rate with the lowest level of risk</p>"
   ],
   "id": "1bb3ec13add823bd"
  },
  {
   "metadata": {
    "ExecuteTime": {
     "end_time": "2024-07-27T10:18:09.478973Z",
     "start_time": "2024-07-27T10:18:09.468958Z"
    }
   },
   "cell_type": "code",
   "source": "portfolio.minimizeVariance(meanReturns, covMatrix)",
   "id": "f7f23f94db018fd0",
   "outputs": [
    {
     "data": {
      "text/plain": [
       " message: Optimization terminated successfully\n",
       " success: True\n",
       "  status: 0\n",
       "     fun: 0.204200329342116\n",
       "       x: [ 1.858e-01  7.397e-01  7.451e-02]\n",
       "     nit: 5\n",
       "     jac: [ 2.045e-01  2.041e-01  2.040e-01]\n",
       "    nfev: 20\n",
       "    njev: 5"
      ]
     },
     "execution_count": 15,
     "metadata": {},
     "output_type": "execute_result"
    }
   ],
   "execution_count": 15
  },
  {
   "metadata": {},
   "cell_type": "markdown",
   "source": [
    "<h3>Efficient frontier</h3>\n",
    "<p> Efficient frontier is between the global Mimimum variance portfolio and Max Sharpe ratio portfolio"
   ],
   "id": "a0dfb250fead4cf5"
  },
  {
   "metadata": {},
   "cell_type": "code",
   "source": "portfolio.minimizeVariance(meanReturns, covMatrix)",
   "id": "915d574850eb8404",
   "outputs": [],
   "execution_count": null
  },
  {
   "metadata": {},
   "cell_type": "code",
   "source": "portfolio.calculatedResults(meanReturns, covMatrix)",
   "id": "16cf69b2a87a20f9",
   "outputs": [],
   "execution_count": null
  },
  {
   "metadata": {},
   "cell_type": "code",
   "source": "portfolio.EE_Graph(meanReturns, covMatrix,0.7)",
   "id": "fa4f20a350b7e90b",
   "outputs": [],
   "execution_count": null
  },
  {
   "metadata": {},
   "cell_type": "code",
   "source": "",
   "id": "a9b3f7b0de6ea9d0",
   "outputs": [],
   "execution_count": null
  },
  {
   "metadata": {},
   "cell_type": "code",
   "source": "",
   "id": "cd52f8dfcda6f893",
   "execution_count": null,
   "outputs": []
  }
 ],
 "metadata": {
  "kernelspec": {
   "display_name": "Python 3",
   "language": "python",
   "name": "python3"
  },
  "language_info": {
   "codemirror_mode": {
    "name": "ipython",
    "version": 2
   },
   "file_extension": ".py",
   "mimetype": "text/x-python",
   "name": "python",
   "nbconvert_exporter": "python",
   "pygments_lexer": "ipython2",
   "version": "2.7.6"
  }
 },
 "nbformat": 4,
 "nbformat_minor": 5
}
