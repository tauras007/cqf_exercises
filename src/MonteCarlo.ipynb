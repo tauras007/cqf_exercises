{
 "cells": [
  {
   "metadata": {},
   "cell_type": "markdown",
   "source": [
    "### Monte Carlo Approach\n",
    "<p>Monte Carlo methods are any process that consumes random numbers. These are part of computational algorithms which are based on random sampling to obtain numerical results. Monte Carlo methods are proved to be a very valuable and flexible computational tool in finance and is one of the most widely used methods for optimization and numerical integration problems.</p>\n",
    "\n",
    "These methods are widely used in high dimensional problems; pricing exotics and complex derivatives where closed form solutions are not directly available. Monte Carlo methods are not just adapted in pricing complex derivatives, It is also extensively used in estimating the portfolio risk such as Value-at-Risk and Expected Shortfall and used in the calculation of worst-case scenarios in stress testing. The downside to that is, it is very computational intensive and demanding.\n",
    "\n",
    "### Monte Carlo Simulation\n",
    "A method of estimating the value of an unknown quantity using the principles of inferential statistics.\n",
    "\n",
    "We take the population and then we sample it by drawing a proper subset. And then we make an inference about the population based upon some set of statistics we do on the sample.\n",
    "\n",
    "And, the key fact that makes them work, that if we choose the sample at random, the sample will tend to exhibit the same properties as the population from which it is drawn.\n",
    "\n",
    "### Option Pricing Techniques\n",
    "As with other option pricing techniques Monte Carlo methods are used to price options using what is essentially a three step process.\n",
    "\n",
    "Step 1: Simulate potential price paths of the underlying asset.\n",
    "Step 2: Calculate the option payoff for each of these price paths.\n",
    "Step 3: Average the payoff and discount back to today to determine the option price.\n",
    "\n",
    "### Simulating Asset Prices\n",
    "Next, we will simulate the asset price at maturity \n",
    "S\n",
    "T\n",
    ". Following Black-Scholes-Merton where the underlying follows under risk neutrality, a geometric Brownian motion with a stochastic differential equation (SDE) is given as\n",
    "\n",
    "$$ dS_{t} = rS_{t}dt + σ S_{t}W_{t} $$\n",
    "where S_{t} is the price of the underlying at time $t$, σ is constant volatility, $r$ is the constant risk-free interest rate and $W$ is the brownian motion.\n",
    "Applying Euler discretization of SDE, we get\n",
    "\n",
    "$$S_{t+δt} =S_{t} ∗ (1 + r\\delta t + σ\\sqrt{δtw_{t}}$$\n",
    "It is often more convenient to express in time stepping form\n",
    "\n",
    "$$S_{t+δt} =S_{t}exp^((r - \\frac{1}{2} \\sigma^2)δt + σ\\sqrt{δtw_{t}}$$\n",
    "\n",
    "The variable w is a standard normally distributed random variable, 0 < δt < T, time interval. It also holds 0 < t ≤ T with T the final time horizon.\n",
    "\n",
    "Generate Price Paths\n",
    "Simulating price paths plays an important role in the valuation of derivatives and it is always prudent to create a separate path function."
   ],
   "id": "46c75abb97a36f95"
  },
  {
   "metadata": {},
   "cell_type": "code",
   "outputs": [],
   "execution_count": null,
   "source": "",
   "id": "7d578834554716d"
  }
 ],
 "metadata": {
  "kernelspec": {
   "display_name": "Python 3",
   "language": "python",
   "name": "python3"
  },
  "language_info": {
   "codemirror_mode": {
    "name": "ipython",
    "version": 2
   },
   "file_extension": ".py",
   "mimetype": "text/x-python",
   "name": "python",
   "nbconvert_exporter": "python",
   "pygments_lexer": "ipython2",
   "version": "2.7.6"
  }
 },
 "nbformat": 4,
 "nbformat_minor": 5
}
